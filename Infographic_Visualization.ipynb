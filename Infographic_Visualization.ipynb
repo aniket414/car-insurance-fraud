{
  "nbformat": 4,
  "nbformat_minor": 5,
  "metadata": {
    "kernelspec": {
      "display_name": "Python 3",
      "language": "python",
      "name": "python3"
    },
    "language_info": {
      "codemirror_mode": {
        "name": "ipython",
        "version": 3
      },
      "file_extension": ".py",
      "mimetype": "text/x-python",
      "name": "python",
      "nbconvert_exporter": "python",
      "pygments_lexer": "ipython3",
      "version": "3.8.8"
    },
    "colab": {
      "name": "Infographic_Visualization.ipynb",
      "provenance": [],
      "collapsed_sections": [
        "eca3c3a0"
      ]
    }
  },
  "cells": [
    {
      "cell_type": "code",
      "metadata": {
        "id": "2b36c13f-330d-4cfa-b3ff-7eb1a8b859f9"
      },
      "source": [
        "import pandas as pd\n",
        "import numpy as np\n",
        "from sklearn.metrics import confusion_matrix\n",
        "from sklearn.metrics import accuracy_score\n",
        "from sklearn.metrics import f1_score\n",
        "from sklearn import svm\n",
        "from sklearn.model_selection import train_test_split\n",
        "import matplotlib.pyplot as plt\n",
        "import seaborn as sns"
      ],
      "id": "2b36c13f-330d-4cfa-b3ff-7eb1a8b859f9",
      "execution_count": 1,
      "outputs": []
    },
    {
      "cell_type": "code",
      "metadata": {
        "id": "16f1eef7-0b75-4e53-8241-cbf566a2b1e0"
      },
      "source": [
        "customers = pd.read_excel('Dataset/Dataset.xlsx',\n",
        "                          sheet_name=0,\n",
        "                          header=0,\n",
        "                          index_col=False,\n",
        "                          keep_default_na=True)"
      ],
      "id": "16f1eef7-0b75-4e53-8241-cbf566a2b1e0",
      "execution_count": 2,
      "outputs": []
    },
    {
      "cell_type": "code",
      "metadata": {
        "colab": {
          "base_uri": "https://localhost:8080/",
          "height": 309
        },
        "id": "32f6e9ea-c9cb-43ae-8a3c-a8de1f9bce95",
        "outputId": "8691f647-e650-4b00-d3d2-3c072f99ace3"
      },
      "source": [
        "customers.head()"
      ],
      "id": "32f6e9ea-c9cb-43ae-8a3c-a8de1f9bce95",
      "execution_count": 3,
      "outputs": [
        {
          "output_type": "execute_result",
          "data": {
            "text/html": [
              "<div>\n",
              "<style scoped>\n",
              "    .dataframe tbody tr th:only-of-type {\n",
              "        vertical-align: middle;\n",
              "    }\n",
              "\n",
              "    .dataframe tbody tr th {\n",
              "        vertical-align: top;\n",
              "    }\n",
              "\n",
              "    .dataframe thead th {\n",
              "        text-align: right;\n",
              "    }\n",
              "</style>\n",
              "<table border=\"1\" class=\"dataframe\">\n",
              "  <thead>\n",
              "    <tr style=\"text-align: right;\">\n",
              "      <th></th>\n",
              "      <th>Month</th>\n",
              "      <th>WeekOfMonth</th>\n",
              "      <th>DayOfWeek</th>\n",
              "      <th>Make</th>\n",
              "      <th>AccidentArea</th>\n",
              "      <th>DayOfWeekClaimed</th>\n",
              "      <th>MonthClaimed</th>\n",
              "      <th>WeekOfMonthClaimed</th>\n",
              "      <th>Sex</th>\n",
              "      <th>MaritalStatus</th>\n",
              "      <th>Age</th>\n",
              "      <th>Fault</th>\n",
              "      <th>PolicyType</th>\n",
              "      <th>VehicleCategory</th>\n",
              "      <th>VehiclePrice</th>\n",
              "      <th>FraudFound_P</th>\n",
              "      <th>PolicyNumber</th>\n",
              "      <th>RepNumber</th>\n",
              "      <th>Deductible</th>\n",
              "      <th>DriverRating</th>\n",
              "      <th>Days_Policy_Accident</th>\n",
              "      <th>Days_Policy_Claim</th>\n",
              "      <th>PastNumberOfClaims</th>\n",
              "      <th>AgeOfVehicle</th>\n",
              "      <th>AgeOfPolicyHolder</th>\n",
              "      <th>PoliceReportFiled</th>\n",
              "      <th>WitnessPresent</th>\n",
              "      <th>AgentType</th>\n",
              "      <th>NumberOfSuppliments</th>\n",
              "      <th>AddressChange_Claim</th>\n",
              "      <th>NumberOfCars</th>\n",
              "      <th>Year</th>\n",
              "      <th>BasePolicy</th>\n",
              "      <th>ClaimSize</th>\n",
              "    </tr>\n",
              "  </thead>\n",
              "  <tbody>\n",
              "    <tr>\n",
              "      <th>0</th>\n",
              "      <td>Dec</td>\n",
              "      <td>5</td>\n",
              "      <td>Wednesday</td>\n",
              "      <td>Honda</td>\n",
              "      <td>Urban</td>\n",
              "      <td>Tuesday</td>\n",
              "      <td>Jan</td>\n",
              "      <td>1</td>\n",
              "      <td>Female</td>\n",
              "      <td>Single</td>\n",
              "      <td>21.0</td>\n",
              "      <td>Policy Holder</td>\n",
              "      <td>Sport - Liability</td>\n",
              "      <td>Sport</td>\n",
              "      <td>more than 69000</td>\n",
              "      <td>0</td>\n",
              "      <td>1</td>\n",
              "      <td>12</td>\n",
              "      <td>300</td>\n",
              "      <td>1.0</td>\n",
              "      <td>more than 30</td>\n",
              "      <td>more than 30</td>\n",
              "      <td>none</td>\n",
              "      <td>3 years</td>\n",
              "      <td>26 to 30</td>\n",
              "      <td>No</td>\n",
              "      <td>No</td>\n",
              "      <td>External</td>\n",
              "      <td>none</td>\n",
              "      <td>1 year</td>\n",
              "      <td>3 to 4</td>\n",
              "      <td>1994</td>\n",
              "      <td>Liability</td>\n",
              "      <td>55526.069421</td>\n",
              "    </tr>\n",
              "    <tr>\n",
              "      <th>1</th>\n",
              "      <td>Jan</td>\n",
              "      <td>3</td>\n",
              "      <td>Wednesday</td>\n",
              "      <td>Honda</td>\n",
              "      <td>Urban</td>\n",
              "      <td>Monday</td>\n",
              "      <td>Jan</td>\n",
              "      <td>4</td>\n",
              "      <td>Male</td>\n",
              "      <td>Single</td>\n",
              "      <td>34.0</td>\n",
              "      <td>Policy Holder</td>\n",
              "      <td>Sport - Collision</td>\n",
              "      <td>Sport</td>\n",
              "      <td>more than 69000</td>\n",
              "      <td>0</td>\n",
              "      <td>2</td>\n",
              "      <td>15</td>\n",
              "      <td>400</td>\n",
              "      <td>4.0</td>\n",
              "      <td>more than 30</td>\n",
              "      <td>more than 30</td>\n",
              "      <td>none</td>\n",
              "      <td>6 years</td>\n",
              "      <td>31 to 35</td>\n",
              "      <td>Yes</td>\n",
              "      <td>No</td>\n",
              "      <td>External</td>\n",
              "      <td>none</td>\n",
              "      <td>no change</td>\n",
              "      <td>1 vehicle</td>\n",
              "      <td>1994</td>\n",
              "      <td>Collision</td>\n",
              "      <td>59294.455571</td>\n",
              "    </tr>\n",
              "    <tr>\n",
              "      <th>2</th>\n",
              "      <td>Oct</td>\n",
              "      <td>5</td>\n",
              "      <td>Friday</td>\n",
              "      <td>Honda</td>\n",
              "      <td>Urban</td>\n",
              "      <td>Thursday</td>\n",
              "      <td>Nov</td>\n",
              "      <td>2</td>\n",
              "      <td>Male</td>\n",
              "      <td>Married</td>\n",
              "      <td>47.0</td>\n",
              "      <td>Policy Holder</td>\n",
              "      <td>Sport - Collision</td>\n",
              "      <td>Sport</td>\n",
              "      <td>more than 69000</td>\n",
              "      <td>0</td>\n",
              "      <td>3</td>\n",
              "      <td>7</td>\n",
              "      <td>400</td>\n",
              "      <td>3.0</td>\n",
              "      <td>more than 30</td>\n",
              "      <td>more than 30</td>\n",
              "      <td>1</td>\n",
              "      <td>7 years</td>\n",
              "      <td>41 to 50</td>\n",
              "      <td>No</td>\n",
              "      <td>No</td>\n",
              "      <td>External</td>\n",
              "      <td>none</td>\n",
              "      <td>no change</td>\n",
              "      <td>1 vehicle</td>\n",
              "      <td>1994</td>\n",
              "      <td>Collision</td>\n",
              "      <td>71756.941320</td>\n",
              "    </tr>\n",
              "    <tr>\n",
              "      <th>3</th>\n",
              "      <td>Jun</td>\n",
              "      <td>2</td>\n",
              "      <td>Saturday</td>\n",
              "      <td>Toyota</td>\n",
              "      <td>Rural</td>\n",
              "      <td>Friday</td>\n",
              "      <td>Jul</td>\n",
              "      <td>1</td>\n",
              "      <td>Male</td>\n",
              "      <td>Married</td>\n",
              "      <td>65.0</td>\n",
              "      <td>Third Party</td>\n",
              "      <td>Sedan - Liability</td>\n",
              "      <td>Sport</td>\n",
              "      <td>20000 to 29000</td>\n",
              "      <td>0</td>\n",
              "      <td>4</td>\n",
              "      <td>4</td>\n",
              "      <td>400</td>\n",
              "      <td>2.0</td>\n",
              "      <td>more than 30</td>\n",
              "      <td>more than 30</td>\n",
              "      <td>1</td>\n",
              "      <td>more than 7</td>\n",
              "      <td>51 to 65</td>\n",
              "      <td>Yes</td>\n",
              "      <td>No</td>\n",
              "      <td>External</td>\n",
              "      <td>more than 5</td>\n",
              "      <td>no change</td>\n",
              "      <td>1 vehicle</td>\n",
              "      <td>1994</td>\n",
              "      <td>Liability</td>\n",
              "      <td>7584.153493</td>\n",
              "    </tr>\n",
              "    <tr>\n",
              "      <th>4</th>\n",
              "      <td>Feb</td>\n",
              "      <td>1</td>\n",
              "      <td>Saturday</td>\n",
              "      <td>Honda</td>\n",
              "      <td>Urban</td>\n",
              "      <td>Monday</td>\n",
              "      <td>Feb</td>\n",
              "      <td>3</td>\n",
              "      <td>Male</td>\n",
              "      <td>Married</td>\n",
              "      <td>36.0</td>\n",
              "      <td>Third Party</td>\n",
              "      <td>Sport - Collision</td>\n",
              "      <td>Sport</td>\n",
              "      <td>more than 69000</td>\n",
              "      <td>0</td>\n",
              "      <td>7</td>\n",
              "      <td>14</td>\n",
              "      <td>400</td>\n",
              "      <td>1.0</td>\n",
              "      <td>more than 30</td>\n",
              "      <td>more than 30</td>\n",
              "      <td>1</td>\n",
              "      <td>7 years</td>\n",
              "      <td>36 to 40</td>\n",
              "      <td>No</td>\n",
              "      <td>No</td>\n",
              "      <td>External</td>\n",
              "      <td>1 to 2</td>\n",
              "      <td>no change</td>\n",
              "      <td>1 vehicle</td>\n",
              "      <td>1994</td>\n",
              "      <td>Collision</td>\n",
              "      <td>98545.374339</td>\n",
              "    </tr>\n",
              "  </tbody>\n",
              "</table>\n",
              "</div>"
            ],
            "text/plain": [
              "  Month  WeekOfMonth  DayOfWeek  ...  Year BasePolicy     ClaimSize\n",
              "0   Dec            5  Wednesday  ...  1994  Liability  55526.069421\n",
              "1   Jan            3  Wednesday  ...  1994  Collision  59294.455571\n",
              "2   Oct            5     Friday  ...  1994  Collision  71756.941320\n",
              "3   Jun            2   Saturday  ...  1994  Liability   7584.153493\n",
              "4   Feb            1   Saturday  ...  1994  Collision  98545.374339\n",
              "\n",
              "[5 rows x 34 columns]"
            ]
          },
          "metadata": {},
          "execution_count": 3
        }
      ]
    },
    {
      "cell_type": "code",
      "metadata": {
        "colab": {
          "base_uri": "https://localhost:8080/",
          "height": 297
        },
        "id": "ImUvXZtj7iN7",
        "outputId": "5720a7cb-a75e-4fb5-df7a-747a5262c99e"
      },
      "source": [
        "customers.describe()"
      ],
      "id": "ImUvXZtj7iN7",
      "execution_count": 4,
      "outputs": [
        {
          "output_type": "execute_result",
          "data": {
            "text/html": [
              "<div>\n",
              "<style scoped>\n",
              "    .dataframe tbody tr th:only-of-type {\n",
              "        vertical-align: middle;\n",
              "    }\n",
              "\n",
              "    .dataframe tbody tr th {\n",
              "        vertical-align: top;\n",
              "    }\n",
              "\n",
              "    .dataframe thead th {\n",
              "        text-align: right;\n",
              "    }\n",
              "</style>\n",
              "<table border=\"1\" class=\"dataframe\">\n",
              "  <thead>\n",
              "    <tr style=\"text-align: right;\">\n",
              "      <th></th>\n",
              "      <th>WeekOfMonth</th>\n",
              "      <th>WeekOfMonthClaimed</th>\n",
              "      <th>Age</th>\n",
              "      <th>FraudFound_P</th>\n",
              "      <th>PolicyNumber</th>\n",
              "      <th>RepNumber</th>\n",
              "      <th>Deductible</th>\n",
              "      <th>DriverRating</th>\n",
              "      <th>Year</th>\n",
              "      <th>ClaimSize</th>\n",
              "    </tr>\n",
              "  </thead>\n",
              "  <tbody>\n",
              "    <tr>\n",
              "      <th>count</th>\n",
              "      <td>11565.000000</td>\n",
              "      <td>11565.000000</td>\n",
              "      <td>11560.000000</td>\n",
              "      <td>11565.000000</td>\n",
              "      <td>11565.000000</td>\n",
              "      <td>11565.000000</td>\n",
              "      <td>11565.000000</td>\n",
              "      <td>11559.000000</td>\n",
              "      <td>11565.000000</td>\n",
              "      <td>11565.000000</td>\n",
              "    </tr>\n",
              "    <tr>\n",
              "      <th>mean</th>\n",
              "      <td>2.784003</td>\n",
              "      <td>2.701167</td>\n",
              "      <td>39.899567</td>\n",
              "      <td>0.059230</td>\n",
              "      <td>7710.474449</td>\n",
              "      <td>8.469780</td>\n",
              "      <td>407.617812</td>\n",
              "      <td>2.493468</td>\n",
              "      <td>1994.865975</td>\n",
              "      <td>22955.978035</td>\n",
              "    </tr>\n",
              "    <tr>\n",
              "      <th>std</th>\n",
              "      <td>1.284854</td>\n",
              "      <td>1.258153</td>\n",
              "      <td>13.590556</td>\n",
              "      <td>0.236066</td>\n",
              "      <td>4453.762219</td>\n",
              "      <td>4.618952</td>\n",
              "      <td>43.397393</td>\n",
              "      <td>1.118102</td>\n",
              "      <td>0.801798</td>\n",
              "      <td>26988.811719</td>\n",
              "    </tr>\n",
              "    <tr>\n",
              "      <th>min</th>\n",
              "      <td>1.000000</td>\n",
              "      <td>1.000000</td>\n",
              "      <td>0.000000</td>\n",
              "      <td>0.000000</td>\n",
              "      <td>1.000000</td>\n",
              "      <td>1.000000</td>\n",
              "      <td>300.000000</td>\n",
              "      <td>1.000000</td>\n",
              "      <td>1994.000000</td>\n",
              "      <td>0.000000</td>\n",
              "    </tr>\n",
              "    <tr>\n",
              "      <th>25%</th>\n",
              "      <td>2.000000</td>\n",
              "      <td>2.000000</td>\n",
              "      <td>31.000000</td>\n",
              "      <td>0.000000</td>\n",
              "      <td>3851.000000</td>\n",
              "      <td>4.000000</td>\n",
              "      <td>400.000000</td>\n",
              "      <td>1.000000</td>\n",
              "      <td>1994.000000</td>\n",
              "      <td>4148.845001</td>\n",
              "    </tr>\n",
              "    <tr>\n",
              "      <th>50%</th>\n",
              "      <td>3.000000</td>\n",
              "      <td>3.000000</td>\n",
              "      <td>38.000000</td>\n",
              "      <td>0.000000</td>\n",
              "      <td>7712.000000</td>\n",
              "      <td>8.000000</td>\n",
              "      <td>400.000000</td>\n",
              "      <td>3.000000</td>\n",
              "      <td>1995.000000</td>\n",
              "      <td>8130.994563</td>\n",
              "    </tr>\n",
              "    <tr>\n",
              "      <th>75%</th>\n",
              "      <td>4.000000</td>\n",
              "      <td>4.000000</td>\n",
              "      <td>49.000000</td>\n",
              "      <td>0.000000</td>\n",
              "      <td>11542.000000</td>\n",
              "      <td>12.000000</td>\n",
              "      <td>400.000000</td>\n",
              "      <td>3.000000</td>\n",
              "      <td>1996.000000</td>\n",
              "      <td>46299.646944</td>\n",
              "    </tr>\n",
              "    <tr>\n",
              "      <th>max</th>\n",
              "      <td>5.000000</td>\n",
              "      <td>5.000000</td>\n",
              "      <td>80.000000</td>\n",
              "      <td>1.000000</td>\n",
              "      <td>15420.000000</td>\n",
              "      <td>16.000000</td>\n",
              "      <td>700.000000</td>\n",
              "      <td>4.000000</td>\n",
              "      <td>1996.000000</td>\n",
              "      <td>141394.159289</td>\n",
              "    </tr>\n",
              "  </tbody>\n",
              "</table>\n",
              "</div>"
            ],
            "text/plain": [
              "        WeekOfMonth  WeekOfMonthClaimed  ...          Year      ClaimSize\n",
              "count  11565.000000        11565.000000  ...  11565.000000   11565.000000\n",
              "mean       2.784003            2.701167  ...   1994.865975   22955.978035\n",
              "std        1.284854            1.258153  ...      0.801798   26988.811719\n",
              "min        1.000000            1.000000  ...   1994.000000       0.000000\n",
              "25%        2.000000            2.000000  ...   1994.000000    4148.845001\n",
              "50%        3.000000            3.000000  ...   1995.000000    8130.994563\n",
              "75%        4.000000            4.000000  ...   1996.000000   46299.646944\n",
              "max        5.000000            5.000000  ...   1996.000000  141394.159289\n",
              "\n",
              "[8 rows x 10 columns]"
            ]
          },
          "metadata": {},
          "execution_count": 4
        }
      ]
    },
    {
      "cell_type": "code",
      "metadata": {
        "colab": {
          "base_uri": "https://localhost:8080/"
        },
        "id": "J2dD2IwTMtPZ",
        "outputId": "ce325a3f-cf51-4929-9f26-7179a6bbb358"
      },
      "source": [
        "customers['AddressChange_Claim'].value_counts()"
      ],
      "id": "J2dD2IwTMtPZ",
      "execution_count": 5,
      "outputs": [
        {
          "output_type": "execute_result",
          "data": {
            "text/plain": [
              "no change         10715\n",
              "4 to 8 years        496\n",
              "2 to 3 years        222\n",
              "1 year              128\n",
              "under 6 months        4\n",
              "Name: AddressChange_Claim, dtype: int64"
            ]
          },
          "metadata": {},
          "execution_count": 5
        }
      ]
    },
    {
      "cell_type": "code",
      "metadata": {
        "colab": {
          "base_uri": "https://localhost:8080/"
        },
        "id": "HR5I-jcYMtPa",
        "outputId": "f4f8d34b-1a75-40c6-9bad-d7ece31d75fa"
      },
      "source": [
        "customers[customers['FraudFound_P']==1]['AddressChange_Claim'].value_counts()"
      ],
      "id": "HR5I-jcYMtPa",
      "execution_count": 6,
      "outputs": [
        {
          "output_type": "execute_result",
          "data": {
            "text/plain": [
              "no change         607\n",
              "2 to 3 years       40\n",
              "4 to 8 years       27\n",
              "1 year              8\n",
              "under 6 months      3\n",
              "Name: AddressChange_Claim, dtype: int64"
            ]
          },
          "metadata": {},
          "execution_count": 6
        }
      ]
    },
    {
      "cell_type": "code",
      "metadata": {
        "colab": {
          "base_uri": "https://localhost:8080/"
        },
        "id": "q0-aFHbyMtPa",
        "outputId": "09e19b5f-a2e8-43d8-da41-0afaaa430f52"
      },
      "source": [
        "customers['NumberOfSuppliments'].value_counts()"
      ],
      "id": "q0-aFHbyMtPa",
      "execution_count": 7,
      "outputs": [
        {
          "output_type": "execute_result",
          "data": {
            "text/plain": [
              "none           5330\n",
              "more than 5    2875\n",
              "1 to 2         1846\n",
              "3 to 5         1514\n",
              "Name: NumberOfSuppliments, dtype: int64"
            ]
          },
          "metadata": {},
          "execution_count": 7
        }
      ]
    },
    {
      "cell_type": "code",
      "metadata": {
        "colab": {
          "base_uri": "https://localhost:8080/"
        },
        "id": "mbCsHNo0MtPa",
        "outputId": "3a831ae9-3d98-4a4a-8a32-f484b992ff54"
      },
      "source": [
        "customers[customers['FraudFound_P']==1]['NumberOfSuppliments'].value_counts()"
      ],
      "id": "mbCsHNo0MtPa",
      "execution_count": 8,
      "outputs": [
        {
          "output_type": "execute_result",
          "data": {
            "text/plain": [
              "none           357\n",
              "more than 5    142\n",
              "1 to 2         113\n",
              "3 to 5          73\n",
              "Name: NumberOfSuppliments, dtype: int64"
            ]
          },
          "metadata": {},
          "execution_count": 8
        }
      ]
    },
    {
      "cell_type": "code",
      "metadata": {
        "colab": {
          "base_uri": "https://localhost:8080/"
        },
        "id": "wV8zZWRIMtPa",
        "outputId": "d9c2553d-e0b3-410a-c483-37ad72357b4c"
      },
      "source": [
        "customers['AgentType'].value_counts()"
      ],
      "id": "wV8zZWRIMtPa",
      "execution_count": 9,
      "outputs": [
        {
          "output_type": "execute_result",
          "data": {
            "text/plain": [
              "External    11394\n",
              "Internal      171\n",
              "Name: AgentType, dtype: int64"
            ]
          },
          "metadata": {},
          "execution_count": 9
        }
      ]
    },
    {
      "cell_type": "code",
      "metadata": {
        "colab": {
          "base_uri": "https://localhost:8080/"
        },
        "id": "5XAcfuGgMtPa",
        "outputId": "b874f6f1-72f6-4880-cdc5-1376802854a9"
      },
      "source": [
        "customers[customers['FraudFound_P']==1]['AgentType'].value_counts()"
      ],
      "id": "5XAcfuGgMtPa",
      "execution_count": 10,
      "outputs": [
        {
          "output_type": "execute_result",
          "data": {
            "text/plain": [
              "External    681\n",
              "Internal      4\n",
              "Name: AgentType, dtype: int64"
            ]
          },
          "metadata": {},
          "execution_count": 10
        }
      ]
    },
    {
      "cell_type": "code",
      "metadata": {
        "colab": {
          "base_uri": "https://localhost:8080/"
        },
        "id": "9BhSPvbnMtPa",
        "outputId": "5737aa12-5ce1-4ee2-b8c4-33b9634d5668"
      },
      "source": [
        "customers['PoliceReportFiled'].value_counts()"
      ],
      "id": "9BhSPvbnMtPa",
      "execution_count": 11,
      "outputs": [
        {
          "output_type": "execute_result",
          "data": {
            "text/plain": [
              "No     11235\n",
              "Yes      330\n",
              "Name: PoliceReportFiled, dtype: int64"
            ]
          },
          "metadata": {},
          "execution_count": 11
        }
      ]
    },
    {
      "cell_type": "code",
      "metadata": {
        "colab": {
          "base_uri": "https://localhost:8080/"
        },
        "id": "wKYL6YekMtPa",
        "outputId": "a8c845bc-0700-4f43-8f2f-13c71b5eb198"
      },
      "source": [
        "customers[customers['FraudFound_P']==1]['PoliceReportFiled'].value_counts()"
      ],
      "id": "wKYL6YekMtPa",
      "execution_count": 12,
      "outputs": [
        {
          "output_type": "execute_result",
          "data": {
            "text/plain": [
              "No     672\n",
              "Yes     13\n",
              "Name: PoliceReportFiled, dtype: int64"
            ]
          },
          "metadata": {},
          "execution_count": 12
        }
      ]
    },
    {
      "cell_type": "code",
      "metadata": {
        "colab": {
          "base_uri": "https://localhost:8080/"
        },
        "id": "yqJ-ucXoMtPa",
        "outputId": "63858d16-0b1c-46ec-a0b7-321657f85a2a"
      },
      "source": [
        "customers['WitnessPresent'].value_counts()"
      ],
      "id": "yqJ-ucXoMtPa",
      "execution_count": 13,
      "outputs": [
        {
          "output_type": "execute_result",
          "data": {
            "text/plain": [
              "No     11497\n",
              "Yes       68\n",
              "Name: WitnessPresent, dtype: int64"
            ]
          },
          "metadata": {},
          "execution_count": 13
        }
      ]
    },
    {
      "cell_type": "code",
      "metadata": {
        "colab": {
          "base_uri": "https://localhost:8080/"
        },
        "id": "j8fCZynOMtPa",
        "outputId": "48a4a9e6-ee9d-4616-fa80-5b9e6d12b617"
      },
      "source": [
        "customers[customers['FraudFound_P']==1]['WitnessPresent'].value_counts()"
      ],
      "id": "j8fCZynOMtPa",
      "execution_count": 14,
      "outputs": [
        {
          "output_type": "execute_result",
          "data": {
            "text/plain": [
              "No     683\n",
              "Yes      2\n",
              "Name: WitnessPresent, dtype: int64"
            ]
          },
          "metadata": {},
          "execution_count": 14
        }
      ]
    },
    {
      "cell_type": "code",
      "metadata": {
        "colab": {
          "base_uri": "https://localhost:8080/"
        },
        "id": "UbFysLQJMtPa",
        "outputId": "9dcfd6ec-989d-40cc-fe3c-8bf5a1ce1c12"
      },
      "source": [
        "customers[(customers['WitnessPresent']=='Yes') & (customers['PoliceReportFiled']=='Yes')]['FraudFound_P']"
      ],
      "id": "UbFysLQJMtPa",
      "execution_count": 15,
      "outputs": [
        {
          "output_type": "execute_result",
          "data": {
            "text/plain": [
              "1182     0\n",
              "1504     0\n",
              "1802     0\n",
              "1933     0\n",
              "2064     0\n",
              "2074     0\n",
              "2347     0\n",
              "2881     0\n",
              "3002     0\n",
              "3794     0\n",
              "3888     0\n",
              "4693     0\n",
              "4897     0\n",
              "6403     0\n",
              "7037     0\n",
              "7113     0\n",
              "7241     0\n",
              "7320     0\n",
              "8285     0\n",
              "8346     0\n",
              "8824     0\n",
              "9339     0\n",
              "9478     0\n",
              "10330    0\n",
              "10568    0\n",
              "10604    0\n",
              "Name: FraudFound_P, dtype: int64"
            ]
          },
          "metadata": {},
          "execution_count": 15
        }
      ]
    },
    {
      "cell_type": "markdown",
      "metadata": {
        "id": "a22ktrDjPZIP"
      },
      "source": [
        "##Fraud commited with respect to Gender"
      ],
      "id": "a22ktrDjPZIP"
    },
    {
      "cell_type": "code",
      "metadata": {
        "colab": {
          "base_uri": "https://localhost:8080/",
          "height": 464
        },
        "id": "b439c0fe-e27d-4f6d-90d4-a3b4114d8cac",
        "outputId": "2a5f1e3f-ed47-4f15-b81c-06fd83c7bd00"
      },
      "source": [
        "plt.subplots(figsize=(5, 6))\n",
        "sns.countplot(x='Sex',\n",
        "              data=customers[customers['FraudFound_P']==1],\n",
        "              palette='inferno',\n",
        "              order=customers['Sex'].value_counts().index)\n",
        "\n",
        "plt.xticks(rotation=90)\n",
        "\n",
        "plt.ylabel('Number of Fraud Done')\n",
        "plt.title('Gender vs Number of Fraud Done')\n",
        "\n",
        "plt.show()\n",
        "\n",
        "print('Percentage of Fraud Done from Female Insurance Policy Holder', format((73/1797)*100, '.2f'), '%')\n",
        "print('Percentage of Fraud Done from Male Insurance Policy Holder', format((612/9767)*100, '.2f'), '%')"
      ],
      "id": "b439c0fe-e27d-4f6d-90d4-a3b4114d8cac",
      "execution_count": 16,
      "outputs": [
        {
          "output_type": "display_data",
          "data": {
            "image/png": "[encoded data removed]",
            "text/plain": [
              "<Figure size 360x432 with 1 Axes>"
            ]
          },
          "metadata": {
            "needs_background": "light"
          }
        },
        {
          "output_type": "stream",
          "name": "stdout",
          "text": [
            "Percentage of Fraud Done from Female Insurance Policy Holder 4.06 %\n",
            "Percentage of Fraud Done from Male Insurance Policy Holder 6.27 %\n"
          ]
        }
      ]
    },
    {
      "cell_type": "markdown",
      "metadata": {
        "id": "4566f19f"
      },
      "source": [
        "##Claim and Fraud with respect to the Age of the customer\n",
        "\n"
      ],
      "id": "4566f19f"
    },
    {
      "cell_type": "code",
      "metadata": {
        "colab": {
          "base_uri": "https://localhost:8080/",
          "height": 747
        },
        "id": "0254d9be-79c9-430d-8c11-ed56cc06b39a",
        "outputId": "587fe187-c520-43c8-d22f-c4238992171f"
      },
      "source": [
        "plt.subplots(figsize=(15, 6))\n",
        "sns.countplot(x='AgeOfPolicyHolder',\n",
        "              data=customers,\n",
        "              palette='RdYlGn',\n",
        "              order=customers['AgeOfPolicyHolder'].value_counts().index)\n",
        "\n",
        "plt.xticks(rotation=90)\n",
        "\n",
        "plt.ylabel('Number of Claims')\n",
        "plt.xlabel('Age of Policy Holder')\n",
        "plt.title('Age of Policy Holder vs Number of Claims')\n",
        "\n",
        "plt.show()\n",
        "\n",
        "x = customers['AgeOfPolicyHolder'].value_counts().index\n",
        "y = np.array(customers['AgeOfPolicyHolder'].value_counts().values)\n",
        "perFraud = np.true_divide(y, y.sum()) * 100\n",
        "claim_array = []\n",
        "\n",
        "for i in range(len(perFraud)):\n",
        "    small_claim = []\n",
        "    small_claim.append(x[i])\n",
        "    small_claim.append(y[i])\n",
        "    small_claim.append(format(perFraud[i], '.2f'))\n",
        "    #print(x[i], format(perFraud[i], '.2f'), '%')\n",
        "    claim_array.append(small_claim)\n",
        "    \n",
        "pd.DataFrame(claim_array, columns=['Age Group', 'Claims', 'Percentage-%'])"
      ],
      "id": "0254d9be-79c9-430d-8c11-ed56cc06b39a",
      "execution_count": 17,
      "outputs": [
        {
          "output_type": "display_data",
          "data": {
            "image/png": "[encoded data removed]",
            "text/plain": [
              "<Figure size 1080x432 with 1 Axes>"
            ]
          },
          "metadata": {
            "needs_background": "light"
          }
        },
        {
          "output_type": "execute_result",
          "data": {
            "text/html": [
              "<div>\n",
              "<style scoped>\n",
              "    .dataframe tbody tr th:only-of-type {\n",
              "        vertical-align: middle;\n",
              "    }\n",
              "\n",
              "    .dataframe tbody tr th {\n",
              "        vertical-align: top;\n",
              "    }\n",
              "\n",
              "    .dataframe thead th {\n",
              "        text-align: right;\n",
              "    }\n",
              "</style>\n",
              "<table border=\"1\" class=\"dataframe\">\n",
              "  <thead>\n",
              "    <tr style=\"text-align: right;\">\n",
              "      <th></th>\n",
              "      <th>Age Group</th>\n",
              "      <th>Claims</th>\n",
              "      <th>Percentage-%</th>\n",
              "    </tr>\n",
              "  </thead>\n",
              "  <tbody>\n",
              "    <tr>\n",
              "      <th>0</th>\n",
              "      <td>31 to 35</td>\n",
              "      <td>4199</td>\n",
              "      <td>36.31</td>\n",
              "    </tr>\n",
              "    <tr>\n",
              "      <th>1</th>\n",
              "      <td>36 to 40</td>\n",
              "      <td>3008</td>\n",
              "      <td>26.01</td>\n",
              "    </tr>\n",
              "    <tr>\n",
              "      <th>2</th>\n",
              "      <td>41 to 50</td>\n",
              "      <td>2122</td>\n",
              "      <td>18.35</td>\n",
              "    </tr>\n",
              "    <tr>\n",
              "      <th>3</th>\n",
              "      <td>51 to 65</td>\n",
              "      <td>1070</td>\n",
              "      <td>9.25</td>\n",
              "    </tr>\n",
              "    <tr>\n",
              "      <th>4</th>\n",
              "      <td>26 to 30</td>\n",
              "      <td>445</td>\n",
              "      <td>3.85</td>\n",
              "    </tr>\n",
              "    <tr>\n",
              "      <th>5</th>\n",
              "      <td>over 65</td>\n",
              "      <td>388</td>\n",
              "      <td>3.35</td>\n",
              "    </tr>\n",
              "    <tr>\n",
              "      <th>6</th>\n",
              "      <td>16 to 17</td>\n",
              "      <td>247</td>\n",
              "      <td>2.14</td>\n",
              "    </tr>\n",
              "    <tr>\n",
              "      <th>7</th>\n",
              "      <td>21 to 25</td>\n",
              "      <td>73</td>\n",
              "      <td>0.63</td>\n",
              "    </tr>\n",
              "    <tr>\n",
              "      <th>8</th>\n",
              "      <td>18 to 20</td>\n",
              "      <td>13</td>\n",
              "      <td>0.11</td>\n",
              "    </tr>\n",
              "  </tbody>\n",
              "</table>\n",
              "</div>"
            ],
            "text/plain": [
              "  Age Group  Claims Percentage-%\n",
              "0  31 to 35    4199        36.31\n",
              "1  36 to 40    3008        26.01\n",
              "2  41 to 50    2122        18.35\n",
              "3  51 to 65    1070         9.25\n",
              "4  26 to 30     445         3.85\n",
              "5   over 65     388         3.35\n",
              "6  16 to 17     247         2.14\n",
              "7  21 to 25      73         0.63\n",
              "8  18 to 20      13         0.11"
            ]
          },
          "metadata": {},
          "execution_count": 17
        }
      ]
    },
    {
      "cell_type": "code",
      "metadata": {
        "colab": {
          "base_uri": "https://localhost:8080/",
          "height": 747
        },
        "id": "9c98ca97-6853-47c0-af12-707dd429ddfc",
        "outputId": "d67c3777-40a5-4198-a88d-2ba246ce62a4"
      },
      "source": [
        "plt.subplots(figsize=(15,6))\n",
        "sns.countplot(x='AgeOfPolicyHolder',\n",
        "              data=customers[customers['FraudFound_P']==1],\n",
        "              palette='RdYlGn',\n",
        "              order=customers['AgeOfPolicyHolder'].value_counts().index)\n",
        "\n",
        "plt.xticks(rotation=90)\n",
        "\n",
        "plt.ylabel('Number of Fraud')\n",
        "plt.xlabel('Age of Policy Holder')\n",
        "plt.title('Age of Policy Holder vs Number of Fraud Done')\n",
        "\n",
        "plt.show()\n",
        "\n",
        "x = customers[customers['FraudFound_P']==1]['AgeOfPolicyHolder'].value_counts().index\n",
        "y = np.array(customers[customers['FraudFound_P']==1]['AgeOfPolicyHolder'].value_counts().values)\n",
        "perFraud = np.true_divide(y, y.sum()) * 100\n",
        "claim_array = []\n",
        "\n",
        "for i in range(len(perFraud)):\n",
        "    small_claim = []\n",
        "    small_claim.append(x[i])\n",
        "    small_claim.append(y[i])\n",
        "    small_claim.append(format(perFraud[i], '.2f'))\n",
        "    #print(x[i], format(perFraud[i], '.2f'), '%')\n",
        "    claim_array.append(small_claim)\n",
        "    \n",
        "pd.DataFrame(claim_array,columns = ['Age Group', 'Claims', 'Percentage-%'])    "
      ],
      "id": "9c98ca97-6853-47c0-af12-707dd429ddfc",
      "execution_count": 18,
      "outputs": [
        {
          "output_type": "display_data",
          "data": {
            "image/png": "[encoded data removed]",
            "text/plain": [
              "<Figure size 1080x432 with 1 Axes>"
            ]
          },
          "metadata": {
            "needs_background": "light"
          }
        },
        {
          "output_type": "execute_result",
          "data": {
            "text/html": [
              "<div>\n",
              "<style scoped>\n",
              "    .dataframe tbody tr th:only-of-type {\n",
              "        vertical-align: middle;\n",
              "    }\n",
              "\n",
              "    .dataframe tbody tr th {\n",
              "        vertical-align: top;\n",
              "    }\n",
              "\n",
              "    .dataframe thead th {\n",
              "        text-align: right;\n",
              "    }\n",
              "</style>\n",
              "<table border=\"1\" class=\"dataframe\">\n",
              "  <thead>\n",
              "    <tr style=\"text-align: right;\">\n",
              "      <th></th>\n",
              "      <th>Age Group</th>\n",
              "      <th>Claims</th>\n",
              "      <th>Percentage-%</th>\n",
              "    </tr>\n",
              "  </thead>\n",
              "  <tbody>\n",
              "    <tr>\n",
              "      <th>0</th>\n",
              "      <td>31 to 35</td>\n",
              "      <td>270</td>\n",
              "      <td>39.42</td>\n",
              "    </tr>\n",
              "    <tr>\n",
              "      <th>1</th>\n",
              "      <td>36 to 40</td>\n",
              "      <td>174</td>\n",
              "      <td>25.40</td>\n",
              "    </tr>\n",
              "    <tr>\n",
              "      <th>2</th>\n",
              "      <td>41 to 50</td>\n",
              "      <td>112</td>\n",
              "      <td>16.35</td>\n",
              "    </tr>\n",
              "    <tr>\n",
              "      <th>3</th>\n",
              "      <td>51 to 65</td>\n",
              "      <td>53</td>\n",
              "      <td>7.74</td>\n",
              "    </tr>\n",
              "    <tr>\n",
              "      <th>4</th>\n",
              "      <td>16 to 17</td>\n",
              "      <td>26</td>\n",
              "      <td>3.80</td>\n",
              "    </tr>\n",
              "    <tr>\n",
              "      <th>5</th>\n",
              "      <td>26 to 30</td>\n",
              "      <td>20</td>\n",
              "      <td>2.92</td>\n",
              "    </tr>\n",
              "    <tr>\n",
              "      <th>6</th>\n",
              "      <td>over 65</td>\n",
              "      <td>20</td>\n",
              "      <td>2.92</td>\n",
              "    </tr>\n",
              "    <tr>\n",
              "      <th>7</th>\n",
              "      <td>21 to 25</td>\n",
              "      <td>9</td>\n",
              "      <td>1.31</td>\n",
              "    </tr>\n",
              "    <tr>\n",
              "      <th>8</th>\n",
              "      <td>18 to 20</td>\n",
              "      <td>1</td>\n",
              "      <td>0.15</td>\n",
              "    </tr>\n",
              "  </tbody>\n",
              "</table>\n",
              "</div>"
            ],
            "text/plain": [
              "  Age Group  Claims Percentage-%\n",
              "0  31 to 35     270        39.42\n",
              "1  36 to 40     174        25.40\n",
              "2  41 to 50     112        16.35\n",
              "3  51 to 65      53         7.74\n",
              "4  16 to 17      26         3.80\n",
              "5  26 to 30      20         2.92\n",
              "6   over 65      20         2.92\n",
              "7  21 to 25       9         1.31\n",
              "8  18 to 20       1         0.15"
            ]
          },
          "metadata": {},
          "execution_count": 18
        }
      ]
    },
    {
      "cell_type": "markdown",
      "metadata": {
        "id": "c5f87839"
      },
      "source": [
        "###From the above two graph we get that policy holders who have age greater than 50 year have low chance of doing fraud"
      ],
      "id": "c5f87839"
    },
    {
      "cell_type": "markdown",
      "metadata": {
        "id": "wE7sJmQSOrQ6"
      },
      "source": [
        "##Age of Policy Holder and their Relationship Status vs Fraud"
      ],
      "id": "wE7sJmQSOrQ6"
    },
    {
      "cell_type": "code",
      "metadata": {
        "colab": {
          "base_uri": "https://localhost:8080/",
          "height": 747
        },
        "id": "4ecc5a22-b8ab-480a-b017-4bc65ed5919b",
        "outputId": "3ce6e015-4d69-404a-f441-b1d5ae704c8a"
      },
      "source": [
        "plt.subplots(figsize=(15, 6))\n",
        "single = customers[customers['MaritalStatus']=='Single']\n",
        "sns.countplot(x='AgeOfPolicyHolder',\n",
        "              data=single[single['FraudFound_P']==1],\n",
        "              palette='RdYlGn',\n",
        "              order=single['AgeOfPolicyHolder'].value_counts().index)\n",
        "\n",
        "plt.xticks(rotation=90)\n",
        "\n",
        "plt.ylabel('Number of Fraud')\n",
        "plt.xlabel('Age of Policy Holder')\n",
        "plt.title('Age of Policy Holder - Relationship[Single] vs Number of Fraud Done')\n",
        "\n",
        "plt.show()\n",
        "\n",
        "x = single[single['FraudFound_P']==1]['AgeOfPolicyHolder'].value_counts().index\n",
        "y = np.array(single[single['FraudFound_P']==1]['AgeOfPolicyHolder'].value_counts().values)\n",
        "perFraud = np.true_divide(y, y.sum())*100\n",
        "claim_array = []\n",
        "\n",
        "for i in range(len(perFraud)):\n",
        "    small_claim = []\n",
        "    small_claim.append(x[i])\n",
        "    small_claim.append(y[i])\n",
        "    small_claim.append(format(perFraud[i], '.2f'))\n",
        "    #print(x[i], format(perFraud[i], '.2f'), '%')\n",
        "    claim_array.append(small_claim)\n",
        "    \n",
        "pd.DataFrame(claim_array, columns=['Age Group', 'Claims', 'Percentage-%'])   "
      ],
      "id": "4ecc5a22-b8ab-480a-b017-4bc65ed5919b",
      "execution_count": 19,
      "outputs": [
        {
          "output_type": "display_data",
          "data": {
            "image/png": "[encoded data removed]",
            "text/plain": [
              "<Figure size 1080x432 with 1 Axes>"
            ]
          },
          "metadata": {
            "needs_background": "light"
          }
        },
        {
          "output_type": "execute_result",
          "data": {
            "text/html": [
              "<div>\n",
              "<style scoped>\n",
              "    .dataframe tbody tr th:only-of-type {\n",
              "        vertical-align: middle;\n",
              "    }\n",
              "\n",
              "    .dataframe tbody tr th {\n",
              "        vertical-align: top;\n",
              "    }\n",
              "\n",
              "    .dataframe thead th {\n",
              "        text-align: right;\n",
              "    }\n",
              "</style>\n",
              "<table border=\"1\" class=\"dataframe\">\n",
              "  <thead>\n",
              "    <tr style=\"text-align: right;\">\n",
              "      <th></th>\n",
              "      <th>Age Group</th>\n",
              "      <th>Claims</th>\n",
              "      <th>Percentage-%</th>\n",
              "    </tr>\n",
              "  </thead>\n",
              "  <tbody>\n",
              "    <tr>\n",
              "      <th>0</th>\n",
              "      <td>31 to 35</td>\n",
              "      <td>104</td>\n",
              "      <td>52.53</td>\n",
              "    </tr>\n",
              "    <tr>\n",
              "      <th>1</th>\n",
              "      <td>16 to 17</td>\n",
              "      <td>26</td>\n",
              "      <td>13.13</td>\n",
              "    </tr>\n",
              "    <tr>\n",
              "      <th>2</th>\n",
              "      <td>36 to 40</td>\n",
              "      <td>24</td>\n",
              "      <td>12.12</td>\n",
              "    </tr>\n",
              "    <tr>\n",
              "      <th>3</th>\n",
              "      <td>26 to 30</td>\n",
              "      <td>17</td>\n",
              "      <td>8.59</td>\n",
              "    </tr>\n",
              "    <tr>\n",
              "      <th>4</th>\n",
              "      <td>41 to 50</td>\n",
              "      <td>9</td>\n",
              "      <td>4.55</td>\n",
              "    </tr>\n",
              "    <tr>\n",
              "      <th>5</th>\n",
              "      <td>21 to 25</td>\n",
              "      <td>8</td>\n",
              "      <td>4.04</td>\n",
              "    </tr>\n",
              "    <tr>\n",
              "      <th>6</th>\n",
              "      <td>51 to 65</td>\n",
              "      <td>5</td>\n",
              "      <td>2.53</td>\n",
              "    </tr>\n",
              "    <tr>\n",
              "      <th>7</th>\n",
              "      <td>over 65</td>\n",
              "      <td>4</td>\n",
              "      <td>2.02</td>\n",
              "    </tr>\n",
              "    <tr>\n",
              "      <th>8</th>\n",
              "      <td>18 to 20</td>\n",
              "      <td>1</td>\n",
              "      <td>0.51</td>\n",
              "    </tr>\n",
              "  </tbody>\n",
              "</table>\n",
              "</div>"
            ],
            "text/plain": [
              "  Age Group  Claims Percentage-%\n",
              "0  31 to 35     104        52.53\n",
              "1  16 to 17      26        13.13\n",
              "2  36 to 40      24        12.12\n",
              "3  26 to 30      17         8.59\n",
              "4  41 to 50       9         4.55\n",
              "5  21 to 25       8         4.04\n",
              "6  51 to 65       5         2.53\n",
              "7   over 65       4         2.02\n",
              "8  18 to 20       1         0.51"
            ]
          },
          "metadata": {},
          "execution_count": 19
        }
      ]
    },
    {
      "cell_type": "markdown",
      "metadata": {
        "id": "3461f073"
      },
      "source": [
        "###From this graph we can observe that single people having age between 31 to 35 have high chance of doing fraud"
      ],
      "id": "3461f073"
    },
    {
      "cell_type": "markdown",
      "metadata": {
        "id": "PPpg4OZEQN9t"
      },
      "source": [
        "##Claim and Fraud with respect to the Vehicle category\n"
      ],
      "id": "PPpg4OZEQN9t"
    },
    {
      "cell_type": "code",
      "metadata": {
        "colab": {
          "base_uri": "https://localhost:8080/",
          "height": 550
        },
        "id": "7a608679-9b56-4e25-a551-6831508495b0",
        "outputId": "5ec0171c-0300-4dbc-db93-e96138373706"
      },
      "source": [
        "plt.subplots(figsize=(8, 6))\n",
        "sns.countplot(x='VehicleCategory',\n",
        "              data=customers,\n",
        "              palette='RdYlGn',\n",
        "              order=customers['VehicleCategory'].value_counts().index)\n",
        "\n",
        "plt.xticks(rotation=90)\n",
        "\n",
        "plt.ylabel('Number of Claims')\n",
        "plt.xlabel('Vehicle Category')\n",
        "plt.title('Vehicle Category vs Number of Claims')\n",
        "\n",
        "plt.show()\n",
        "\n",
        "x = customers['VehicleCategory'].value_counts().index\n",
        "y = np.array(customers['VehicleCategory'].value_counts().values)\n",
        "perFraud = np.true_divide(y, y.sum()) * 100\n",
        "claim_array = []\n",
        "\n",
        "for i in range(len(perFraud)):\n",
        "    small_claim = []\n",
        "    small_claim.append(x[i])\n",
        "    small_claim.append(y[i])\n",
        "    small_claim.append(format(perFraud[i],'.2f'))\n",
        "    #print(x[i], format(perFraud[i], '.2f'), '%')\n",
        "    claim_array.append(small_claim)\n",
        "    \n",
        "pd.DataFrame(claim_array, columns=['Vehicle Category', 'Claims', 'Percentage-%'])    "
      ],
      "id": "7a608679-9b56-4e25-a551-6831508495b0",
      "execution_count": 20,
      "outputs": [
        {
          "output_type": "display_data",
          "data": {
            "image/png": "[encoded data removed]",
            "text/plain": [
              "<Figure size 576x432 with 1 Axes>"
            ]
          },
          "metadata": {
            "needs_background": "light"
          }
        },
        {
          "output_type": "execute_result",
          "data": {
            "text/html": [
              "<div>\n",
              "<style scoped>\n",
              "    .dataframe tbody tr th:only-of-type {\n",
              "        vertical-align: middle;\n",
              "    }\n",
              "\n",
              "    .dataframe tbody tr th {\n",
              "        vertical-align: top;\n",
              "    }\n",
              "\n",
              "    .dataframe thead th {\n",
              "        text-align: right;\n",
              "    }\n",
              "</style>\n",
              "<table border=\"1\" class=\"dataframe\">\n",
              "  <thead>\n",
              "    <tr style=\"text-align: right;\">\n",
              "      <th></th>\n",
              "      <th>Vehicle Category</th>\n",
              "      <th>Claims</th>\n",
              "      <th>Percentage-%</th>\n",
              "    </tr>\n",
              "  </thead>\n",
              "  <tbody>\n",
              "    <tr>\n",
              "      <th>0</th>\n",
              "      <td>Sedan</td>\n",
              "      <td>7253</td>\n",
              "      <td>62.72</td>\n",
              "    </tr>\n",
              "    <tr>\n",
              "      <th>1</th>\n",
              "      <td>Sport</td>\n",
              "      <td>4024</td>\n",
              "      <td>34.79</td>\n",
              "    </tr>\n",
              "    <tr>\n",
              "      <th>2</th>\n",
              "      <td>Utility</td>\n",
              "      <td>288</td>\n",
              "      <td>2.49</td>\n",
              "    </tr>\n",
              "  </tbody>\n",
              "</table>\n",
              "</div>"
            ],
            "text/plain": [
              "  Vehicle Category  Claims Percentage-%\n",
              "0            Sedan    7253        62.72\n",
              "1            Sport    4024        34.79\n",
              "2          Utility     288         2.49"
            ]
          },
          "metadata": {},
          "execution_count": 20
        }
      ]
    },
    {
      "cell_type": "code",
      "metadata": {
        "colab": {
          "base_uri": "https://localhost:8080/",
          "height": 550
        },
        "id": "50d4be2f-608d-4621-9344-6fa558ec26b4",
        "outputId": "af34ef24-162c-422a-d35f-5a1f1c7c7b71"
      },
      "source": [
        "plt.subplots(figsize=(8, 6))\n",
        "sns.countplot(x='VehicleCategory',\n",
        "              data=customers[customers['FraudFound_P']==1],\n",
        "              palette='RdYlGn',\n",
        "              order=customers['VehicleCategory'].value_counts().index)\n",
        "\n",
        "plt.xticks(rotation=90)\n",
        "\n",
        "plt.ylabel('Number of Fraud')\n",
        "plt.xlabel('Vehicle Category')\n",
        "plt.title('Vehicle Category vs Number of Fraud')\n",
        "\n",
        "plt.show()\n",
        "\n",
        "x = customers[customers['FraudFound_P']==1]['VehicleCategory'].value_counts().index\n",
        "y = np.array(customers[customers['FraudFound_P']==1]['VehicleCategory'].value_counts().values)\n",
        "perFraud = np.true_divide(y, y.sum()) * 100\n",
        "claim_array = []\n",
        "\n",
        "for i in range(len(perFraud)):\n",
        "    small_claim = []\n",
        "    small_claim.append(x[i])\n",
        "    small_claim.append(y[i])\n",
        "    small_claim.append(format(perFraud[i], '.2f'))\n",
        "    #print(x[i], format(perFraud[i], '.2f'), '%')\n",
        "    claim_array.append(small_claim)\n",
        "    \n",
        "pd.DataFrame(claim_array, columns=['Vehicle Category', 'Fraud', 'Percentage-%'])   "
      ],
      "id": "50d4be2f-608d-4621-9344-6fa558ec26b4",
      "execution_count": 21,
      "outputs": [
        {
          "output_type": "display_data",
          "data": {
            "image/png": "[encoded data removed]",
            "text/plain": [
              "<Figure size 576x432 with 1 Axes>"
            ]
          },
          "metadata": {
            "needs_background": "light"
          }
        },
        {
          "output_type": "execute_result",
          "data": {
            "text/html": [
              "<div>\n",
              "<style scoped>\n",
              "    .dataframe tbody tr th:only-of-type {\n",
              "        vertical-align: middle;\n",
              "    }\n",
              "\n",
              "    .dataframe tbody tr th {\n",
              "        vertical-align: top;\n",
              "    }\n",
              "\n",
              "    .dataframe thead th {\n",
              "        text-align: right;\n",
              "    }\n",
              "</style>\n",
              "<table border=\"1\" class=\"dataframe\">\n",
              "  <thead>\n",
              "    <tr style=\"text-align: right;\">\n",
              "      <th></th>\n",
              "      <th>Vehicle Category</th>\n",
              "      <th>Fraud</th>\n",
              "      <th>Percentage-%</th>\n",
              "    </tr>\n",
              "  </thead>\n",
              "  <tbody>\n",
              "    <tr>\n",
              "      <th>0</th>\n",
              "      <td>Sedan</td>\n",
              "      <td>588</td>\n",
              "      <td>85.84</td>\n",
              "    </tr>\n",
              "    <tr>\n",
              "      <th>1</th>\n",
              "      <td>Sport</td>\n",
              "      <td>61</td>\n",
              "      <td>8.91</td>\n",
              "    </tr>\n",
              "    <tr>\n",
              "      <th>2</th>\n",
              "      <td>Utility</td>\n",
              "      <td>36</td>\n",
              "      <td>5.26</td>\n",
              "    </tr>\n",
              "  </tbody>\n",
              "</table>\n",
              "</div>"
            ],
            "text/plain": [
              "  Vehicle Category  Fraud Percentage-%\n",
              "0            Sedan    588        85.84\n",
              "1            Sport     61         8.91\n",
              "2          Utility     36         5.26"
            ]
          },
          "metadata": {},
          "execution_count": 21
        }
      ]
    },
    {
      "cell_type": "markdown",
      "metadata": {
        "id": "TjT9Gugf0anR"
      },
      "source": [
        "##Claim and Fraud with respect to the Policy type"
      ],
      "id": "TjT9Gugf0anR"
    },
    {
      "cell_type": "code",
      "metadata": {
        "colab": {
          "base_uri": "https://localhost:8080/"
        },
        "id": "2d010807-caaf-4d7e-93d6-fb51dfeff8af",
        "outputId": "f381aa23-22f6-4ab7-fb09-6aa59b3baa32"
      },
      "source": [
        "customers.columns"
      ],
      "id": "2d010807-caaf-4d7e-93d6-fb51dfeff8af",
      "execution_count": 22,
      "outputs": [
        {
          "output_type": "execute_result",
          "data": {
            "text/plain": [
              "Index(['Month', 'WeekOfMonth', 'DayOfWeek', 'Make', 'AccidentArea',\n",
              "       'DayOfWeekClaimed', 'MonthClaimed', 'WeekOfMonthClaimed', 'Sex',\n",
              "       'MaritalStatus', 'Age', 'Fault', 'PolicyType', 'VehicleCategory',\n",
              "       'VehiclePrice', 'FraudFound_P', 'PolicyNumber', 'RepNumber',\n",
              "       'Deductible', 'DriverRating', 'Days_Policy_Accident',\n",
              "       'Days_Policy_Claim', 'PastNumberOfClaims', 'AgeOfVehicle',\n",
              "       'AgeOfPolicyHolder', 'PoliceReportFiled', 'WitnessPresent', 'AgentType',\n",
              "       'NumberOfSuppliments', 'AddressChange_Claim', 'NumberOfCars', 'Year',\n",
              "       'BasePolicy', 'ClaimSize'],\n",
              "      dtype='object')"
            ]
          },
          "metadata": {},
          "execution_count": 22
        }
      ]
    },
    {
      "cell_type": "code",
      "metadata": {
        "colab": {
          "base_uri": "https://localhost:8080/"
        },
        "id": "f1e4565a",
        "outputId": "73d097c4-17a4-485d-f9ed-9ec5e8e80bee"
      },
      "source": [
        "customers['PolicyType'].value_counts()"
      ],
      "id": "f1e4565a",
      "execution_count": 23,
      "outputs": [
        {
          "output_type": "execute_result",
          "data": {
            "text/plain": [
              "Sedan - Collision       4186\n",
              "Sedan - Liability       3742\n",
              "Sedan - All Perils      3067\n",
              "Sport - Collision        262\n",
              "Utility - All Perils     251\n",
              "Utility - Collision       24\n",
              "Sport - All Perils        19\n",
              "Utility - Liability       13\n",
              "Sport - Liability          1\n",
              "Name: PolicyType, dtype: int64"
            ]
          },
          "metadata": {},
          "execution_count": 23
        }
      ]
    },
    {
      "cell_type": "code",
      "metadata": {
        "colab": {
          "base_uri": "https://localhost:8080/",
          "height": 789
        },
        "id": "51651a18",
        "outputId": "10bb033b-c416-4cb3-ed16-80eec2a3d917"
      },
      "source": [
        "plt.subplots(figsize=(15, 6))\n",
        "sns.countplot(x='PolicyType',\n",
        "              data=customers,\n",
        "              palette='RdYlGn',\n",
        "              order=customers['PolicyType'].value_counts().index)\n",
        "\n",
        "plt.xticks(rotation=90)\n",
        "\n",
        "plt.ylabel('Number of Claims')\n",
        "plt.xlabel('Policy Type')\n",
        "plt.title('Policy Type vs Number of Claims')\n",
        "\n",
        "plt.show()\n",
        "\n",
        "x = customers['PolicyType'].value_counts().index\n",
        "y = np.array(customers['PolicyType'].value_counts().values)\n",
        "perFraud = np.true_divide(y, y.sum()) * 100\n",
        "claim_array = []\n",
        "\n",
        "for i in range(len(perFraud)):\n",
        "    small_claim = []\n",
        "    small_claim.append(x[i])\n",
        "    small_claim.append(y[i])\n",
        "    small_claim.append(format(perFraud[i], '.2f'))\n",
        "    #print(x[i], format(perFraud[i], '.2f'), '%')\n",
        "    claim_array.append(small_claim)\n",
        "    \n",
        "pd.DataFrame(claim_array, columns=['PolicyType', 'Claims', 'Percentage-%'])   "
      ],
      "id": "51651a18",
      "execution_count": 24,
      "outputs": [
        {
          "output_type": "display_data",
          "data": {
            "image/png": "[encoded data removed]",
            "text/plain": [
              "<Figure size 1080x432 with 1 Axes>"
            ]
          },
          "metadata": {
            "needs_background": "light"
          }
        },
        {
          "output_type": "execute_result",
          "data": {
            "text/html": [
              "<div>\n",
              "<style scoped>\n",
              "    .dataframe tbody tr th:only-of-type {\n",
              "        vertical-align: middle;\n",
              "    }\n",
              "\n",
              "    .dataframe tbody tr th {\n",
              "        vertical-align: top;\n",
              "    }\n",
              "\n",
              "    .dataframe thead th {\n",
              "        text-align: right;\n",
              "    }\n",
              "</style>\n",
              "<table border=\"1\" class=\"dataframe\">\n",
              "  <thead>\n",
              "    <tr style=\"text-align: right;\">\n",
              "      <th></th>\n",
              "      <th>PolicyType</th>\n",
              "      <th>Claims</th>\n",
              "      <th>Percentage-%</th>\n",
              "    </tr>\n",
              "  </thead>\n",
              "  <tbody>\n",
              "    <tr>\n",
              "      <th>0</th>\n",
              "      <td>Sedan - Collision</td>\n",
              "      <td>4186</td>\n",
              "      <td>36.20</td>\n",
              "    </tr>\n",
              "    <tr>\n",
              "      <th>1</th>\n",
              "      <td>Sedan - Liability</td>\n",
              "      <td>3742</td>\n",
              "      <td>32.36</td>\n",
              "    </tr>\n",
              "    <tr>\n",
              "      <th>2</th>\n",
              "      <td>Sedan - All Perils</td>\n",
              "      <td>3067</td>\n",
              "      <td>26.52</td>\n",
              "    </tr>\n",
              "    <tr>\n",
              "      <th>3</th>\n",
              "      <td>Sport - Collision</td>\n",
              "      <td>262</td>\n",
              "      <td>2.27</td>\n",
              "    </tr>\n",
              "    <tr>\n",
              "      <th>4</th>\n",
              "      <td>Utility - All Perils</td>\n",
              "      <td>251</td>\n",
              "      <td>2.17</td>\n",
              "    </tr>\n",
              "    <tr>\n",
              "      <th>5</th>\n",
              "      <td>Utility - Collision</td>\n",
              "      <td>24</td>\n",
              "      <td>0.21</td>\n",
              "    </tr>\n",
              "    <tr>\n",
              "      <th>6</th>\n",
              "      <td>Sport - All Perils</td>\n",
              "      <td>19</td>\n",
              "      <td>0.16</td>\n",
              "    </tr>\n",
              "    <tr>\n",
              "      <th>7</th>\n",
              "      <td>Utility - Liability</td>\n",
              "      <td>13</td>\n",
              "      <td>0.11</td>\n",
              "    </tr>\n",
              "    <tr>\n",
              "      <th>8</th>\n",
              "      <td>Sport - Liability</td>\n",
              "      <td>1</td>\n",
              "      <td>0.01</td>\n",
              "    </tr>\n",
              "  </tbody>\n",
              "</table>\n",
              "</div>"
            ],
            "text/plain": [
              "             PolicyType  Claims Percentage-%\n",
              "0     Sedan - Collision    4186        36.20\n",
              "1     Sedan - Liability    3742        32.36\n",
              "2    Sedan - All Perils    3067        26.52\n",
              "3     Sport - Collision     262         2.27\n",
              "4  Utility - All Perils     251         2.17\n",
              "5   Utility - Collision      24         0.21\n",
              "6    Sport - All Perils      19         0.16\n",
              "7   Utility - Liability      13         0.11\n",
              "8     Sport - Liability       1         0.01"
            ]
          },
          "metadata": {},
          "execution_count": 24
        }
      ]
    },
    {
      "cell_type": "code",
      "metadata": {
        "colab": {
          "base_uri": "https://localhost:8080/"
        },
        "id": "Sok2hTjW3cpH",
        "outputId": "80ca9755-a8f7-46d0-805a-1abc417b5065"
      },
      "source": [
        "customers[customers['FraudFound_P']==1]['PolicyType'].value_counts()"
      ],
      "id": "Sok2hTjW3cpH",
      "execution_count": 25,
      "outputs": [
        {
          "output_type": "execute_result",
          "data": {
            "text/plain": [
              "Sedan - All Perils      307\n",
              "Sedan - Collision       281\n",
              "Sport - Collision        34\n",
              "Utility - All Perils     33\n",
              "Sedan - Liability        27\n",
              "Utility - Collision       3\n",
              "Name: PolicyType, dtype: int64"
            ]
          },
          "metadata": {},
          "execution_count": 25
        }
      ]
    },
    {
      "cell_type": "code",
      "metadata": {
        "colab": {
          "base_uri": "https://localhost:8080/",
          "height": 696
        },
        "id": "3999310f",
        "outputId": "9d2a4caf-cc10-433f-e90d-bd062eb75f6f"
      },
      "source": [
        "plt.subplots(figsize=(15, 6))\n",
        "sns.countplot(x='PolicyType',\n",
        "              data=customers[customers['FraudFound_P']==1],\n",
        "              palette='RdYlGn',\n",
        "              order=customers['PolicyType'].value_counts().index)\n",
        "\n",
        "plt.xticks(rotation=90)\n",
        "\n",
        "plt.ylabel('Number of Fraud')\n",
        "plt.xlabel('Policy Type')\n",
        "plt.title('Policy Type vs Number of Fraud')\n",
        "\n",
        "plt.show()\n",
        "\n",
        "x = customers[customers['FraudFound_P']==1]['PolicyType'].value_counts().index\n",
        "y = np.array(customers[customers['FraudFound_P']==1]['PolicyType'].value_counts().values)\n",
        "perFraud = np.true_divide(y, y.sum()) * 100\n",
        "claim_array = []\n",
        "\n",
        "for i in range(len(perFraud)):\n",
        "    small_claim = []\n",
        "    small_claim.append(x[i])\n",
        "    small_claim.append(y[i])\n",
        "    small_claim.append(format(perFraud[i], '.2f'))\n",
        "    #print(x[i], format(perFraud[i], '.2f'), '%')\n",
        "    claim_array.append(small_claim)\n",
        "    \n",
        "pd.DataFrame(claim_array, columns=['PolicyType', 'Fraud', 'Percentage-%'])   "
      ],
      "id": "3999310f",
      "execution_count": 26,
      "outputs": [
        {
          "output_type": "display_data",
          "data": {
            "image/png": "[encoded data removed]",
            "text/plain": [
              "<Figure size 1080x432 with 1 Axes>"
            ]
          },
          "metadata": {
            "needs_background": "light"
          }
        },
        {
          "output_type": "execute_result",
          "data": {
            "text/html": [
              "<div>\n",
              "<style scoped>\n",
              "    .dataframe tbody tr th:only-of-type {\n",
              "        vertical-align: middle;\n",
              "    }\n",
              "\n",
              "    .dataframe tbody tr th {\n",
              "        vertical-align: top;\n",
              "    }\n",
              "\n",
              "    .dataframe thead th {\n",
              "        text-align: right;\n",
              "    }\n",
              "</style>\n",
              "<table border=\"1\" class=\"dataframe\">\n",
              "  <thead>\n",
              "    <tr style=\"text-align: right;\">\n",
              "      <th></th>\n",
              "      <th>PolicyType</th>\n",
              "      <th>Fraud</th>\n",
              "      <th>Percentage-%</th>\n",
              "    </tr>\n",
              "  </thead>\n",
              "  <tbody>\n",
              "    <tr>\n",
              "      <th>0</th>\n",
              "      <td>Sedan - All Perils</td>\n",
              "      <td>307</td>\n",
              "      <td>44.82</td>\n",
              "    </tr>\n",
              "    <tr>\n",
              "      <th>1</th>\n",
              "      <td>Sedan - Collision</td>\n",
              "      <td>281</td>\n",
              "      <td>41.02</td>\n",
              "    </tr>\n",
              "    <tr>\n",
              "      <th>2</th>\n",
              "      <td>Sport - Collision</td>\n",
              "      <td>34</td>\n",
              "      <td>4.96</td>\n",
              "    </tr>\n",
              "    <tr>\n",
              "      <th>3</th>\n",
              "      <td>Utility - All Perils</td>\n",
              "      <td>33</td>\n",
              "      <td>4.82</td>\n",
              "    </tr>\n",
              "    <tr>\n",
              "      <th>4</th>\n",
              "      <td>Sedan - Liability</td>\n",
              "      <td>27</td>\n",
              "      <td>3.94</td>\n",
              "    </tr>\n",
              "    <tr>\n",
              "      <th>5</th>\n",
              "      <td>Utility - Collision</td>\n",
              "      <td>3</td>\n",
              "      <td>0.44</td>\n",
              "    </tr>\n",
              "  </tbody>\n",
              "</table>\n",
              "</div>"
            ],
            "text/plain": [
              "             PolicyType  Fraud Percentage-%\n",
              "0    Sedan - All Perils    307        44.82\n",
              "1     Sedan - Collision    281        41.02\n",
              "2     Sport - Collision     34         4.96\n",
              "3  Utility - All Perils     33         4.82\n",
              "4     Sedan - Liability     27         3.94\n",
              "5   Utility - Collision      3         0.44"
            ]
          },
          "metadata": {},
          "execution_count": 26
        }
      ]
    },
    {
      "cell_type": "markdown",
      "metadata": {
        "id": "ceacb557"
      },
      "source": [
        "###From this two graph we can see their more chance of fraud for people having policy type All Perlis and Car Type Sedan or Utility"
      ],
      "id": "ceacb557"
    },
    {
      "cell_type": "markdown",
      "metadata": {
        "id": "ghTu1_CG0860"
      },
      "source": [
        "##Claim and Fraud with respect to the number of Vehicle owned by the customer"
      ],
      "id": "ghTu1_CG0860"
    },
    {
      "cell_type": "code",
      "metadata": {
        "colab": {
          "base_uri": "https://localhost:8080/",
          "height": 642
        },
        "id": "a41594cf",
        "outputId": "f006998a-4a67-44f0-e993-9f3618c30c4b"
      },
      "source": [
        "plt.subplots(figsize=(15, 6))\n",
        "sns.countplot(x='NumberOfCars',\n",
        "              data=customers,\n",
        "              palette='RdYlGn',\n",
        "              order=customers['NumberOfCars'].value_counts().index)\n",
        "\n",
        "plt.xticks(rotation=90)\n",
        "\n",
        "plt.ylabel('Number of Claims')\n",
        "plt.xlabel('Number of Vehicles')\n",
        "plt.title('Number of Vehicles vs Number of Claims')\n",
        "\n",
        "plt.show()\n",
        "\n",
        "x = customers['NumberOfCars'].value_counts().index\n",
        "y = np.array(customers['NumberOfCars'].value_counts().values)\n",
        "perFraud = np.true_divide(y, y.sum())*100\n",
        "claim_array = []\n",
        "\n",
        "for i in range(len(perFraud)):\n",
        "    small_claim = []\n",
        "    small_claim.append(x[i])\n",
        "    small_claim.append(y[i])\n",
        "    small_claim.append(format(perFraud[i], '.2f'))\n",
        "    #print(x[i], format(perFraud[i], '.2f'), '%')\n",
        "    claim_array.append(small_claim)\n",
        "    \n",
        "pd.DataFrame(claim_array, columns=['Number of Vehicles', 'Claims', 'Percentage-%'])   "
      ],
      "id": "a41594cf",
      "execution_count": 27,
      "outputs": [
        {
          "output_type": "display_data",
          "data": {
            "image/png": "[encoded data removed]",
            "text/plain": [
              "<Figure size 1080x432 with 1 Axes>"
            ]
          },
          "metadata": {
            "needs_background": "light"
          }
        },
        {
          "output_type": "execute_result",
          "data": {
            "text/html": [
              "<div>\n",
              "<style scoped>\n",
              "    .dataframe tbody tr th:only-of-type {\n",
              "        vertical-align: middle;\n",
              "    }\n",
              "\n",
              "    .dataframe tbody tr th {\n",
              "        vertical-align: top;\n",
              "    }\n",
              "\n",
              "    .dataframe thead th {\n",
              "        text-align: right;\n",
              "    }\n",
              "</style>\n",
              "<table border=\"1\" class=\"dataframe\">\n",
              "  <thead>\n",
              "    <tr style=\"text-align: right;\">\n",
              "      <th></th>\n",
              "      <th>Number of Vehicles</th>\n",
              "      <th>Claims</th>\n",
              "      <th>Percentage-%</th>\n",
              "    </tr>\n",
              "  </thead>\n",
              "  <tbody>\n",
              "    <tr>\n",
              "      <th>0</th>\n",
              "      <td>1 vehicle</td>\n",
              "      <td>10698</td>\n",
              "      <td>92.50</td>\n",
              "    </tr>\n",
              "    <tr>\n",
              "      <th>1</th>\n",
              "      <td>2 vehicles</td>\n",
              "      <td>559</td>\n",
              "      <td>4.83</td>\n",
              "    </tr>\n",
              "    <tr>\n",
              "      <th>2</th>\n",
              "      <td>3 to 4</td>\n",
              "      <td>288</td>\n",
              "      <td>2.49</td>\n",
              "    </tr>\n",
              "    <tr>\n",
              "      <th>3</th>\n",
              "      <td>5 to 8</td>\n",
              "      <td>19</td>\n",
              "      <td>0.16</td>\n",
              "    </tr>\n",
              "    <tr>\n",
              "      <th>4</th>\n",
              "      <td>more than 8</td>\n",
              "      <td>1</td>\n",
              "      <td>0.01</td>\n",
              "    </tr>\n",
              "  </tbody>\n",
              "</table>\n",
              "</div>"
            ],
            "text/plain": [
              "  Number of Vehicles  Claims Percentage-%\n",
              "0          1 vehicle   10698        92.50\n",
              "1         2 vehicles     559         4.83\n",
              "2             3 to 4     288         2.49\n",
              "3             5 to 8      19         0.16\n",
              "4        more than 8       1         0.01"
            ]
          },
          "metadata": {},
          "execution_count": 27
        }
      ]
    },
    {
      "cell_type": "code",
      "metadata": {
        "colab": {
          "base_uri": "https://localhost:8080/",
          "height": 611
        },
        "id": "d5e551a7",
        "outputId": "3a23517f-0159-4edb-8b8a-106e423785d7"
      },
      "source": [
        "plt.subplots(figsize=(15, 6))\n",
        "sns.countplot(x='NumberOfCars',\n",
        "              data=customers[customers['FraudFound_P']==1],\n",
        "              palette='RdYlGn',\n",
        "              order=customers['NumberOfCars'].value_counts().index)\n",
        "\n",
        "plt.xticks(rotation=90)\n",
        "\n",
        "plt.ylabel('Number of Fraud')\n",
        "plt.xlabel('Number of Car')\n",
        "plt.title('Number of Car vs Number of Fraud')\n",
        "\n",
        "plt.show()\n",
        "\n",
        "x = customers[customers['FraudFound_P']==1]['NumberOfCars'].value_counts().index\n",
        "y = np.array(customers[customers['FraudFound_P']==1]['NumberOfCars'].value_counts().values)\n",
        "perFraud = np.true_divide(y, y.sum()) * 100\n",
        "claim_array = []\n",
        "\n",
        "for i in range(len(perFraud)):\n",
        "    small_claim = []\n",
        "    small_claim.append(x[i])\n",
        "    small_claim.append(y[i])\n",
        "    small_claim.append(format(perFraud[i], '.2f'))\n",
        "    #print(x[i], format(perFraud[i], '.2f'), '%')\n",
        "    claim_array.append(small_claim)\n",
        "    \n",
        "pd.DataFrame(claim_array, columns=['Number of Vehicles', 'Fraud', 'Percentage-%'])   "
      ],
      "id": "d5e551a7",
      "execution_count": 28,
      "outputs": [
        {
          "output_type": "display_data",
          "data": {
            "image/png": "[encoded data removed]",
            "text/plain": [
              "<Figure size 1080x432 with 1 Axes>"
            ]
          },
          "metadata": {
            "needs_background": "light"
          }
        },
        {
          "output_type": "execute_result",
          "data": {
            "text/html": [
              "<div>\n",
              "<style scoped>\n",
              "    .dataframe tbody tr th:only-of-type {\n",
              "        vertical-align: middle;\n",
              "    }\n",
              "\n",
              "    .dataframe tbody tr th {\n",
              "        vertical-align: top;\n",
              "    }\n",
              "\n",
              "    .dataframe thead th {\n",
              "        text-align: right;\n",
              "    }\n",
              "</style>\n",
              "<table border=\"1\" class=\"dataframe\">\n",
              "  <thead>\n",
              "    <tr style=\"text-align: right;\">\n",
              "      <th></th>\n",
              "      <th>Number of Vehicles</th>\n",
              "      <th>Fraud</th>\n",
              "      <th>Percentage-%</th>\n",
              "    </tr>\n",
              "  </thead>\n",
              "  <tbody>\n",
              "    <tr>\n",
              "      <th>0</th>\n",
              "      <td>1 vehicle</td>\n",
              "      <td>628</td>\n",
              "      <td>91.68</td>\n",
              "    </tr>\n",
              "    <tr>\n",
              "      <th>1</th>\n",
              "      <td>2 vehicles</td>\n",
              "      <td>37</td>\n",
              "      <td>5.40</td>\n",
              "    </tr>\n",
              "    <tr>\n",
              "      <th>2</th>\n",
              "      <td>3 to 4</td>\n",
              "      <td>19</td>\n",
              "      <td>2.77</td>\n",
              "    </tr>\n",
              "    <tr>\n",
              "      <th>3</th>\n",
              "      <td>5 to 8</td>\n",
              "      <td>1</td>\n",
              "      <td>0.15</td>\n",
              "    </tr>\n",
              "  </tbody>\n",
              "</table>\n",
              "</div>"
            ],
            "text/plain": [
              "  Number of Vehicles  Fraud Percentage-%\n",
              "0          1 vehicle    628        91.68\n",
              "1         2 vehicles     37         5.40\n",
              "2             3 to 4     19         2.77\n",
              "3             5 to 8      1         0.15"
            ]
          },
          "metadata": {},
          "execution_count": 28
        }
      ]
    },
    {
      "cell_type": "markdown",
      "metadata": {
        "id": "cC6l3dVE4M96"
      },
      "source": [
        "##Number of Frauds with respect to Relationship Status [Single] and Number of Cars owned"
      ],
      "id": "cC6l3dVE4M96"
    },
    {
      "cell_type": "code",
      "metadata": {
        "colab": {
          "base_uri": "https://localhost:8080/",
          "height": 580
        },
        "id": "56c2ab2b",
        "outputId": "bbc1df03-8fd6-45ea-af7a-f0116711c58c"
      },
      "source": [
        "plt.subplots(figsize=(15, 6))\n",
        "single = customers[customers['MaritalStatus']=='Single']\n",
        "sns.countplot(x='NumberOfCars',\n",
        "              data=single[single['FraudFound_P']==1],\n",
        "              palette='RdYlGn',\n",
        "              order=single['NumberOfCars'].value_counts().index)\n",
        "\n",
        "plt.xticks(rotation=90)\n",
        "\n",
        "plt.ylabel('Number of Fraud')\n",
        "plt.xlabel('Number of Vehicle')\n",
        "plt.title('Relationship - Single vs Number of Fraud Done')\n",
        "\n",
        "plt.show()\n",
        "\n",
        "x = single[single['FraudFound_P']==1]['NumberOfCars'].value_counts().index\n",
        "y = np.array(single[single['FraudFound_P']==1]['NumberOfCars'].value_counts().values)\n",
        "perFraud = np.true_divide(y, y.sum()) * 100\n",
        "claim_array = []\n",
        "\n",
        "for i in range(len(perFraud)):\n",
        "    small_claim = []\n",
        "    small_claim.append(x[i])\n",
        "    small_claim.append(y[i])\n",
        "    small_claim.append(format(perFraud[i], '.2f'))\n",
        "    #print(x[i], format(perFraud[i], '.2f'), '%')\n",
        "    claim_array.append(small_claim)\n",
        "    \n",
        "pd.DataFrame(claim_array, columns=['Number of Vehicles', 'Claims', 'Percentage-%'])    "
      ],
      "id": "56c2ab2b",
      "execution_count": 29,
      "outputs": [
        {
          "output_type": "display_data",
          "data": {
            "image/png": "[encoded data removed]",
            "text/plain": [
              "<Figure size 1080x432 with 1 Axes>"
            ]
          },
          "metadata": {
            "needs_background": "light"
          }
        },
        {
          "output_type": "execute_result",
          "data": {
            "text/html": [
              "<div>\n",
              "<style scoped>\n",
              "    .dataframe tbody tr th:only-of-type {\n",
              "        vertical-align: middle;\n",
              "    }\n",
              "\n",
              "    .dataframe tbody tr th {\n",
              "        vertical-align: top;\n",
              "    }\n",
              "\n",
              "    .dataframe thead th {\n",
              "        text-align: right;\n",
              "    }\n",
              "</style>\n",
              "<table border=\"1\" class=\"dataframe\">\n",
              "  <thead>\n",
              "    <tr style=\"text-align: right;\">\n",
              "      <th></th>\n",
              "      <th>Number of Vehicles</th>\n",
              "      <th>Claims</th>\n",
              "      <th>Percentage-%</th>\n",
              "    </tr>\n",
              "  </thead>\n",
              "  <tbody>\n",
              "    <tr>\n",
              "      <th>0</th>\n",
              "      <td>1 vehicle</td>\n",
              "      <td>178</td>\n",
              "      <td>89.90</td>\n",
              "    </tr>\n",
              "    <tr>\n",
              "      <th>1</th>\n",
              "      <td>2 vehicles</td>\n",
              "      <td>14</td>\n",
              "      <td>7.07</td>\n",
              "    </tr>\n",
              "    <tr>\n",
              "      <th>2</th>\n",
              "      <td>3 to 4</td>\n",
              "      <td>6</td>\n",
              "      <td>3.03</td>\n",
              "    </tr>\n",
              "  </tbody>\n",
              "</table>\n",
              "</div>"
            ],
            "text/plain": [
              "  Number of Vehicles  Claims Percentage-%\n",
              "0          1 vehicle     178        89.90\n",
              "1         2 vehicles      14         7.07\n",
              "2             3 to 4       6         3.03"
            ]
          },
          "metadata": {},
          "execution_count": 29
        }
      ]
    },
    {
      "cell_type": "markdown",
      "metadata": {
        "id": "eca3c3a0"
      },
      "source": [
        "## Claims Amount, Vehicle Price | Claim Size Percent"
      ],
      "id": "eca3c3a0"
    },
    {
      "cell_type": "code",
      "metadata": {
        "colab": {
          "base_uri": "https://localhost:8080/"
        },
        "id": "a1457a75",
        "outputId": "169c9157-30d5-49d0-e054-d73b9b9839e1"
      },
      "source": [
        "customers['VehiclePrice'].value_counts()"
      ],
      "id": "a1457a75",
      "execution_count": 30,
      "outputs": [
        {
          "output_type": "execute_result",
          "data": {
            "text/plain": [
              "20000 to 29000     6112\n",
              "30000 to 39000     2640\n",
              "more than 69000    1605\n",
              "less than 20000     800\n",
              "40000 to 59000      349\n",
              "60000 to 69000       59\n",
              "Name: VehiclePrice, dtype: int64"
            ]
          },
          "metadata": {},
          "execution_count": 30
        }
      ]
    },
    {
      "cell_type": "code",
      "metadata": {
        "id": "7d504159"
      },
      "source": [
        "vehicle_price_dict = {\n",
        "    'less than 20000': 20000,\n",
        "    '20000 to 29000': 29000,\n",
        "    '30000 to 39000': 39000,\n",
        "    '40000 to 59000': 59000,\n",
        "    '60000 to 69000': 69000,\n",
        "    'more than 69000': 100000\n",
        "}\n",
        "\n",
        "claim_trustability = []\n",
        "\n",
        "for index, row in customers.iterrows():\n",
        "    ct = row['ClaimSize']/vehicle_price_dict.get(row['VehiclePrice']) * 100\n",
        "    claim_trustability.append(ct)\n",
        "\n",
        "customers['Claim_Amount_Percent'] = claim_trustability"
      ],
      "id": "7d504159",
      "execution_count": 31,
      "outputs": []
    },
    {
      "cell_type": "code",
      "metadata": {
        "colab": {
          "base_uri": "https://localhost:8080/"
        },
        "id": "eed90a30",
        "outputId": "bb7c0c83-7089-489d-88ba-5fe58e8adc6e"
      },
      "source": [
        "claim_amount_100 = customers[customers['Claim_Amount_Percent']>100]\n",
        "claim_amount_100['VehiclePrice'].value_counts()"
      ],
      "id": "eed90a30",
      "execution_count": 32,
      "outputs": [
        {
          "output_type": "execute_result",
          "data": {
            "text/plain": [
              "30000 to 39000     1128\n",
              "20000 to 29000      178\n",
              "40000 to 59000       76\n",
              "60000 to 69000       23\n",
              "less than 20000       5\n",
              "Name: VehiclePrice, dtype: int64"
            ]
          },
          "metadata": {},
          "execution_count": 32
        }
      ]
    },
    {
      "cell_type": "code",
      "metadata": {
        "colab": {
          "base_uri": "https://localhost:8080/",
          "height": 309
        },
        "id": "09af6004",
        "outputId": "bf75e64c-2d99-443a-f71f-92926399d0af"
      },
      "source": [
        "claim_amount_100.head()"
      ],
      "id": "09af6004",
      "execution_count": 33,
      "outputs": [
        {
          "output_type": "execute_result",
          "data": {
            "text/html": [
              "<div>\n",
              "<style scoped>\n",
              "    .dataframe tbody tr th:only-of-type {\n",
              "        vertical-align: middle;\n",
              "    }\n",
              "\n",
              "    .dataframe tbody tr th {\n",
              "        vertical-align: top;\n",
              "    }\n",
              "\n",
              "    .dataframe thead th {\n",
              "        text-align: right;\n",
              "    }\n",
              "</style>\n",
              "<table border=\"1\" class=\"dataframe\">\n",
              "  <thead>\n",
              "    <tr style=\"text-align: right;\">\n",
              "      <th></th>\n",
              "      <th>Month</th>\n",
              "      <th>WeekOfMonth</th>\n",
              "      <th>DayOfWeek</th>\n",
              "      <th>Make</th>\n",
              "      <th>AccidentArea</th>\n",
              "      <th>DayOfWeekClaimed</th>\n",
              "      <th>MonthClaimed</th>\n",
              "      <th>WeekOfMonthClaimed</th>\n",
              "      <th>Sex</th>\n",
              "      <th>MaritalStatus</th>\n",
              "      <th>Age</th>\n",
              "      <th>Fault</th>\n",
              "      <th>PolicyType</th>\n",
              "      <th>VehicleCategory</th>\n",
              "      <th>VehiclePrice</th>\n",
              "      <th>FraudFound_P</th>\n",
              "      <th>PolicyNumber</th>\n",
              "      <th>RepNumber</th>\n",
              "      <th>Deductible</th>\n",
              "      <th>DriverRating</th>\n",
              "      <th>Days_Policy_Accident</th>\n",
              "      <th>Days_Policy_Claim</th>\n",
              "      <th>PastNumberOfClaims</th>\n",
              "      <th>AgeOfVehicle</th>\n",
              "      <th>AgeOfPolicyHolder</th>\n",
              "      <th>PoliceReportFiled</th>\n",
              "      <th>WitnessPresent</th>\n",
              "      <th>AgentType</th>\n",
              "      <th>NumberOfSuppliments</th>\n",
              "      <th>AddressChange_Claim</th>\n",
              "      <th>NumberOfCars</th>\n",
              "      <th>Year</th>\n",
              "      <th>BasePolicy</th>\n",
              "      <th>ClaimSize</th>\n",
              "      <th>Claim_Amount_Percent</th>\n",
              "    </tr>\n",
              "  </thead>\n",
              "  <tbody>\n",
              "    <tr>\n",
              "      <th>7</th>\n",
              "      <td>Mar</td>\n",
              "      <td>5</td>\n",
              "      <td>Monday</td>\n",
              "      <td>Honda</td>\n",
              "      <td>Urban</td>\n",
              "      <td>Monday</td>\n",
              "      <td>Mar</td>\n",
              "      <td>5</td>\n",
              "      <td>Male</td>\n",
              "      <td>Married</td>\n",
              "      <td>52.0</td>\n",
              "      <td>Policy Holder</td>\n",
              "      <td>Sedan - Liability</td>\n",
              "      <td>Sport</td>\n",
              "      <td>20000 to 29000</td>\n",
              "      <td>0</td>\n",
              "      <td>12</td>\n",
              "      <td>13</td>\n",
              "      <td>400</td>\n",
              "      <td>1.0</td>\n",
              "      <td>more than 30</td>\n",
              "      <td>more than 30</td>\n",
              "      <td>2 to 4</td>\n",
              "      <td>more than 7</td>\n",
              "      <td>41 to 50</td>\n",
              "      <td>No</td>\n",
              "      <td>No</td>\n",
              "      <td>External</td>\n",
              "      <td>none</td>\n",
              "      <td>no change</td>\n",
              "      <td>1 vehicle</td>\n",
              "      <td>1994</td>\n",
              "      <td>Liability</td>\n",
              "      <td>103420.785275</td>\n",
              "      <td>356.623397</td>\n",
              "    </tr>\n",
              "    <tr>\n",
              "      <th>18</th>\n",
              "      <td>Mar</td>\n",
              "      <td>3</td>\n",
              "      <td>Thursday</td>\n",
              "      <td>Honda</td>\n",
              "      <td>Urban</td>\n",
              "      <td>Thursday</td>\n",
              "      <td>Jun</td>\n",
              "      <td>4</td>\n",
              "      <td>Male</td>\n",
              "      <td>Married</td>\n",
              "      <td>21.0</td>\n",
              "      <td>Policy Holder</td>\n",
              "      <td>Sedan - Collision</td>\n",
              "      <td>Sedan</td>\n",
              "      <td>30000 to 39000</td>\n",
              "      <td>0</td>\n",
              "      <td>27</td>\n",
              "      <td>1</td>\n",
              "      <td>400</td>\n",
              "      <td>2.0</td>\n",
              "      <td>more than 30</td>\n",
              "      <td>more than 30</td>\n",
              "      <td>more than 4</td>\n",
              "      <td>5 years</td>\n",
              "      <td>26 to 30</td>\n",
              "      <td>No</td>\n",
              "      <td>No</td>\n",
              "      <td>External</td>\n",
              "      <td>more than 5</td>\n",
              "      <td>no change</td>\n",
              "      <td>1 vehicle</td>\n",
              "      <td>1994</td>\n",
              "      <td>Collision</td>\n",
              "      <td>84964.753582</td>\n",
              "      <td>217.858343</td>\n",
              "    </tr>\n",
              "    <tr>\n",
              "      <th>21</th>\n",
              "      <td>Mar</td>\n",
              "      <td>2</td>\n",
              "      <td>Friday</td>\n",
              "      <td>Dodge</td>\n",
              "      <td>Urban</td>\n",
              "      <td>Saturday</td>\n",
              "      <td>Mar</td>\n",
              "      <td>2</td>\n",
              "      <td>Male</td>\n",
              "      <td>Married</td>\n",
              "      <td>47.0</td>\n",
              "      <td>Policy Holder</td>\n",
              "      <td>Sedan - Collision</td>\n",
              "      <td>Sedan</td>\n",
              "      <td>30000 to 39000</td>\n",
              "      <td>0</td>\n",
              "      <td>31</td>\n",
              "      <td>2</td>\n",
              "      <td>400</td>\n",
              "      <td>1.0</td>\n",
              "      <td>more than 30</td>\n",
              "      <td>more than 30</td>\n",
              "      <td>2 to 4</td>\n",
              "      <td>more than 7</td>\n",
              "      <td>41 to 50</td>\n",
              "      <td>No</td>\n",
              "      <td>No</td>\n",
              "      <td>Internal</td>\n",
              "      <td>none</td>\n",
              "      <td>no change</td>\n",
              "      <td>1 vehicle</td>\n",
              "      <td>1994</td>\n",
              "      <td>Collision</td>\n",
              "      <td>54233.789823</td>\n",
              "      <td>139.061000</td>\n",
              "    </tr>\n",
              "    <tr>\n",
              "      <th>35</th>\n",
              "      <td>May</td>\n",
              "      <td>4</td>\n",
              "      <td>Friday</td>\n",
              "      <td>Pontiac</td>\n",
              "      <td>Urban</td>\n",
              "      <td>Friday</td>\n",
              "      <td>May</td>\n",
              "      <td>4</td>\n",
              "      <td>Male</td>\n",
              "      <td>Married</td>\n",
              "      <td>49.0</td>\n",
              "      <td>Policy Holder</td>\n",
              "      <td>Sedan - Liability</td>\n",
              "      <td>Sport</td>\n",
              "      <td>30000 to 39000</td>\n",
              "      <td>0</td>\n",
              "      <td>51</td>\n",
              "      <td>14</td>\n",
              "      <td>400</td>\n",
              "      <td>2.0</td>\n",
              "      <td>more than 30</td>\n",
              "      <td>more than 30</td>\n",
              "      <td>more than 4</td>\n",
              "      <td>more than 7</td>\n",
              "      <td>41 to 50</td>\n",
              "      <td>No</td>\n",
              "      <td>No</td>\n",
              "      <td>External</td>\n",
              "      <td>none</td>\n",
              "      <td>no change</td>\n",
              "      <td>1 vehicle</td>\n",
              "      <td>1994</td>\n",
              "      <td>Liability</td>\n",
              "      <td>52494.337422</td>\n",
              "      <td>134.600865</td>\n",
              "    </tr>\n",
              "    <tr>\n",
              "      <th>38</th>\n",
              "      <td>Jun</td>\n",
              "      <td>4</td>\n",
              "      <td>Tuesday</td>\n",
              "      <td>Pontiac</td>\n",
              "      <td>Urban</td>\n",
              "      <td>Tuesday</td>\n",
              "      <td>Jun</td>\n",
              "      <td>4</td>\n",
              "      <td>Male</td>\n",
              "      <td>Single</td>\n",
              "      <td>45.0</td>\n",
              "      <td>Policy Holder</td>\n",
              "      <td>Sedan - Collision</td>\n",
              "      <td>Sedan</td>\n",
              "      <td>30000 to 39000</td>\n",
              "      <td>0</td>\n",
              "      <td>55</td>\n",
              "      <td>8</td>\n",
              "      <td>400</td>\n",
              "      <td>1.0</td>\n",
              "      <td>more than 30</td>\n",
              "      <td>more than 30</td>\n",
              "      <td>1</td>\n",
              "      <td>7 years</td>\n",
              "      <td>36 to 40</td>\n",
              "      <td>No</td>\n",
              "      <td>No</td>\n",
              "      <td>External</td>\n",
              "      <td>1 to 2</td>\n",
              "      <td>no change</td>\n",
              "      <td>1 vehicle</td>\n",
              "      <td>1994</td>\n",
              "      <td>Collision</td>\n",
              "      <td>58488.924392</td>\n",
              "      <td>149.971601</td>\n",
              "    </tr>\n",
              "  </tbody>\n",
              "</table>\n",
              "</div>"
            ],
            "text/plain": [
              "   Month  WeekOfMonth DayOfWeek  ... BasePolicy      ClaimSize Claim_Amount_Percent\n",
              "7    Mar            5    Monday  ...  Liability  103420.785275           356.623397\n",
              "18   Mar            3  Thursday  ...  Collision   84964.753582           217.858343\n",
              "21   Mar            2    Friday  ...  Collision   54233.789823           139.061000\n",
              "35   May            4    Friday  ...  Liability   52494.337422           134.600865\n",
              "38   Jun            4   Tuesday  ...  Collision   58488.924392           149.971601\n",
              "\n",
              "[5 rows x 35 columns]"
            ]
          },
          "metadata": {},
          "execution_count": 33
        }
      ]
    },
    {
      "cell_type": "code",
      "metadata": {
        "colab": {
          "base_uri": "https://localhost:8080/"
        },
        "id": "215b526d",
        "outputId": "162de8c8-2f2b-4b93-a1ee-e370d41b9fcb"
      },
      "source": [
        "claim_amount_100[claim_amount_100['FraudFound_P']==1]['VehiclePrice'].value_counts()"
      ],
      "id": "215b526d",
      "execution_count": 34,
      "outputs": [
        {
          "output_type": "execute_result",
          "data": {
            "text/plain": [
              "30000 to 39000    57\n",
              "20000 to 29000     9\n",
              "40000 to 59000     5\n",
              "Name: VehiclePrice, dtype: int64"
            ]
          },
          "metadata": {},
          "execution_count": 34
        }
      ]
    },
    {
      "cell_type": "code",
      "metadata": {
        "colab": {
          "base_uri": "https://localhost:8080/",
          "height": 473
        },
        "id": "cc98db7d",
        "outputId": "1481517a-e930-4ed6-d68e-d8fae48600fd"
      },
      "source": [
        "claim_amount_100_vehicle = claim_amount_100[claim_amount_100['VehiclePrice']!='more than 69000']\n",
        "fraud_claim = claim_amount_100_vehicle[claim_amount_100_vehicle['FraudFound_P']==1]\n",
        "\n",
        "plt.subplots(figsize=(10, 6))\n",
        "\n",
        "sns.countplot(x='VehiclePrice',\n",
        "              data=fraud_claim,\n",
        "              palette='RdYlGn',\n",
        "              order=fraud_claim['VehiclePrice'].value_counts().index)\n",
        "\n",
        "plt.xticks(rotation=90)\n",
        "\n",
        "plt.ylabel('Number of Fraud')\n",
        "plt.xlabel('Vehicle Price ')\n",
        "plt.title('Vehicle Price vs Number of Fraud Done (Claim Percent>100%)')\n",
        "\n",
        "plt.show()"
      ],
      "id": "cc98db7d",
      "execution_count": 35,
      "outputs": [
        {
          "output_type": "display_data",
          "data": {
            "image/png": "[encoded data removed]",
            "text/plain": [
              "<Figure size 720x432 with 1 Axes>"
            ]
          },
          "metadata": {
            "needs_background": "light"
          }
        }
      ]
    },
    {
      "cell_type": "markdown",
      "metadata": {
        "id": "cba084d8"
      },
      "source": [
        "###Vehicle having price between 30000 to 39000 and whose claim percent is greater than 100 has more chance of commiting fraud"
      ],
      "id": "cba084d8"
    },
    {
      "cell_type": "markdown",
      "metadata": {
        "id": "VbmxS-Sc9Zg2"
      },
      "source": [
        "##Frauds and Claims made with respect to Age of Vehicle, Relationship Status [Single]"
      ],
      "id": "VbmxS-Sc9Zg2"
    },
    {
      "cell_type": "code",
      "metadata": {
        "colab": {
          "base_uri": "https://localhost:8080/"
        },
        "id": "eda684ba",
        "outputId": "4fa6a943-7f5a-4c93-90c6-4521ffec32a6"
      },
      "source": [
        "customers['AgeOfPolicyHolder'].value_counts()"
      ],
      "id": "eda684ba",
      "execution_count": 36,
      "outputs": [
        {
          "output_type": "execute_result",
          "data": {
            "text/plain": [
              "31 to 35    4199\n",
              "36 to 40    3008\n",
              "41 to 50    2122\n",
              "51 to 65    1070\n",
              "26 to 30     445\n",
              "over 65      388\n",
              "16 to 17     247\n",
              "21 to 25      73\n",
              "18 to 20      13\n",
              "Name: AgeOfPolicyHolder, dtype: int64"
            ]
          },
          "metadata": {},
          "execution_count": 36
        }
      ]
    },
    {
      "cell_type": "code",
      "metadata": {
        "colab": {
          "base_uri": "https://localhost:8080/",
          "height": 431
        },
        "id": "ad64992a",
        "outputId": "cf3d061c-d3e8-40a9-e26c-aff0e5134ad7"
      },
      "source": [
        "single = customers[customers['MaritalStatus']=='Single']\n",
        "single = single[single['AgeOfPolicyHolder']=='31 to 35']\n",
        "fraud = single[single['FraudFound_P']==1]\n",
        "\n",
        "plt.subplots(figsize=(10, 6))\n",
        "\n",
        "sns.countplot(x='AgeOfVehicle',\n",
        "              data=fraud,\n",
        "              palette='RdYlGn',\n",
        "              order=fraud['AgeOfVehicle'].value_counts().index)\n",
        "\n",
        "plt.xticks(rotation=90)\n",
        "\n",
        "plt.ylabel('Number of Fraud')\n",
        "plt.xlabel('Age of Vehicle')\n",
        "plt.title('Age of Vehicle - Relationship Status [Single] vs Number of Fraud Done')\n",
        "\n",
        "plt.show()"
      ],
      "id": "ad64992a",
      "execution_count": 37,
      "outputs": [
        {
          "output_type": "display_data",
          "data": {
            "image/png": "[encoded data removed]",
            "text/plain": [
              "<Figure size 720x432 with 1 Axes>"
            ]
          },
          "metadata": {
            "needs_background": "light"
          }
        }
      ]
    },
    {
      "cell_type": "code",
      "metadata": {
        "colab": {
          "base_uri": "https://localhost:8080/",
          "height": 431
        },
        "id": "97c2ac67",
        "outputId": "260db0af-8f08-40a9-9e86-0deb094b3f24"
      },
      "source": [
        "single = customers[customers['MaritalStatus']=='Single']\n",
        "single = single[single['AgeOfPolicyHolder']=='31 to 35']\n",
        "fraud = single[single['FraudFound_P']==1]\n",
        "\n",
        "plt.subplots(figsize=(10, 6))\n",
        "\n",
        "sns.countplot(x='AgeOfVehicle',\n",
        "              data=single,\n",
        "              palette='RdYlGn',\n",
        "              order=single['AgeOfVehicle'].value_counts().index)\n",
        "\n",
        "plt.xticks(rotation=90)\n",
        "\n",
        "plt.ylabel('Number of Claim')\n",
        "plt.xlabel('Age of Vehicle')\n",
        "plt.title('Age of Vehicle - Relationship Status [Single] vs Number of Claim Done')\n",
        "\n",
        "plt.show()"
      ],
      "id": "97c2ac67",
      "execution_count": 38,
      "outputs": [
        {
          "output_type": "display_data",
          "data": {
            "image/png": "[encoded data removed]",
            "text/plain": [
              "<Figure size 720x432 with 1 Axes>"
            ]
          },
          "metadata": {
            "needs_background": "light"
          }
        }
      ]
    },
    {
      "cell_type": "markdown",
      "metadata": {
        "id": "_aeaONln-Qpd"
      },
      "source": [
        "##Claims and Fraud done based on Age of Vehicle"
      ],
      "id": "_aeaONln-Qpd"
    },
    {
      "cell_type": "code",
      "metadata": {
        "colab": {
          "base_uri": "https://localhost:8080/"
        },
        "id": "tsXm-j9X-uqp",
        "outputId": "1c6eed06-4263-461a-a619-1cef03b10adf"
      },
      "source": [
        "customers['AgeOfVehicle'].value_counts()"
      ],
      "id": "tsXm-j9X-uqp",
      "execution_count": 39,
      "outputs": [
        {
          "output_type": "execute_result",
          "data": {
            "text/plain": [
              "7 years        4388\n",
              "more than 7    2993\n",
              "6 years        2581\n",
              "5 years         990\n",
              "new             285\n",
              "4 years         176\n",
              "3 years         100\n",
              "2 years          52\n",
              "Name: AgeOfVehicle, dtype: int64"
            ]
          },
          "metadata": {},
          "execution_count": 39
        }
      ]
    },
    {
      "cell_type": "code",
      "metadata": {
        "colab": {
          "base_uri": "https://localhost:8080/"
        },
        "id": "VaIAbCYH-v8W",
        "outputId": "802408bb-95ef-438c-e270-4375cba47008"
      },
      "source": [
        "customers[customers['FraudFound_P']==1]['AgeOfVehicle'].value_counts()"
      ],
      "id": "VaIAbCYH-v8W",
      "execution_count": 40,
      "outputs": [
        {
          "output_type": "execute_result",
          "data": {
            "text/plain": [
              "7 years        260\n",
              "6 years        165\n",
              "more than 7    148\n",
              "5 years         60\n",
              "new             26\n",
              "4 years         15\n",
              "3 years          9\n",
              "2 years          2\n",
              "Name: AgeOfVehicle, dtype: int64"
            ]
          },
          "metadata": {},
          "execution_count": 40
        }
      ]
    },
    {
      "cell_type": "code",
      "metadata": {
        "colab": {
          "base_uri": "https://localhost:8080/",
          "height": 455
        },
        "id": "9401f469",
        "outputId": "b51b1b0c-5c6a-448d-97f1-4f3fa644198b"
      },
      "source": [
        "plt.subplots(figsize=(10, 6))\n",
        "\n",
        "sns.countplot(x='AgeOfVehicle',\n",
        "              data=customers,\n",
        "              palette='RdYlGn',\n",
        "              order=customers['AgeOfVehicle'].value_counts().index)\n",
        "\n",
        "plt.xticks(rotation=90)\n",
        "\n",
        "plt.ylabel('Number of Claim')\n",
        "plt.xlabel('Age of Vehicle')\n",
        "plt.title('Age of Vehicle  vs Number of Claim Done')\n",
        "\n",
        "plt.show()"
      ],
      "id": "9401f469",
      "execution_count": 41,
      "outputs": [
        {
          "output_type": "display_data",
          "data": {
            "image/png": "[encoded data removed]",
            "text/plain": [
              "<Figure size 720x432 with 1 Axes>"
            ]
          },
          "metadata": {
            "needs_background": "light"
          }
        }
      ]
    },
    {
      "cell_type": "code",
      "metadata": {
        "colab": {
          "base_uri": "https://localhost:8080/",
          "height": 455
        },
        "id": "441833c2",
        "outputId": "edf6e9e4-f2d1-4287-e48c-9239588b2473"
      },
      "source": [
        "plt.subplots(figsize=(10, 6))\n",
        "\n",
        "sns.countplot(x='AgeOfVehicle',\n",
        "              data=customers[customers['FraudFound_P']==1],\n",
        "              palette='RdYlGn',\n",
        "              order=customers['AgeOfVehicle'].value_counts().index)\n",
        "\n",
        "plt.xticks(rotation=90)\n",
        "\n",
        "plt.ylabel('Number of Fraud')\n",
        "plt.xlabel('Age of Vehicle')\n",
        "plt.title('Age of Vehicle  vs Number of Fraud')\n",
        "\n",
        "plt.show()"
      ],
      "id": "441833c2",
      "execution_count": 42,
      "outputs": [
        {
          "output_type": "display_data",
          "data": {
            "image/png": "[encoded data removed]",
            "text/plain": [
              "<Figure size 720x432 with 1 Axes>"
            ]
          },
          "metadata": {
            "needs_background": "light"
          }
        }
      ]
    },
    {
      "cell_type": "code",
      "metadata": {
        "id": "19885962"
      },
      "source": [
        "daydict = {\n",
        "       1 : 'Monday',\n",
        "       2 : 'Tuesday',\n",
        "       3 : 'Wednesday',\n",
        "       4 : 'Thursday',\n",
        "       5 : 'Friday',\n",
        "       6 : 'Saturday',\n",
        "       7 : 'Sunday'\n",
        "}"
      ],
      "id": "19885962",
      "execution_count": 43,
      "outputs": []
    },
    {
      "cell_type": "code",
      "metadata": {
        "id": "321859bc"
      },
      "source": [
        "def parse_date(year, month_name, week_month, day):\n",
        "    month = month_name\n",
        "    first_date = datetime(year, month, 1)\n",
        "    first_day = first_date.isoweekday()\n",
        "    first_week_number = first_date.isocalendar()[1]\n",
        "    if (first_week_number==52):\n",
        "        first_week_number = 1\n",
        "    week_number = first_week_number + week_month - 1\n",
        "    string_date = str(year) + '-' + str(week_number) + '-' + daydict.get(day)\n",
        "    date = datetime.strptime(string_date, '%Y-%U-%A')\n",
        "    return date"
      ],
      "id": "321859bc",
      "execution_count": 44,
      "outputs": []
    },
    {
      "cell_type": "code",
      "metadata": {
        "id": "d5d562b9"
      },
      "source": [
        "def convert_month(month):\n",
        "    \n",
        "    if month=='Jan':\n",
        "        return 1\n",
        "    elif month=='Feb':\n",
        "        return 2\n",
        "    elif month=='Mar':\n",
        "        return 3\n",
        "    elif month=='Apr':\n",
        "        return 4\n",
        "    elif month=='May':\n",
        "        return 5\n",
        "    elif month=='Jun':\n",
        "        return 6\n",
        "    elif month=='Jul':\n",
        "        return 7\n",
        "    elif month=='Aug':\n",
        "        return 8\n",
        "    elif month=='Sep':\n",
        "        return 9\n",
        "    elif month=='Oct':\n",
        "        return 10\n",
        "    elif month=='Nov':\n",
        "        return 11\n",
        "    elif month=='Dec':\n",
        "        return 12\n",
        "    \n",
        "customers['Month'] = customers['Month'].apply(convert_month)\n",
        "customers['MonthClaimed'] = customers['MonthClaimed'].apply(convert_month)  "
      ],
      "id": "d5d562b9",
      "execution_count": 45,
      "outputs": []
    },
    {
      "cell_type": "code",
      "metadata": {
        "id": "7ec1b90a"
      },
      "source": [
        "def convert_day(day):\n",
        "    \n",
        "    if day=='Monday':\n",
        "        return 1\n",
        "    elif day=='Tuesday':\n",
        "        return 2\n",
        "    elif day=='Wednesday':\n",
        "        return 3\n",
        "    elif day=='Thursday':\n",
        "        return 4\n",
        "    elif day=='Friday':\n",
        "        return 5\n",
        "    elif day=='Saturday':\n",
        "        return 6\n",
        "    elif day=='Sunday':\n",
        "        return 7\n",
        "\n",
        "customers['DayOfWeek'] = customers['DayOfWeek'].apply(convert_day)\n",
        "customers['DayOfWeekClaimed'] = customers['DayOfWeekClaimed'].apply(convert_day)   "
      ],
      "id": "7ec1b90a",
      "execution_count": 46,
      "outputs": []
    },
    {
      "cell_type": "code",
      "metadata": {
        "colab": {
          "base_uri": "https://localhost:8080/"
        },
        "id": "a9eba3e8",
        "outputId": "7f111a9f-10bf-4ad4-f56c-c9f524f96b86"
      },
      "source": [
        "customers['Month'].value_counts()"
      ],
      "id": "a9eba3e8",
      "execution_count": 47,
      "outputs": [
        {
          "output_type": "execute_result",
          "data": {
            "text/plain": [
              "1     1056\n",
              "5     1028\n",
              "3      995\n",
              "6      981\n",
              "10     973\n",
              "12     970\n",
              "4      959\n",
              "9      952\n",
              "2      949\n",
              "7      938\n",
              "11     913\n",
              "8      851\n",
              "Name: Month, dtype: int64"
            ]
          },
          "metadata": {},
          "execution_count": 47
        }
      ]
    },
    {
      "cell_type": "code",
      "metadata": {
        "colab": {
          "base_uri": "https://localhost:8080/",
          "height": 117
        },
        "id": "9620dec7",
        "outputId": "08cb68d4-964c-46bf-f616-63447b3cc7bb"
      },
      "source": [
        "customers[customers['DayOfWeekClaimed'].isna()]"
      ],
      "id": "9620dec7",
      "execution_count": 48,
      "outputs": [
        {
          "output_type": "execute_result",
          "data": {
            "text/html": [
              "<div>\n",
              "<style scoped>\n",
              "    .dataframe tbody tr th:only-of-type {\n",
              "        vertical-align: middle;\n",
              "    }\n",
              "\n",
              "    .dataframe tbody tr th {\n",
              "        vertical-align: top;\n",
              "    }\n",
              "\n",
              "    .dataframe thead th {\n",
              "        text-align: right;\n",
              "    }\n",
              "</style>\n",
              "<table border=\"1\" class=\"dataframe\">\n",
              "  <thead>\n",
              "    <tr style=\"text-align: right;\">\n",
              "      <th></th>\n",
              "      <th>Month</th>\n",
              "      <th>WeekOfMonth</th>\n",
              "      <th>DayOfWeek</th>\n",
              "      <th>Make</th>\n",
              "      <th>AccidentArea</th>\n",
              "      <th>DayOfWeekClaimed</th>\n",
              "      <th>MonthClaimed</th>\n",
              "      <th>WeekOfMonthClaimed</th>\n",
              "      <th>Sex</th>\n",
              "      <th>MaritalStatus</th>\n",
              "      <th>Age</th>\n",
              "      <th>Fault</th>\n",
              "      <th>PolicyType</th>\n",
              "      <th>VehicleCategory</th>\n",
              "      <th>VehiclePrice</th>\n",
              "      <th>FraudFound_P</th>\n",
              "      <th>PolicyNumber</th>\n",
              "      <th>RepNumber</th>\n",
              "      <th>Deductible</th>\n",
              "      <th>DriverRating</th>\n",
              "      <th>Days_Policy_Accident</th>\n",
              "      <th>Days_Policy_Claim</th>\n",
              "      <th>PastNumberOfClaims</th>\n",
              "      <th>AgeOfVehicle</th>\n",
              "      <th>AgeOfPolicyHolder</th>\n",
              "      <th>PoliceReportFiled</th>\n",
              "      <th>WitnessPresent</th>\n",
              "      <th>AgentType</th>\n",
              "      <th>NumberOfSuppliments</th>\n",
              "      <th>AddressChange_Claim</th>\n",
              "      <th>NumberOfCars</th>\n",
              "      <th>Year</th>\n",
              "      <th>BasePolicy</th>\n",
              "      <th>ClaimSize</th>\n",
              "      <th>Claim_Amount_Percent</th>\n",
              "    </tr>\n",
              "  </thead>\n",
              "  <tbody>\n",
              "    <tr>\n",
              "      <th>1146</th>\n",
              "      <td>7</td>\n",
              "      <td>2</td>\n",
              "      <td>1</td>\n",
              "      <td>Honda</td>\n",
              "      <td>Rural</td>\n",
              "      <td>NaN</td>\n",
              "      <td>NaN</td>\n",
              "      <td>1</td>\n",
              "      <td>Male</td>\n",
              "      <td>Single</td>\n",
              "      <td>0.0</td>\n",
              "      <td>Policy Holder</td>\n",
              "      <td>Sedan - All Perils</td>\n",
              "      <td>Sedan</td>\n",
              "      <td>more than 69000</td>\n",
              "      <td>0</td>\n",
              "      <td>1517</td>\n",
              "      <td>15</td>\n",
              "      <td>400</td>\n",
              "      <td>2.0</td>\n",
              "      <td>more than 30</td>\n",
              "      <td>none</td>\n",
              "      <td>none</td>\n",
              "      <td>new</td>\n",
              "      <td>16 to 17</td>\n",
              "      <td>No</td>\n",
              "      <td>No</td>\n",
              "      <td>External</td>\n",
              "      <td>none</td>\n",
              "      <td>no change</td>\n",
              "      <td>1 vehicle</td>\n",
              "      <td>1994</td>\n",
              "      <td>All Perils</td>\n",
              "      <td>70530.646951</td>\n",
              "      <td>70.530647</td>\n",
              "    </tr>\n",
              "  </tbody>\n",
              "</table>\n",
              "</div>"
            ],
            "text/plain": [
              "      Month  WeekOfMonth  ...     ClaimSize Claim_Amount_Percent\n",
              "1146      7            2  ...  70530.646951            70.530647\n",
              "\n",
              "[1 rows x 35 columns]"
            ]
          },
          "metadata": {},
          "execution_count": 48
        }
      ]
    },
    {
      "cell_type": "code",
      "metadata": {
        "id": "853a89a9"
      },
      "source": [
        "customers['DayOfWeekClaimed'].fillna(1, inplace=True)"
      ],
      "id": "853a89a9",
      "execution_count": 49,
      "outputs": []
    },
    {
      "cell_type": "code",
      "metadata": {
        "colab": {
          "base_uri": "https://localhost:8080/"
        },
        "id": "0bcc92d7",
        "outputId": "38df96d9-4b05-4f9f-b276-b9a2f4817c51"
      },
      "source": [
        "customers.isna().sum()"
      ],
      "id": "0bcc92d7",
      "execution_count": 50,
      "outputs": [
        {
          "output_type": "execute_result",
          "data": {
            "text/plain": [
              "Month                   0\n",
              "WeekOfMonth             0\n",
              "DayOfWeek               0\n",
              "Make                    0\n",
              "AccidentArea            0\n",
              "DayOfWeekClaimed        0\n",
              "MonthClaimed            1\n",
              "WeekOfMonthClaimed      0\n",
              "Sex                     0\n",
              "MaritalStatus           0\n",
              "Age                     5\n",
              "Fault                   0\n",
              "PolicyType              0\n",
              "VehicleCategory         0\n",
              "VehiclePrice            0\n",
              "FraudFound_P            0\n",
              "PolicyNumber            0\n",
              "RepNumber               0\n",
              "Deductible              0\n",
              "DriverRating            6\n",
              "Days_Policy_Accident    0\n",
              "Days_Policy_Claim       0\n",
              "PastNumberOfClaims      0\n",
              "AgeOfVehicle            0\n",
              "AgeOfPolicyHolder       0\n",
              "PoliceReportFiled       0\n",
              "WitnessPresent          0\n",
              "AgentType               0\n",
              "NumberOfSuppliments     0\n",
              "AddressChange_Claim     0\n",
              "NumberOfCars            0\n",
              "Year                    0\n",
              "BasePolicy              0\n",
              "ClaimSize               0\n",
              "Claim_Amount_Percent    0\n",
              "dtype: int64"
            ]
          },
          "metadata": {},
          "execution_count": 50
        }
      ]
    },
    {
      "cell_type": "code",
      "metadata": {
        "id": "f086f209"
      },
      "source": [
        "customers['MonthClaimed'].fillna(7, inplace=True)"
      ],
      "id": "f086f209",
      "execution_count": 51,
      "outputs": []
    },
    {
      "cell_type": "code",
      "metadata": {
        "id": "e5ae15d1"
      },
      "source": [
        "from datetime import datetime, timedelta\n",
        "gap = []\n",
        "accident_dates = []\n",
        "claim_dates = []\n",
        "\n",
        "for index, row in customers.iterrows():\n",
        "    accident_year = row['Year']\n",
        "    claim_year = accident_year if (row['Month'] <= int(row['MonthClaimed'])) else accident_year + 1\n",
        "    accident_date = parse_date(accident_year, row['Month'], row['WeekOfMonth'], row['DayOfWeek'])\n",
        "    claim_date = parse_date(claim_year, int(row['MonthClaimed']), row['WeekOfMonthClaimed'], row['DayOfWeekClaimed'])\n",
        "    accident_dates.append(accident_date)\n",
        "    claim_dates.append(claim_date)\n",
        "    gap.append(abs((claim_date - accident_date).days))"
      ],
      "id": "e5ae15d1",
      "execution_count": 52,
      "outputs": []
    },
    {
      "cell_type": "code",
      "metadata": {
        "id": "767e356c"
      },
      "source": [
        "customers['Claim_Gap'] = gap"
      ],
      "id": "767e356c",
      "execution_count": 53,
      "outputs": []
    },
    {
      "cell_type": "code",
      "metadata": {
        "colab": {
          "base_uri": "https://localhost:8080/"
        },
        "id": "68fc000c",
        "outputId": "61493347-0b50-4843-a1a4-8bb3bc81a44b"
      },
      "source": [
        "customers[customers['WitnessPresent']=='Yes'].shape"
      ],
      "id": "68fc000c",
      "execution_count": 54,
      "outputs": [
        {
          "output_type": "execute_result",
          "data": {
            "text/plain": [
              "(68, 36)"
            ]
          },
          "metadata": {},
          "execution_count": 54
        }
      ]
    },
    {
      "cell_type": "code",
      "metadata": {
        "colab": {
          "base_uri": "https://localhost:8080/"
        },
        "id": "1263c0e8",
        "outputId": "a2524d0c-138a-4484-aee8-a9b94971dd12"
      },
      "source": [
        "claim_gap_10 = customers[customers['Claim_Gap']>10]\n",
        "print(claim_gap_10.shape)\n",
        "print(claim_gap_10[claim_gap_10['FraudFound_P']==1].shape)"
      ],
      "id": "1263c0e8",
      "execution_count": 55,
      "outputs": [
        {
          "output_type": "stream",
          "name": "stdout",
          "text": [
            "(2803, 36)\n",
            "(222, 36)\n"
          ]
        }
      ]
    }
  ]
}