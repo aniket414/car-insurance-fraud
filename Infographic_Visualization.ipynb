{
 "cells": [
  {
   "cell_type": "code",
   "execution_count": 1,
   "id": "2b36c13f-330d-4cfa-b3ff-7eb1a8b859f9",
   "metadata": {},
   "outputs": [],
   "source": [
    "import pandas as pd\n",
    "import numpy as np\n",
    "from sklearn.metrics import confusion_matrix\n",
    "from sklearn.metrics import accuracy_score\n",
    "from sklearn.metrics import f1_score\n",
    "from sklearn import svm\n",
    "from sklearn.model_selection import train_test_split\n",
    "import matplotlib.pyplot as plt\n",
    "import seaborn as sns"
   ]
  },
  {
   "cell_type": "code",
   "execution_count": 2,
   "id": "16f1eef7-0b75-4e53-8241-cbf566a2b1e0",
   "metadata": {},
   "outputs": [],
   "source": [
    "customers = pd.read_excel('Dataset/Dataset.xlsx',\n",
    "                          sheet_name=0,\n",
    "                          header=0,\n",
    "                          index_col=False,\n",
    "                          keep_default_na=True)"
   ]
  },
  {
   "cell_type": "code",
   "execution_count": 3,
   "id": "32f6e9ea-c9cb-43ae-8a3c-a8de1f9bce95",
   "metadata": {},
   "outputs": [
    {
     "data": {
      "text/html": [
       "<div>\n",
       "<style scoped>\n",
       "    .dataframe tbody tr th:only-of-type {\n",
       "        vertical-align: middle;\n",
       "    }\n",
       "\n",
       "    .dataframe tbody tr th {\n",
       "        vertical-align: top;\n",
       "    }\n",
       "\n",
       "    .dataframe thead th {\n",
       "        text-align: right;\n",
       "    }\n",
       "</style>\n",
       "<table border=\"1\" class=\"dataframe\">\n",
       "  <thead>\n",
       "    <tr style=\"text-align: right;\">\n",
       "      <th></th>\n",
       "      <th>Month</th>\n",
       "      <th>WeekOfMonth</th>\n",
       "      <th>DayOfWeek</th>\n",
       "      <th>Make</th>\n",
       "      <th>AccidentArea</th>\n",
       "      <th>DayOfWeekClaimed</th>\n",
       "      <th>MonthClaimed</th>\n",
       "      <th>WeekOfMonthClaimed</th>\n",
       "      <th>Sex</th>\n",
       "      <th>MaritalStatus</th>\n",
       "      <th>...</th>\n",
       "      <th>AgeOfPolicyHolder</th>\n",
       "      <th>PoliceReportFiled</th>\n",
       "      <th>WitnessPresent</th>\n",
       "      <th>AgentType</th>\n",
       "      <th>NumberOfSuppliments</th>\n",
       "      <th>AddressChange_Claim</th>\n",
       "      <th>NumberOfCars</th>\n",
       "      <th>Year</th>\n",
       "      <th>BasePolicy</th>\n",
       "      <th>ClaimSize</th>\n",
       "    </tr>\n",
       "  </thead>\n",
       "  <tbody>\n",
       "    <tr>\n",
       "      <th>0</th>\n",
       "      <td>Dec</td>\n",
       "      <td>5</td>\n",
       "      <td>Wednesday</td>\n",
       "      <td>Honda</td>\n",
       "      <td>Urban</td>\n",
       "      <td>Tuesday</td>\n",
       "      <td>Jan</td>\n",
       "      <td>1</td>\n",
       "      <td>Female</td>\n",
       "      <td>Single</td>\n",
       "      <td>...</td>\n",
       "      <td>26 to 30</td>\n",
       "      <td>No</td>\n",
       "      <td>No</td>\n",
       "      <td>External</td>\n",
       "      <td>none</td>\n",
       "      <td>1 year</td>\n",
       "      <td>3 to 4</td>\n",
       "      <td>1994</td>\n",
       "      <td>Liability</td>\n",
       "      <td>55526.069421</td>\n",
       "    </tr>\n",
       "    <tr>\n",
       "      <th>1</th>\n",
       "      <td>Jan</td>\n",
       "      <td>3</td>\n",
       "      <td>Wednesday</td>\n",
       "      <td>Honda</td>\n",
       "      <td>Urban</td>\n",
       "      <td>Monday</td>\n",
       "      <td>Jan</td>\n",
       "      <td>4</td>\n",
       "      <td>Male</td>\n",
       "      <td>Single</td>\n",
       "      <td>...</td>\n",
       "      <td>31 to 35</td>\n",
       "      <td>Yes</td>\n",
       "      <td>No</td>\n",
       "      <td>External</td>\n",
       "      <td>none</td>\n",
       "      <td>no change</td>\n",
       "      <td>1 vehicle</td>\n",
       "      <td>1994</td>\n",
       "      <td>Collision</td>\n",
       "      <td>59294.455571</td>\n",
       "    </tr>\n",
       "    <tr>\n",
       "      <th>2</th>\n",
       "      <td>Oct</td>\n",
       "      <td>5</td>\n",
       "      <td>Friday</td>\n",
       "      <td>Honda</td>\n",
       "      <td>Urban</td>\n",
       "      <td>Thursday</td>\n",
       "      <td>Nov</td>\n",
       "      <td>2</td>\n",
       "      <td>Male</td>\n",
       "      <td>Married</td>\n",
       "      <td>...</td>\n",
       "      <td>41 to 50</td>\n",
       "      <td>No</td>\n",
       "      <td>No</td>\n",
       "      <td>External</td>\n",
       "      <td>none</td>\n",
       "      <td>no change</td>\n",
       "      <td>1 vehicle</td>\n",
       "      <td>1994</td>\n",
       "      <td>Collision</td>\n",
       "      <td>71756.941320</td>\n",
       "    </tr>\n",
       "    <tr>\n",
       "      <th>3</th>\n",
       "      <td>Jun</td>\n",
       "      <td>2</td>\n",
       "      <td>Saturday</td>\n",
       "      <td>Toyota</td>\n",
       "      <td>Rural</td>\n",
       "      <td>Friday</td>\n",
       "      <td>Jul</td>\n",
       "      <td>1</td>\n",
       "      <td>Male</td>\n",
       "      <td>Married</td>\n",
       "      <td>...</td>\n",
       "      <td>51 to 65</td>\n",
       "      <td>Yes</td>\n",
       "      <td>No</td>\n",
       "      <td>External</td>\n",
       "      <td>more than 5</td>\n",
       "      <td>no change</td>\n",
       "      <td>1 vehicle</td>\n",
       "      <td>1994</td>\n",
       "      <td>Liability</td>\n",
       "      <td>7584.153493</td>\n",
       "    </tr>\n",
       "    <tr>\n",
       "      <th>4</th>\n",
       "      <td>Feb</td>\n",
       "      <td>1</td>\n",
       "      <td>Saturday</td>\n",
       "      <td>Honda</td>\n",
       "      <td>Urban</td>\n",
       "      <td>Monday</td>\n",
       "      <td>Feb</td>\n",
       "      <td>3</td>\n",
       "      <td>Male</td>\n",
       "      <td>Married</td>\n",
       "      <td>...</td>\n",
       "      <td>36 to 40</td>\n",
       "      <td>No</td>\n",
       "      <td>No</td>\n",
       "      <td>External</td>\n",
       "      <td>1 to 2</td>\n",
       "      <td>no change</td>\n",
       "      <td>1 vehicle</td>\n",
       "      <td>1994</td>\n",
       "      <td>Collision</td>\n",
       "      <td>98545.374339</td>\n",
       "    </tr>\n",
       "  </tbody>\n",
       "</table>\n",
       "<p>5 rows × 34 columns</p>\n",
       "</div>"
      ],
      "text/plain": [
       "  Month  WeekOfMonth  DayOfWeek    Make AccidentArea DayOfWeekClaimed  \\\n",
       "0   Dec            5  Wednesday   Honda        Urban          Tuesday   \n",
       "1   Jan            3  Wednesday   Honda        Urban           Monday   \n",
       "2   Oct            5     Friday   Honda        Urban         Thursday   \n",
       "3   Jun            2   Saturday  Toyota        Rural           Friday   \n",
       "4   Feb            1   Saturday   Honda        Urban           Monday   \n",
       "\n",
       "  MonthClaimed  WeekOfMonthClaimed     Sex MaritalStatus  ...  \\\n",
       "0          Jan                   1  Female        Single  ...   \n",
       "1          Jan                   4    Male        Single  ...   \n",
       "2          Nov                   2    Male       Married  ...   \n",
       "3          Jul                   1    Male       Married  ...   \n",
       "4          Feb                   3    Male       Married  ...   \n",
       "\n",
       "   AgeOfPolicyHolder PoliceReportFiled WitnessPresent AgentType  \\\n",
       "0           26 to 30                No             No  External   \n",
       "1           31 to 35               Yes             No  External   \n",
       "2           41 to 50                No             No  External   \n",
       "3           51 to 65               Yes             No  External   \n",
       "4           36 to 40                No             No  External   \n",
       "\n",
       "  NumberOfSuppliments  AddressChange_Claim  NumberOfCars  Year  BasePolicy  \\\n",
       "0                none               1 year        3 to 4  1994   Liability   \n",
       "1                none            no change     1 vehicle  1994   Collision   \n",
       "2                none            no change     1 vehicle  1994   Collision   \n",
       "3         more than 5            no change     1 vehicle  1994   Liability   \n",
       "4              1 to 2            no change     1 vehicle  1994   Collision   \n",
       "\n",
       "      ClaimSize  \n",
       "0  55526.069421  \n",
       "1  59294.455571  \n",
       "2  71756.941320  \n",
       "3   7584.153493  \n",
       "4  98545.374339  \n",
       "\n",
       "[5 rows x 34 columns]"
      ]
     },
     "execution_count": 3,
     "metadata": {},
     "output_type": "execute_result"
    }
   ],
   "source": [
    "customers.head()"
   ]
  },
  {
   "cell_type": "code",
   "execution_count": 7,
   "id": "b439c0fe-e27d-4f6d-90d4-a3b4114d8cac",
   "metadata": {},
   "outputs": [
    {
     "data": {
      "image/png": "[encoded data removed]",
      "text/plain": [
       "<Figure size 360x432 with 1 Axes>"
      ]
     },
     "metadata": {
      "needs_background": "light"
     },
     "output_type": "display_data"
    },
    {
     "name": "stdout",
     "output_type": "stream",
     "text": [
      "Percentage of Female Fraud Done from Female Insurance Policy Holder 4.06 %\n",
      "Percentage of Male Fraud Done from Male Insurance Policy Holder 6.27 %\n"
     ]
    }
   ],
   "source": [
    "plt.subplots(figsize=(5, 6))\n",
    "sns.countplot(x='Sex',\n",
    "              data=customers[customers['FraudFound_P']==1],\n",
    "              palette='inferno',\n",
    "              order=customers['Sex'].value_counts().index)\n",
    "\n",
    "plt.xticks(rotation=90)\n",
    "\n",
    "plt.ylabel('Number of Fraud Done')\n",
    "plt.title('Gender vs Number of Fraud Done')\n",
    "\n",
    "plt.show()\n",
    "\n",
    "print('Percentage of Female Fraud Done from Female Insurance Policy Holder', format((73/1797)*100, '.2f'), '%')\n",
    "print('Percentage of Male Fraud Done from Male Insurance Policy Holder', format((612/9767)*100, '.2f'), '%')"
   ]
  },
  {
   "cell_type": "markdown",
   "id": "228bac02",
   "metadata": {},
   "source": [
    "# Age of policy holder"
   ]
  },
  {
   "cell_type": "code",
   "execution_count": 8,
   "id": "0254d9be-79c9-430d-8c11-ed56cc06b39a",
   "metadata": {},
   "outputs": [
    {
     "data": {
      "image/png": "[encoded data removed]",
      "text/plain": [
       "<Figure size 1080x432 with 1 Axes>"
      ]
     },
     "metadata": {
      "needs_background": "light"
     },
     "output_type": "display_data"
    },
    {
     "data": {
      "text/html": [
       "<div>\n",
       "<style scoped>\n",
       "    .dataframe tbody tr th:only-of-type {\n",
       "        vertical-align: middle;\n",
       "    }\n",
       "\n",
       "    .dataframe tbody tr th {\n",
       "        vertical-align: top;\n",
       "    }\n",
       "\n",
       "    .dataframe thead th {\n",
       "        text-align: right;\n",
       "    }\n",
       "</style>\n",
       "<table border=\"1\" class=\"dataframe\">\n",
       "  <thead>\n",
       "    <tr style=\"text-align: right;\">\n",
       "      <th></th>\n",
       "      <th>Age Group</th>\n",
       "      <th>Claims</th>\n",
       "      <th>Percentage-%</th>\n",
       "    </tr>\n",
       "  </thead>\n",
       "  <tbody>\n",
       "    <tr>\n",
       "      <th>0</th>\n",
       "      <td>31 to 35</td>\n",
       "      <td>4199</td>\n",
       "      <td>36.31</td>\n",
       "    </tr>\n",
       "    <tr>\n",
       "      <th>1</th>\n",
       "      <td>36 to 40</td>\n",
       "      <td>3008</td>\n",
       "      <td>26.01</td>\n",
       "    </tr>\n",
       "    <tr>\n",
       "      <th>2</th>\n",
       "      <td>41 to 50</td>\n",
       "      <td>2122</td>\n",
       "      <td>18.35</td>\n",
       "    </tr>\n",
       "    <tr>\n",
       "      <th>3</th>\n",
       "      <td>51 to 65</td>\n",
       "      <td>1070</td>\n",
       "      <td>9.25</td>\n",
       "    </tr>\n",
       "    <tr>\n",
       "      <th>4</th>\n",
       "      <td>26 to 30</td>\n",
       "      <td>445</td>\n",
       "      <td>3.85</td>\n",
       "    </tr>\n",
       "    <tr>\n",
       "      <th>5</th>\n",
       "      <td>over 65</td>\n",
       "      <td>388</td>\n",
       "      <td>3.35</td>\n",
       "    </tr>\n",
       "    <tr>\n",
       "      <th>6</th>\n",
       "      <td>16 to 17</td>\n",
       "      <td>247</td>\n",
       "      <td>2.14</td>\n",
       "    </tr>\n",
       "    <tr>\n",
       "      <th>7</th>\n",
       "      <td>21 to 25</td>\n",
       "      <td>73</td>\n",
       "      <td>0.63</td>\n",
       "    </tr>\n",
       "    <tr>\n",
       "      <th>8</th>\n",
       "      <td>18 to 20</td>\n",
       "      <td>13</td>\n",
       "      <td>0.11</td>\n",
       "    </tr>\n",
       "  </tbody>\n",
       "</table>\n",
       "</div>"
      ],
      "text/plain": [
       "  Age Group  Claims Percentage-%\n",
       "0  31 to 35    4199        36.31\n",
       "1  36 to 40    3008        26.01\n",
       "2  41 to 50    2122        18.35\n",
       "3  51 to 65    1070         9.25\n",
       "4  26 to 30     445         3.85\n",
       "5   over 65     388         3.35\n",
       "6  16 to 17     247         2.14\n",
       "7  21 to 25      73         0.63\n",
       "8  18 to 20      13         0.11"
      ]
     },
     "execution_count": 8,
     "metadata": {},
     "output_type": "execute_result"
    }
   ],
   "source": [
    "plt.subplots(figsize=(15, 6))\n",
    "sns.countplot(x='AgeOfPolicyHolder',\n",
    "              data=customers,\n",
    "              palette='RdYlGn',\n",
    "              order=customers['AgeOfPolicyHolder'].value_counts().index)\n",
    "\n",
    "plt.xticks(rotation=90)\n",
    "\n",
    "plt.ylabel('Number of Claims')\n",
    "plt.xlabel('Age of Policy Holder')\n",
    "plt.title('Age of Policy Holder vs Number of Claims')\n",
    "\n",
    "plt.show()\n",
    "\n",
    "x = customers['AgeOfPolicyHolder'].value_counts().index\n",
    "y = np.array(customers['AgeOfPolicyHolder'].value_counts().values)\n",
    "perFraud = np.true_divide(y, y.sum()) * 100\n",
    "claim_array = []\n",
    "\n",
    "for i in range(len(perFraud)):\n",
    "    small_claim = []\n",
    "    small_claim.append(x[i])\n",
    "    small_claim.append(y[i])\n",
    "    small_claim.append(format(perFraud[i], '.2f'))\n",
    "    #print(x[i], format(perFraud[i], '.2f'), '%')\n",
    "    claim_array.append(small_claim)\n",
    "    \n",
    "pd.DataFrame(claim_array, columns=['Age Group', 'Claims', 'Percentage-%'])"
   ]
  },
  {
   "cell_type": "code",
   "execution_count": 9,
   "id": "9c98ca97-6853-47c0-af12-707dd429ddfc",
   "metadata": {},
   "outputs": [
    {
     "data": {
      "image/png": "[encoded data removed]",
      "text/plain": [
       "<Figure size 1080x432 with 1 Axes>"
      ]
     },
     "metadata": {
      "needs_background": "light"
     },
     "output_type": "display_data"
    },
    {
     "data": {
      "text/html": [
       "<div>\n",
       "<style scoped>\n",
       "    .dataframe tbody tr th:only-of-type {\n",
       "        vertical-align: middle;\n",
       "    }\n",
       "\n",
       "    .dataframe tbody tr th {\n",
       "        vertical-align: top;\n",
       "    }\n",
       "\n",
       "    .dataframe thead th {\n",
       "        text-align: right;\n",
       "    }\n",
       "</style>\n",
       "<table border=\"1\" class=\"dataframe\">\n",
       "  <thead>\n",
       "    <tr style=\"text-align: right;\">\n",
       "      <th></th>\n",
       "      <th>Age Group</th>\n",
       "      <th>Claims</th>\n",
       "      <th>Percentage-%</th>\n",
       "    </tr>\n",
       "  </thead>\n",
       "  <tbody>\n",
       "    <tr>\n",
       "      <th>0</th>\n",
       "      <td>31 to 35</td>\n",
       "      <td>270</td>\n",
       "      <td>39.42</td>\n",
       "    </tr>\n",
       "    <tr>\n",
       "      <th>1</th>\n",
       "      <td>36 to 40</td>\n",
       "      <td>174</td>\n",
       "      <td>25.40</td>\n",
       "    </tr>\n",
       "    <tr>\n",
       "      <th>2</th>\n",
       "      <td>41 to 50</td>\n",
       "      <td>112</td>\n",
       "      <td>16.35</td>\n",
       "    </tr>\n",
       "    <tr>\n",
       "      <th>3</th>\n",
       "      <td>51 to 65</td>\n",
       "      <td>53</td>\n",
       "      <td>7.74</td>\n",
       "    </tr>\n",
       "    <tr>\n",
       "      <th>4</th>\n",
       "      <td>16 to 17</td>\n",
       "      <td>26</td>\n",
       "      <td>3.80</td>\n",
       "    </tr>\n",
       "    <tr>\n",
       "      <th>5</th>\n",
       "      <td>over 65</td>\n",
       "      <td>20</td>\n",
       "      <td>2.92</td>\n",
       "    </tr>\n",
       "    <tr>\n",
       "      <th>6</th>\n",
       "      <td>26 to 30</td>\n",
       "      <td>20</td>\n",
       "      <td>2.92</td>\n",
       "    </tr>\n",
       "    <tr>\n",
       "      <th>7</th>\n",
       "      <td>21 to 25</td>\n",
       "      <td>9</td>\n",
       "      <td>1.31</td>\n",
       "    </tr>\n",
       "    <tr>\n",
       "      <th>8</th>\n",
       "      <td>18 to 20</td>\n",
       "      <td>1</td>\n",
       "      <td>0.15</td>\n",
       "    </tr>\n",
       "  </tbody>\n",
       "</table>\n",
       "</div>"
      ],
      "text/plain": [
       "  Age Group  Claims Percentage-%\n",
       "0  31 to 35     270        39.42\n",
       "1  36 to 40     174        25.40\n",
       "2  41 to 50     112        16.35\n",
       "3  51 to 65      53         7.74\n",
       "4  16 to 17      26         3.80\n",
       "5   over 65      20         2.92\n",
       "6  26 to 30      20         2.92\n",
       "7  21 to 25       9         1.31\n",
       "8  18 to 20       1         0.15"
      ]
     },
     "execution_count": 9,
     "metadata": {},
     "output_type": "execute_result"
    }
   ],
   "source": [
    "plt.subplots(figsize=(15,6))\n",
    "sns.countplot(x='AgeOfPolicyHolder',\n",
    "              data=customers[customers['FraudFound_P']==1],\n",
    "              palette='RdYlGn',\n",
    "              order=customers['AgeOfPolicyHolder'].value_counts().index)\n",
    "\n",
    "plt.xticks(rotation=90)\n",
    "\n",
    "plt.ylabel('Number of Fraud')\n",
    "plt.xlabel('Age of Policy Holder')\n",
    "plt.title('Age of Policy Holder vs Number of Fraud Done')\n",
    "\n",
    "plt.show()\n",
    "\n",
    "x = customers[customers['FraudFound_P']==1]['AgeOfPolicyHolder'].value_counts().index\n",
    "y = np.array(customers[customers['FraudFound_P']==1]['AgeOfPolicyHolder'].value_counts().values)\n",
    "perFraud = np.true_divide(y, y.sum()) * 100\n",
    "claim_array = []\n",
    "\n",
    "for i in range(len(perFraud)):\n",
    "    small_claim = []\n",
    "    small_claim.append(x[i])\n",
    "    small_claim.append(y[i])\n",
    "    small_claim.append(format(perFraud[i], '.2f'))\n",
    "    #print(x[i], format(perFraud[i], '.2f'), '%')\n",
    "    claim_array.append(small_claim)\n",
    "    \n",
    "pd.DataFrame(claim_array,columns = ['Age Group', 'Claims', 'Percentage-%'])    "
   ]
  },
  {
   "cell_type": "markdown",
   "id": "b5559f0b",
   "metadata": {},
   "source": [
    "# From above two graph we get that poilcy holder have age greater than 50 year have low chance of doing fraud."
   ]
  },
  {
   "cell_type": "code",
   "execution_count": 10,
   "id": "4ecc5a22-b8ab-480a-b017-4bc65ed5919b",
   "metadata": {},
   "outputs": [
    {
     "data": {
      "image/png": "[encoded data removed]",
      "text/plain": [
       "<Figure size 1080x432 with 1 Axes>"
      ]
     },
     "metadata": {
      "needs_background": "light"
     },
     "output_type": "display_data"
    },
    {
     "data": {
      "text/html": [
       "<div>\n",
       "<style scoped>\n",
       "    .dataframe tbody tr th:only-of-type {\n",
       "        vertical-align: middle;\n",
       "    }\n",
       "\n",
       "    .dataframe tbody tr th {\n",
       "        vertical-align: top;\n",
       "    }\n",
       "\n",
       "    .dataframe thead th {\n",
       "        text-align: right;\n",
       "    }\n",
       "</style>\n",
       "<table border=\"1\" class=\"dataframe\">\n",
       "  <thead>\n",
       "    <tr style=\"text-align: right;\">\n",
       "      <th></th>\n",
       "      <th>Age Group</th>\n",
       "      <th>Claims</th>\n",
       "      <th>Percentage-%</th>\n",
       "    </tr>\n",
       "  </thead>\n",
       "  <tbody>\n",
       "    <tr>\n",
       "      <th>0</th>\n",
       "      <td>31 to 35</td>\n",
       "      <td>104</td>\n",
       "      <td>52.53</td>\n",
       "    </tr>\n",
       "    <tr>\n",
       "      <th>1</th>\n",
       "      <td>16 to 17</td>\n",
       "      <td>26</td>\n",
       "      <td>13.13</td>\n",
       "    </tr>\n",
       "    <tr>\n",
       "      <th>2</th>\n",
       "      <td>36 to 40</td>\n",
       "      <td>24</td>\n",
       "      <td>12.12</td>\n",
       "    </tr>\n",
       "    <tr>\n",
       "      <th>3</th>\n",
       "      <td>26 to 30</td>\n",
       "      <td>17</td>\n",
       "      <td>8.59</td>\n",
       "    </tr>\n",
       "    <tr>\n",
       "      <th>4</th>\n",
       "      <td>41 to 50</td>\n",
       "      <td>9</td>\n",
       "      <td>4.55</td>\n",
       "    </tr>\n",
       "    <tr>\n",
       "      <th>5</th>\n",
       "      <td>21 to 25</td>\n",
       "      <td>8</td>\n",
       "      <td>4.04</td>\n",
       "    </tr>\n",
       "    <tr>\n",
       "      <th>6</th>\n",
       "      <td>51 to 65</td>\n",
       "      <td>5</td>\n",
       "      <td>2.53</td>\n",
       "    </tr>\n",
       "    <tr>\n",
       "      <th>7</th>\n",
       "      <td>over 65</td>\n",
       "      <td>4</td>\n",
       "      <td>2.02</td>\n",
       "    </tr>\n",
       "    <tr>\n",
       "      <th>8</th>\n",
       "      <td>18 to 20</td>\n",
       "      <td>1</td>\n",
       "      <td>0.51</td>\n",
       "    </tr>\n",
       "  </tbody>\n",
       "</table>\n",
       "</div>"
      ],
      "text/plain": [
       "  Age Group  Claims Percentage-%\n",
       "0  31 to 35     104        52.53\n",
       "1  16 to 17      26        13.13\n",
       "2  36 to 40      24        12.12\n",
       "3  26 to 30      17         8.59\n",
       "4  41 to 50       9         4.55\n",
       "5  21 to 25       8         4.04\n",
       "6  51 to 65       5         2.53\n",
       "7   over 65       4         2.02\n",
       "8  18 to 20       1         0.51"
      ]
     },
     "execution_count": 10,
     "metadata": {},
     "output_type": "execute_result"
    }
   ],
   "source": [
    "plt.subplots(figsize=(15, 6))\n",
    "single = customers[customers['MaritalStatus']=='Single']\n",
    "sns.countplot(x='AgeOfPolicyHolder',\n",
    "              data=single[single['FraudFound_P']==1],\n",
    "              palette='RdYlGn',\n",
    "              order=single['AgeOfPolicyHolder'].value_counts().index)\n",
    "\n",
    "plt.xticks(rotation=90)\n",
    "\n",
    "plt.ylabel('Number of Fraud')\n",
    "plt.xlabel('Age of Policy Holder')\n",
    "plt.title('Age of Policy Holder-Single vs Number of Fraud Done')\n",
    "\n",
    "plt.show()\n",
    "\n",
    "x = single[single['FraudFound_P']==1]['AgeOfPolicyHolder'].value_counts().index\n",
    "y = np.array(single[single['FraudFound_P']==1]['AgeOfPolicyHolder'].value_counts().values)\n",
    "perFraud = np.true_divide(y, y.sum())*100\n",
    "claim_array = []\n",
    "\n",
    "for i in range(len(perFraud)):\n",
    "    small_claim = []\n",
    "    small_claim.append(x[i])\n",
    "    small_claim.append(y[i])\n",
    "    small_claim.append(format(perFraud[i], '.2f'))\n",
    "    #print(x[i], format(perFraud[i], '.2f'), '%')\n",
    "    claim_array.append(small_claim)\n",
    "    \n",
    "pd.DataFrame(claim_array, columns=['Age Group', 'Claims', 'Percentage-%'])   "
   ]
  },
  {
   "cell_type": "markdown",
   "id": "16f7149f",
   "metadata": {},
   "source": [
    "## From this graph we can observe that single people having age between 31 to 35 have high chance of fraud"
   ]
  },
  {
   "cell_type": "code",
   "execution_count": 11,
   "id": "7a608679-9b56-4e25-a551-6831508495b0",
   "metadata": {},
   "outputs": [
    {
     "data": {
      "image/png": "[encoded data removed]",
      "text/plain": [
       "<Figure size 576x432 with 1 Axes>"
      ]
     },
     "metadata": {
      "needs_background": "light"
     },
     "output_type": "display_data"
    },
    {
     "data": {
      "text/html": [
       "<div>\n",
       "<style scoped>\n",
       "    .dataframe tbody tr th:only-of-type {\n",
       "        vertical-align: middle;\n",
       "    }\n",
       "\n",
       "    .dataframe tbody tr th {\n",
       "        vertical-align: top;\n",
       "    }\n",
       "\n",
       "    .dataframe thead th {\n",
       "        text-align: right;\n",
       "    }\n",
       "</style>\n",
       "<table border=\"1\" class=\"dataframe\">\n",
       "  <thead>\n",
       "    <tr style=\"text-align: right;\">\n",
       "      <th></th>\n",
       "      <th>Vehicle Category</th>\n",
       "      <th>Claims</th>\n",
       "      <th>Percentage-%</th>\n",
       "    </tr>\n",
       "  </thead>\n",
       "  <tbody>\n",
       "    <tr>\n",
       "      <th>0</th>\n",
       "      <td>Sedan</td>\n",
       "      <td>7253</td>\n",
       "      <td>62.72</td>\n",
       "    </tr>\n",
       "    <tr>\n",
       "      <th>1</th>\n",
       "      <td>Sport</td>\n",
       "      <td>4024</td>\n",
       "      <td>34.79</td>\n",
       "    </tr>\n",
       "    <tr>\n",
       "      <th>2</th>\n",
       "      <td>Utility</td>\n",
       "      <td>288</td>\n",
       "      <td>2.49</td>\n",
       "    </tr>\n",
       "  </tbody>\n",
       "</table>\n",
       "</div>"
      ],
      "text/plain": [
       "  Vehicle Category  Claims Percentage-%\n",
       "0            Sedan    7253        62.72\n",
       "1            Sport    4024        34.79\n",
       "2          Utility     288         2.49"
      ]
     },
     "execution_count": 11,
     "metadata": {},
     "output_type": "execute_result"
    }
   ],
   "source": [
    "plt.subplots(figsize=(8, 6))\n",
    "sns.countplot(x='VehicleCategory',\n",
    "              data=customers,\n",
    "              palette='RdYlGn',\n",
    "              order=customers['VehicleCategory'].value_counts().index)\n",
    "\n",
    "plt.xticks(rotation=90)\n",
    "\n",
    "plt.ylabel('Number of Claims')\n",
    "plt.xlabel('Vehicle Category')\n",
    "plt.title('Vehicle Category vs Number of Claims')\n",
    "\n",
    "plt.show()\n",
    "\n",
    "x = customers['VehicleCategory'].value_counts().index\n",
    "y = np.array(customers['VehicleCategory'].value_counts().values)\n",
    "perFraud = np.true_divide(y, y.sum()) * 100\n",
    "claim_array = []\n",
    "\n",
    "for i in range(len(perFraud)):\n",
    "    small_claim = []\n",
    "    small_claim.append(x[i])\n",
    "    small_claim.append(y[i])\n",
    "    small_claim.append(format(perFraud[i],'.2f'))\n",
    "    #print(x[i], format(perFraud[i], '.2f'), '%')\n",
    "    claim_array.append(small_claim)\n",
    "    \n",
    "pd.DataFrame(claim_array, columns=['Vehicle Category', 'Claims', 'Percentage-%'])    "
   ]
  },
  {
   "cell_type": "code",
   "execution_count": 12,
   "id": "50d4be2f-608d-4621-9344-6fa558ec26b4",
   "metadata": {},
   "outputs": [
    {
     "data": {
      "image/png": "[encoded data removed]",
      "text/plain": [
       "<Figure size 576x432 with 1 Axes>"
      ]
     },
     "metadata": {
      "needs_background": "light"
     },
     "output_type": "display_data"
    },
    {
     "data": {
      "text/html": [
       "<div>\n",
       "<style scoped>\n",
       "    .dataframe tbody tr th:only-of-type {\n",
       "        vertical-align: middle;\n",
       "    }\n",
       "\n",
       "    .dataframe tbody tr th {\n",
       "        vertical-align: top;\n",
       "    }\n",
       "\n",
       "    .dataframe thead th {\n",
       "        text-align: right;\n",
       "    }\n",
       "</style>\n",
       "<table border=\"1\" class=\"dataframe\">\n",
       "  <thead>\n",
       "    <tr style=\"text-align: right;\">\n",
       "      <th></th>\n",
       "      <th>Vehicle Category</th>\n",
       "      <th>Fraud</th>\n",
       "      <th>Percentage-%</th>\n",
       "    </tr>\n",
       "  </thead>\n",
       "  <tbody>\n",
       "    <tr>\n",
       "      <th>0</th>\n",
       "      <td>Sedan</td>\n",
       "      <td>588</td>\n",
       "      <td>85.84</td>\n",
       "    </tr>\n",
       "    <tr>\n",
       "      <th>1</th>\n",
       "      <td>Sport</td>\n",
       "      <td>61</td>\n",
       "      <td>8.91</td>\n",
       "    </tr>\n",
       "    <tr>\n",
       "      <th>2</th>\n",
       "      <td>Utility</td>\n",
       "      <td>36</td>\n",
       "      <td>5.26</td>\n",
       "    </tr>\n",
       "  </tbody>\n",
       "</table>\n",
       "</div>"
      ],
      "text/plain": [
       "  Vehicle Category  Fraud Percentage-%\n",
       "0            Sedan    588        85.84\n",
       "1            Sport     61         8.91\n",
       "2          Utility     36         5.26"
      ]
     },
     "execution_count": 12,
     "metadata": {},
     "output_type": "execute_result"
    }
   ],
   "source": [
    "plt.subplots(figsize=(8, 6))\n",
    "sns.countplot(x='VehicleCategory',\n",
    "              data=customers[customers['FraudFound_P']==1],\n",
    "              palette='RdYlGn',\n",
    "              order=customers['VehicleCategory'].value_counts().index)\n",
    "\n",
    "plt.xticks(rotation=90)\n",
    "\n",
    "plt.ylabel('Number of Fraud')\n",
    "plt.xlabel('Vehicle Category')\n",
    "plt.title('Vehicle Category vs Number of Fraud')\n",
    "\n",
    "plt.show()\n",
    "\n",
    "x = customers[customers['FraudFound_P']==1]['VehicleCategory'].value_counts().index\n",
    "y = np.array(customers[customers['FraudFound_P']==1]['VehicleCategory'].value_counts().values)\n",
    "perFraud = np.true_divide(y, y.sum()) * 100\n",
    "claim_array = []\n",
    "\n",
    "for i in range(len(perFraud)):\n",
    "    small_claim = []\n",
    "    small_claim.append(x[i])\n",
    "    small_claim.append(y[i])\n",
    "    small_claim.append(format(perFraud[i], '.2f'))\n",
    "    #print(x[i], format(perFraud[i], '.2f'), '%')\n",
    "    claim_array.append(small_claim)\n",
    "    \n",
    "pd.DataFrame(claim_array, columns=['Vehicle Category', 'Fraud', 'Percentage-%'])   "
   ]
  },
  {
   "cell_type": "code",
   "execution_count": null,
   "id": "2d010807-caaf-4d7e-93d6-fb51dfeff8af",
   "metadata": {},
   "outputs": [],
   "source": [
    "customers.columns"
   ]
  },
  {
   "cell_type": "code",
   "execution_count": null,
   "id": "fad83076",
   "metadata": {},
   "outputs": [],
   "source": [
    "customers['PolicyType'].value_counts()"
   ]
  },
  {
   "cell_type": "code",
   "execution_count": 13,
   "id": "e228a3db",
   "metadata": {},
   "outputs": [
    {
     "data": {
      "image/png": "[encoded data removed]",
      "text/plain": [
       "<Figure size 1080x432 with 1 Axes>"
      ]
     },
     "metadata": {
      "needs_background": "light"
     },
     "output_type": "display_data"
    },
    {
     "data": {
      "text/html": [
       "<div>\n",
       "<style scoped>\n",
       "    .dataframe tbody tr th:only-of-type {\n",
       "        vertical-align: middle;\n",
       "    }\n",
       "\n",
       "    .dataframe tbody tr th {\n",
       "        vertical-align: top;\n",
       "    }\n",
       "\n",
       "    .dataframe thead th {\n",
       "        text-align: right;\n",
       "    }\n",
       "</style>\n",
       "<table border=\"1\" class=\"dataframe\">\n",
       "  <thead>\n",
       "    <tr style=\"text-align: right;\">\n",
       "      <th></th>\n",
       "      <th>PolicyType</th>\n",
       "      <th>Claims</th>\n",
       "      <th>Percentage-%</th>\n",
       "    </tr>\n",
       "  </thead>\n",
       "  <tbody>\n",
       "    <tr>\n",
       "      <th>0</th>\n",
       "      <td>Sedan - Collision</td>\n",
       "      <td>4186</td>\n",
       "      <td>36.20</td>\n",
       "    </tr>\n",
       "    <tr>\n",
       "      <th>1</th>\n",
       "      <td>Sedan - Liability</td>\n",
       "      <td>3742</td>\n",
       "      <td>32.36</td>\n",
       "    </tr>\n",
       "    <tr>\n",
       "      <th>2</th>\n",
       "      <td>Sedan - All Perils</td>\n",
       "      <td>3067</td>\n",
       "      <td>26.52</td>\n",
       "    </tr>\n",
       "    <tr>\n",
       "      <th>3</th>\n",
       "      <td>Sport - Collision</td>\n",
       "      <td>262</td>\n",
       "      <td>2.27</td>\n",
       "    </tr>\n",
       "    <tr>\n",
       "      <th>4</th>\n",
       "      <td>Utility - All Perils</td>\n",
       "      <td>251</td>\n",
       "      <td>2.17</td>\n",
       "    </tr>\n",
       "    <tr>\n",
       "      <th>5</th>\n",
       "      <td>Utility - Collision</td>\n",
       "      <td>24</td>\n",
       "      <td>0.21</td>\n",
       "    </tr>\n",
       "    <tr>\n",
       "      <th>6</th>\n",
       "      <td>Sport - All Perils</td>\n",
       "      <td>19</td>\n",
       "      <td>0.16</td>\n",
       "    </tr>\n",
       "    <tr>\n",
       "      <th>7</th>\n",
       "      <td>Utility - Liability</td>\n",
       "      <td>13</td>\n",
       "      <td>0.11</td>\n",
       "    </tr>\n",
       "    <tr>\n",
       "      <th>8</th>\n",
       "      <td>Sport - Liability</td>\n",
       "      <td>1</td>\n",
       "      <td>0.01</td>\n",
       "    </tr>\n",
       "  </tbody>\n",
       "</table>\n",
       "</div>"
      ],
      "text/plain": [
       "             PolicyType  Claims Percentage-%\n",
       "0     Sedan - Collision    4186        36.20\n",
       "1     Sedan - Liability    3742        32.36\n",
       "2    Sedan - All Perils    3067        26.52\n",
       "3     Sport - Collision     262         2.27\n",
       "4  Utility - All Perils     251         2.17\n",
       "5   Utility - Collision      24         0.21\n",
       "6    Sport - All Perils      19         0.16\n",
       "7   Utility - Liability      13         0.11\n",
       "8     Sport - Liability       1         0.01"
      ]
     },
     "execution_count": 13,
     "metadata": {},
     "output_type": "execute_result"
    }
   ],
   "source": [
    "plt.subplots(figsize=(15, 6))\n",
    "sns.countplot(x='PolicyType',\n",
    "              data=customers,\n",
    "              palette='RdYlGn',\n",
    "              order=customers['PolicyType'].value_counts().index)\n",
    "\n",
    "plt.xticks(rotation=90)\n",
    "\n",
    "plt.ylabel('Number of Claims')\n",
    "plt.xlabel('Policy Type')\n",
    "plt.title('Policy Type vs Number of Claims')\n",
    "\n",
    "plt.show()\n",
    "\n",
    "x = customers['PolicyType'].value_counts().index\n",
    "y = np.array(customers['PolicyType'].value_counts().values)\n",
    "perFraud = np.true_divide(y, y.sum()) * 100\n",
    "claim_array = []\n",
    "\n",
    "for i in range(len(perFraud)):\n",
    "    small_claim = []\n",
    "    small_claim.append(x[i])\n",
    "    small_claim.append(y[i])\n",
    "    small_claim.append(format(perFraud[i], '.2f'))\n",
    "    #print(x[i], format(perFraud[i], '.2f'), '%')\n",
    "    claim_array.append(small_claim)\n",
    "    \n",
    "pd.DataFrame(claim_array, columns=['PolicyType', 'Claims', 'Percentage-%'])   "
   ]
  },
  {
   "cell_type": "code",
   "execution_count": 14,
   "id": "fe4fdc7e",
   "metadata": {},
   "outputs": [
    {
     "data": {
      "image/png": "[encoded data removed]",
      "text/plain": [
       "<Figure size 1080x432 with 1 Axes>"
      ]
     },
     "metadata": {
      "needs_background": "light"
     },
     "output_type": "display_data"
    },
    {
     "data": {
      "text/html": [
       "<div>\n",
       "<style scoped>\n",
       "    .dataframe tbody tr th:only-of-type {\n",
       "        vertical-align: middle;\n",
       "    }\n",
       "\n",
       "    .dataframe tbody tr th {\n",
       "        vertical-align: top;\n",
       "    }\n",
       "\n",
       "    .dataframe thead th {\n",
       "        text-align: right;\n",
       "    }\n",
       "</style>\n",
       "<table border=\"1\" class=\"dataframe\">\n",
       "  <thead>\n",
       "    <tr style=\"text-align: right;\">\n",
       "      <th></th>\n",
       "      <th>PolicyType</th>\n",
       "      <th>Fraud</th>\n",
       "      <th>Percentage-%</th>\n",
       "    </tr>\n",
       "  </thead>\n",
       "  <tbody>\n",
       "    <tr>\n",
       "      <th>0</th>\n",
       "      <td>Sedan - All Perils</td>\n",
       "      <td>307</td>\n",
       "      <td>44.82</td>\n",
       "    </tr>\n",
       "    <tr>\n",
       "      <th>1</th>\n",
       "      <td>Sedan - Collision</td>\n",
       "      <td>281</td>\n",
       "      <td>41.02</td>\n",
       "    </tr>\n",
       "    <tr>\n",
       "      <th>2</th>\n",
       "      <td>Sport - Collision</td>\n",
       "      <td>34</td>\n",
       "      <td>4.96</td>\n",
       "    </tr>\n",
       "    <tr>\n",
       "      <th>3</th>\n",
       "      <td>Utility - All Perils</td>\n",
       "      <td>33</td>\n",
       "      <td>4.82</td>\n",
       "    </tr>\n",
       "    <tr>\n",
       "      <th>4</th>\n",
       "      <td>Sedan - Liability</td>\n",
       "      <td>27</td>\n",
       "      <td>3.94</td>\n",
       "    </tr>\n",
       "    <tr>\n",
       "      <th>5</th>\n",
       "      <td>Utility - Collision</td>\n",
       "      <td>3</td>\n",
       "      <td>0.44</td>\n",
       "    </tr>\n",
       "  </tbody>\n",
       "</table>\n",
       "</div>"
      ],
      "text/plain": [
       "             PolicyType  Fraud Percentage-%\n",
       "0    Sedan - All Perils    307        44.82\n",
       "1     Sedan - Collision    281        41.02\n",
       "2     Sport - Collision     34         4.96\n",
       "3  Utility - All Perils     33         4.82\n",
       "4     Sedan - Liability     27         3.94\n",
       "5   Utility - Collision      3         0.44"
      ]
     },
     "execution_count": 14,
     "metadata": {},
     "output_type": "execute_result"
    }
   ],
   "source": [
    "plt.subplots(figsize=(15, 6))\n",
    "sns.countplot(x='PolicyType',\n",
    "              data=customers[customers['FraudFound_P']==1],\n",
    "              palette='RdYlGn',\n",
    "              order=customers['PolicyType'].value_counts().index)\n",
    "\n",
    "plt.xticks(rotation=90)\n",
    "\n",
    "plt.ylabel('Number of Fraud')\n",
    "plt.xlabel('Policy Type')\n",
    "plt.title('Policy Type vs Number of Fraud')\n",
    "\n",
    "plt.show()\n",
    "\n",
    "x = customers[customers['FraudFound_P']==1]['PolicyType'].value_counts().index\n",
    "y = np.array(customers[customers['FraudFound_P']==1]['PolicyType'].value_counts().values)\n",
    "perFraud = np.true_divide(y, y.sum()) * 100\n",
    "claim_array = []\n",
    "\n",
    "for i in range(len(perFraud)):\n",
    "    small_claim = []\n",
    "    small_claim.append(x[i])\n",
    "    small_claim.append(y[i])\n",
    "    small_claim.append(format(perFraud[i], '.2f'))\n",
    "    #print(x[i], format(perFraud[i], '.2f'), '%')\n",
    "    claim_array.append(small_claim)\n",
    "    \n",
    "pd.DataFrame(claim_array, columns=['PolicyType', 'Fraud', 'Percentage-%'])   "
   ]
  },
  {
   "cell_type": "markdown",
   "id": "18cf181e",
   "metadata": {},
   "source": [
    "## From this two graph we can see their more chance of fraud for people having policy type All Perlis and Car Type Sedan or Utility"
   ]
  },
  {
   "cell_type": "code",
   "execution_count": 15,
   "id": "7de622ce",
   "metadata": {},
   "outputs": [
    {
     "data": {
      "image/png": "[encoded data removed]",
      "text/plain": [
       "<Figure size 1080x432 with 1 Axes>"
      ]
     },
     "metadata": {
      "needs_background": "light"
     },
     "output_type": "display_data"
    },
    {
     "data": {
      "text/html": [
       "<div>\n",
       "<style scoped>\n",
       "    .dataframe tbody tr th:only-of-type {\n",
       "        vertical-align: middle;\n",
       "    }\n",
       "\n",
       "    .dataframe tbody tr th {\n",
       "        vertical-align: top;\n",
       "    }\n",
       "\n",
       "    .dataframe thead th {\n",
       "        text-align: right;\n",
       "    }\n",
       "</style>\n",
       "<table border=\"1\" class=\"dataframe\">\n",
       "  <thead>\n",
       "    <tr style=\"text-align: right;\">\n",
       "      <th></th>\n",
       "      <th>Number of car</th>\n",
       "      <th>Claims</th>\n",
       "      <th>Percentage-%</th>\n",
       "    </tr>\n",
       "  </thead>\n",
       "  <tbody>\n",
       "    <tr>\n",
       "      <th>0</th>\n",
       "      <td>1 vehicle</td>\n",
       "      <td>10698</td>\n",
       "      <td>92.50</td>\n",
       "    </tr>\n",
       "    <tr>\n",
       "      <th>1</th>\n",
       "      <td>2 vehicles</td>\n",
       "      <td>559</td>\n",
       "      <td>4.83</td>\n",
       "    </tr>\n",
       "    <tr>\n",
       "      <th>2</th>\n",
       "      <td>3 to 4</td>\n",
       "      <td>288</td>\n",
       "      <td>2.49</td>\n",
       "    </tr>\n",
       "    <tr>\n",
       "      <th>3</th>\n",
       "      <td>5 to 8</td>\n",
       "      <td>19</td>\n",
       "      <td>0.16</td>\n",
       "    </tr>\n",
       "    <tr>\n",
       "      <th>4</th>\n",
       "      <td>more than 8</td>\n",
       "      <td>1</td>\n",
       "      <td>0.01</td>\n",
       "    </tr>\n",
       "  </tbody>\n",
       "</table>\n",
       "</div>"
      ],
      "text/plain": [
       "  Number of car  Claims Percentage-%\n",
       "0     1 vehicle   10698        92.50\n",
       "1    2 vehicles     559         4.83\n",
       "2        3 to 4     288         2.49\n",
       "3        5 to 8      19         0.16\n",
       "4   more than 8       1         0.01"
      ]
     },
     "execution_count": 15,
     "metadata": {},
     "output_type": "execute_result"
    }
   ],
   "source": [
    "plt.subplots(figsize=(15, 6))\n",
    "sns.countplot(x='NumberOfCars',\n",
    "              data=customers,\n",
    "              palette='RdYlGn',\n",
    "              order=customers['NumberOfCars'].value_counts().index)\n",
    "\n",
    "plt.xticks(rotation=90)\n",
    "\n",
    "plt.ylabel('Number of Claims')\n",
    "plt.xlabel('Number of Car')\n",
    "plt.title('Number of Car vs Number of Claims')\n",
    "\n",
    "plt.show()\n",
    "\n",
    "x = customers['NumberOfCars'].value_counts().index\n",
    "y = np.array(customers['NumberOfCars'].value_counts().values)\n",
    "perFraud = np.true_divide(y, y.sum())*100\n",
    "claim_array = []\n",
    "\n",
    "for i in range(len(perFraud)):\n",
    "    small_claim = []\n",
    "    small_claim.append(x[i])\n",
    "    small_claim.append(y[i])\n",
    "    small_claim.append(format(perFraud[i], '.2f'))\n",
    "    #print(x[i], format(perFraud[i], '.2f'), '%')\n",
    "    claim_array.append(small_claim)\n",
    "    \n",
    "pd.DataFrame(claim_array, columns=['Number of car', 'Claims', 'Percentage-%'])   "
   ]
  },
  {
   "cell_type": "code",
   "execution_count": 16,
   "id": "524c2948",
   "metadata": {},
   "outputs": [
    {
     "data": {
      "image/png": "[encoded data removed]",
      "text/plain": [
       "<Figure size 1080x432 with 1 Axes>"
      ]
     },
     "metadata": {
      "needs_background": "light"
     },
     "output_type": "display_data"
    },
    {
     "data": {
      "text/html": [
       "<div>\n",
       "<style scoped>\n",
       "    .dataframe tbody tr th:only-of-type {\n",
       "        vertical-align: middle;\n",
       "    }\n",
       "\n",
       "    .dataframe tbody tr th {\n",
       "        vertical-align: top;\n",
       "    }\n",
       "\n",
       "    .dataframe thead th {\n",
       "        text-align: right;\n",
       "    }\n",
       "</style>\n",
       "<table border=\"1\" class=\"dataframe\">\n",
       "  <thead>\n",
       "    <tr style=\"text-align: right;\">\n",
       "      <th></th>\n",
       "      <th>Number of Car</th>\n",
       "      <th>Fraud</th>\n",
       "      <th>Percentage-%</th>\n",
       "    </tr>\n",
       "  </thead>\n",
       "  <tbody>\n",
       "    <tr>\n",
       "      <th>0</th>\n",
       "      <td>1 vehicle</td>\n",
       "      <td>628</td>\n",
       "      <td>91.68</td>\n",
       "    </tr>\n",
       "    <tr>\n",
       "      <th>1</th>\n",
       "      <td>2 vehicles</td>\n",
       "      <td>37</td>\n",
       "      <td>5.40</td>\n",
       "    </tr>\n",
       "    <tr>\n",
       "      <th>2</th>\n",
       "      <td>3 to 4</td>\n",
       "      <td>19</td>\n",
       "      <td>2.77</td>\n",
       "    </tr>\n",
       "    <tr>\n",
       "      <th>3</th>\n",
       "      <td>5 to 8</td>\n",
       "      <td>1</td>\n",
       "      <td>0.15</td>\n",
       "    </tr>\n",
       "  </tbody>\n",
       "</table>\n",
       "</div>"
      ],
      "text/plain": [
       "  Number of Car  Fraud Percentage-%\n",
       "0     1 vehicle    628        91.68\n",
       "1    2 vehicles     37         5.40\n",
       "2        3 to 4     19         2.77\n",
       "3        5 to 8      1         0.15"
      ]
     },
     "execution_count": 16,
     "metadata": {},
     "output_type": "execute_result"
    }
   ],
   "source": [
    "plt.subplots(figsize=(15, 6))\n",
    "sns.countplot(x='NumberOfCars',\n",
    "              data=customers[customers['FraudFound_P']==1],\n",
    "              palette='RdYlGn',\n",
    "              order=customers['NumberOfCars'].value_counts().index)\n",
    "\n",
    "plt.xticks(rotation=90)\n",
    "\n",
    "plt.ylabel('Number of Fraud')\n",
    "plt.xlabel('Number of Car')\n",
    "plt.title('Number of Car vs Number of Fraud')\n",
    "\n",
    "plt.show()\n",
    "\n",
    "x = customers[customers['FraudFound_P']==1]['NumberOfCars'].value_counts().index\n",
    "y = np.array(customers[customers['FraudFound_P']==1]['NumberOfCars'].value_counts().values)\n",
    "perFraud = np.true_divide(y, y.sum()) * 100\n",
    "claim_array = []\n",
    "\n",
    "for i in range(len(perFraud)):\n",
    "    small_claim = []\n",
    "    small_claim.append(x[i])\n",
    "    small_claim.append(y[i])\n",
    "    small_claim.append(format(perFraud[i], '.2f'))\n",
    "    #print(x[i], format(perFraud[i], '.2f'), '%')\n",
    "    claim_array.append(small_claim)\n",
    "    \n",
    "pd.DataFrame(claim_array, columns=['Number of Car', 'Fraud', 'Percentage-%'])   "
   ]
  },
  {
   "cell_type": "code",
   "execution_count": null,
   "id": "b3064a62",
   "metadata": {},
   "outputs": [],
   "source": [
    "customers[customers['FraudFound_P']==1]['PolicyType'].value_counts()"
   ]
  },
  {
   "cell_type": "code",
   "execution_count": 17,
   "id": "f7e10393",
   "metadata": {},
   "outputs": [
    {
     "data": {
      "image/png": "[encoded data removed]",
      "text/plain": [
       "<Figure size 1080x432 with 1 Axes>"
      ]
     },
     "metadata": {
      "needs_background": "light"
     },
     "output_type": "display_data"
    },
    {
     "data": {
      "text/html": [
       "<div>\n",
       "<style scoped>\n",
       "    .dataframe tbody tr th:only-of-type {\n",
       "        vertical-align: middle;\n",
       "    }\n",
       "\n",
       "    .dataframe tbody tr th {\n",
       "        vertical-align: top;\n",
       "    }\n",
       "\n",
       "    .dataframe thead th {\n",
       "        text-align: right;\n",
       "    }\n",
       "</style>\n",
       "<table border=\"1\" class=\"dataframe\">\n",
       "  <thead>\n",
       "    <tr style=\"text-align: right;\">\n",
       "      <th></th>\n",
       "      <th>Age Group</th>\n",
       "      <th>Claims</th>\n",
       "      <th>Percentage-%</th>\n",
       "    </tr>\n",
       "  </thead>\n",
       "  <tbody>\n",
       "    <tr>\n",
       "      <th>0</th>\n",
       "      <td>1 vehicle</td>\n",
       "      <td>178</td>\n",
       "      <td>89.90</td>\n",
       "    </tr>\n",
       "    <tr>\n",
       "      <th>1</th>\n",
       "      <td>2 vehicles</td>\n",
       "      <td>14</td>\n",
       "      <td>7.07</td>\n",
       "    </tr>\n",
       "    <tr>\n",
       "      <th>2</th>\n",
       "      <td>3 to 4</td>\n",
       "      <td>6</td>\n",
       "      <td>3.03</td>\n",
       "    </tr>\n",
       "  </tbody>\n",
       "</table>\n",
       "</div>"
      ],
      "text/plain": [
       "    Age Group  Claims Percentage-%\n",
       "0   1 vehicle     178        89.90\n",
       "1  2 vehicles      14         7.07\n",
       "2      3 to 4       6         3.03"
      ]
     },
     "execution_count": 17,
     "metadata": {},
     "output_type": "execute_result"
    }
   ],
   "source": [
    "plt.subplots(figsize=(15, 6))\n",
    "single = customers[customers['MaritalStatus']=='Single']\n",
    "sns.countplot(x='NumberOfCars',\n",
    "              data=single[single['FraudFound_P']==1],\n",
    "              palette='RdYlGn',\n",
    "              order=single['NumberOfCars'].value_counts().index)\n",
    "\n",
    "plt.xticks(rotation=90)\n",
    "\n",
    "plt.ylabel('Number of Fraud')\n",
    "plt.xlabel('Age of Policy Holder')\n",
    "plt.title('Age of Policy Holder-Single vs Number of Fraud Done')\n",
    "\n",
    "plt.show()\n",
    "\n",
    "x = single[single['FraudFound_P']==1]['NumberOfCars'].value_counts().index\n",
    "y = np.array(single[single['FraudFound_P']==1]['NumberOfCars'].value_counts().values)\n",
    "perFraud = np.true_divide(y, y.sum()) * 100\n",
    "claim_array = []\n",
    "\n",
    "for i in range(len(perFraud)):\n",
    "    small_claim = []\n",
    "    small_claim.append(x[i])\n",
    "    small_claim.append(y[i])\n",
    "    small_claim.append(format(perFraud[i], '.2f'))\n",
    "    #print(x[i], format(perFraud[i], '.2f'), '%')\n",
    "    claim_array.append(small_claim)\n",
    "    \n",
    "pd.DataFrame(claim_array, columns=['Age Group', 'Claims', 'Percentage-%'])    "
   ]
  },
  {
   "cell_type": "markdown",
   "id": "c3444f5f",
   "metadata": {},
   "source": [
    "## Claims Amount i.e vehicle price || claim size percent"
   ]
  },
  {
   "cell_type": "code",
   "execution_count": 18,
   "id": "ff1616d7",
   "metadata": {},
   "outputs": [
    {
     "data": {
      "text/plain": [
       "20000 to 29000     6112\n",
       "30000 to 39000     2640\n",
       "more than 69000    1605\n",
       "less than 20000     800\n",
       "40000 to 59000      349\n",
       "60000 to 69000       59\n",
       "Name: VehiclePrice, dtype: int64"
      ]
     },
     "execution_count": 18,
     "metadata": {},
     "output_type": "execute_result"
    }
   ],
   "source": [
    "customers['VehiclePrice'].value_counts()"
   ]
  },
  {
   "cell_type": "code",
   "execution_count": 20,
   "id": "b6065db7",
   "metadata": {},
   "outputs": [
    {
     "data": {
      "text/html": [
       "<div>\n",
       "<style scoped>\n",
       "    .dataframe tbody tr th:only-of-type {\n",
       "        vertical-align: middle;\n",
       "    }\n",
       "\n",
       "    .dataframe tbody tr th {\n",
       "        vertical-align: top;\n",
       "    }\n",
       "\n",
       "    .dataframe thead th {\n",
       "        text-align: right;\n",
       "    }\n",
       "</style>\n",
       "<table border=\"1\" class=\"dataframe\">\n",
       "  <thead>\n",
       "    <tr style=\"text-align: right;\">\n",
       "      <th></th>\n",
       "      <th>WeekOfMonth</th>\n",
       "      <th>WeekOfMonthClaimed</th>\n",
       "      <th>Age</th>\n",
       "      <th>FraudFound_P</th>\n",
       "      <th>PolicyNumber</th>\n",
       "      <th>RepNumber</th>\n",
       "      <th>Deductible</th>\n",
       "      <th>DriverRating</th>\n",
       "      <th>Year</th>\n",
       "      <th>ClaimSize</th>\n",
       "    </tr>\n",
       "  </thead>\n",
       "  <tbody>\n",
       "    <tr>\n",
       "      <th>count</th>\n",
       "      <td>11565.000000</td>\n",
       "      <td>11565.000000</td>\n",
       "      <td>11560.000000</td>\n",
       "      <td>11565.000000</td>\n",
       "      <td>11565.000000</td>\n",
       "      <td>11565.000000</td>\n",
       "      <td>11565.000000</td>\n",
       "      <td>11559.000000</td>\n",
       "      <td>11565.000000</td>\n",
       "      <td>11565.000000</td>\n",
       "    </tr>\n",
       "    <tr>\n",
       "      <th>mean</th>\n",
       "      <td>2.784003</td>\n",
       "      <td>2.701167</td>\n",
       "      <td>39.899567</td>\n",
       "      <td>0.059230</td>\n",
       "      <td>7710.474449</td>\n",
       "      <td>8.469780</td>\n",
       "      <td>407.617812</td>\n",
       "      <td>2.493468</td>\n",
       "      <td>1994.865975</td>\n",
       "      <td>22955.978035</td>\n",
       "    </tr>\n",
       "    <tr>\n",
       "      <th>std</th>\n",
       "      <td>1.284854</td>\n",
       "      <td>1.258153</td>\n",
       "      <td>13.590556</td>\n",
       "      <td>0.236066</td>\n",
       "      <td>4453.762219</td>\n",
       "      <td>4.618952</td>\n",
       "      <td>43.397393</td>\n",
       "      <td>1.118102</td>\n",
       "      <td>0.801798</td>\n",
       "      <td>26988.811719</td>\n",
       "    </tr>\n",
       "    <tr>\n",
       "      <th>min</th>\n",
       "      <td>1.000000</td>\n",
       "      <td>1.000000</td>\n",
       "      <td>0.000000</td>\n",
       "      <td>0.000000</td>\n",
       "      <td>1.000000</td>\n",
       "      <td>1.000000</td>\n",
       "      <td>300.000000</td>\n",
       "      <td>1.000000</td>\n",
       "      <td>1994.000000</td>\n",
       "      <td>0.000000</td>\n",
       "    </tr>\n",
       "    <tr>\n",
       "      <th>25%</th>\n",
       "      <td>2.000000</td>\n",
       "      <td>2.000000</td>\n",
       "      <td>31.000000</td>\n",
       "      <td>0.000000</td>\n",
       "      <td>3851.000000</td>\n",
       "      <td>4.000000</td>\n",
       "      <td>400.000000</td>\n",
       "      <td>1.000000</td>\n",
       "      <td>1994.000000</td>\n",
       "      <td>4148.845001</td>\n",
       "    </tr>\n",
       "    <tr>\n",
       "      <th>50%</th>\n",
       "      <td>3.000000</td>\n",
       "      <td>3.000000</td>\n",
       "      <td>38.000000</td>\n",
       "      <td>0.000000</td>\n",
       "      <td>7712.000000</td>\n",
       "      <td>8.000000</td>\n",
       "      <td>400.000000</td>\n",
       "      <td>3.000000</td>\n",
       "      <td>1995.000000</td>\n",
       "      <td>8130.994563</td>\n",
       "    </tr>\n",
       "    <tr>\n",
       "      <th>75%</th>\n",
       "      <td>4.000000</td>\n",
       "      <td>4.000000</td>\n",
       "      <td>49.000000</td>\n",
       "      <td>0.000000</td>\n",
       "      <td>11542.000000</td>\n",
       "      <td>12.000000</td>\n",
       "      <td>400.000000</td>\n",
       "      <td>3.000000</td>\n",
       "      <td>1996.000000</td>\n",
       "      <td>46299.646944</td>\n",
       "    </tr>\n",
       "    <tr>\n",
       "      <th>max</th>\n",
       "      <td>5.000000</td>\n",
       "      <td>5.000000</td>\n",
       "      <td>80.000000</td>\n",
       "      <td>1.000000</td>\n",
       "      <td>15420.000000</td>\n",
       "      <td>16.000000</td>\n",
       "      <td>700.000000</td>\n",
       "      <td>4.000000</td>\n",
       "      <td>1996.000000</td>\n",
       "      <td>141394.159289</td>\n",
       "    </tr>\n",
       "  </tbody>\n",
       "</table>\n",
       "</div>"
      ],
      "text/plain": [
       "        WeekOfMonth  WeekOfMonthClaimed           Age  FraudFound_P  \\\n",
       "count  11565.000000        11565.000000  11560.000000  11565.000000   \n",
       "mean       2.784003            2.701167     39.899567      0.059230   \n",
       "std        1.284854            1.258153     13.590556      0.236066   \n",
       "min        1.000000            1.000000      0.000000      0.000000   \n",
       "25%        2.000000            2.000000     31.000000      0.000000   \n",
       "50%        3.000000            3.000000     38.000000      0.000000   \n",
       "75%        4.000000            4.000000     49.000000      0.000000   \n",
       "max        5.000000            5.000000     80.000000      1.000000   \n",
       "\n",
       "       PolicyNumber     RepNumber    Deductible  DriverRating          Year  \\\n",
       "count  11565.000000  11565.000000  11565.000000  11559.000000  11565.000000   \n",
       "mean    7710.474449      8.469780    407.617812      2.493468   1994.865975   \n",
       "std     4453.762219      4.618952     43.397393      1.118102      0.801798   \n",
       "min        1.000000      1.000000    300.000000      1.000000   1994.000000   \n",
       "25%     3851.000000      4.000000    400.000000      1.000000   1994.000000   \n",
       "50%     7712.000000      8.000000    400.000000      3.000000   1995.000000   \n",
       "75%    11542.000000     12.000000    400.000000      3.000000   1996.000000   \n",
       "max    15420.000000     16.000000    700.000000      4.000000   1996.000000   \n",
       "\n",
       "           ClaimSize  \n",
       "count   11565.000000  \n",
       "mean    22955.978035  \n",
       "std     26988.811719  \n",
       "min         0.000000  \n",
       "25%      4148.845001  \n",
       "50%      8130.994563  \n",
       "75%     46299.646944  \n",
       "max    141394.159289  "
      ]
     },
     "execution_count": 20,
     "metadata": {},
     "output_type": "execute_result"
    }
   ],
   "source": [
    "customers.describe()"
   ]
  },
  {
   "cell_type": "code",
   "execution_count": 21,
   "id": "c27fe572",
   "metadata": {},
   "outputs": [],
   "source": [
    "vehicle_price_dict = {\n",
    "    'less than 20000': 20000,\n",
    "    '20000 to 29000': 29000,\n",
    "    '30000 to 39000': 39000,\n",
    "    '40000 to 59000': 59000,\n",
    "    '60000 to 69000': 69000,\n",
    "    'more than 69000': 100000\n",
    "}\n",
    "\n",
    "claim_trustability = []\n",
    "\n",
    "for index, row in customers.iterrows():\n",
    "    ct = row['ClaimSize']/vehicle_price_dict.get(row['VehiclePrice']) * 100\n",
    "    claim_trustability.append(ct)\n",
    "    \n",
    "customers['Claim_Amount_Percent'] = claim_trustability    "
   ]
  },
  {
   "cell_type": "code",
   "execution_count": 22,
   "id": "7ec35354",
   "metadata": {},
   "outputs": [
    {
     "data": {
      "text/plain": [
       "30000 to 39000     1128\n",
       "20000 to 29000      178\n",
       "40000 to 59000       76\n",
       "60000 to 69000       23\n",
       "less than 20000       5\n",
       "Name: VehiclePrice, dtype: int64"
      ]
     },
     "execution_count": 22,
     "metadata": {},
     "output_type": "execute_result"
    }
   ],
   "source": [
    "claim_amount_100 = customers[customers['Claim_Amount_Percent']>100]\n",
    "claim_amount_100['VehiclePrice'].value_counts()"
   ]
  },
  {
   "cell_type": "code",
   "execution_count": 24,
   "id": "b8328333",
   "metadata": {},
   "outputs": [
    {
     "data": {
      "text/html": [
       "<div>\n",
       "<style scoped>\n",
       "    .dataframe tbody tr th:only-of-type {\n",
       "        vertical-align: middle;\n",
       "    }\n",
       "\n",
       "    .dataframe tbody tr th {\n",
       "        vertical-align: top;\n",
       "    }\n",
       "\n",
       "    .dataframe thead th {\n",
       "        text-align: right;\n",
       "    }\n",
       "</style>\n",
       "<table border=\"1\" class=\"dataframe\">\n",
       "  <thead>\n",
       "    <tr style=\"text-align: right;\">\n",
       "      <th></th>\n",
       "      <th>Month</th>\n",
       "      <th>WeekOfMonth</th>\n",
       "      <th>DayOfWeek</th>\n",
       "      <th>Make</th>\n",
       "      <th>AccidentArea</th>\n",
       "      <th>DayOfWeekClaimed</th>\n",
       "      <th>MonthClaimed</th>\n",
       "      <th>WeekOfMonthClaimed</th>\n",
       "      <th>Sex</th>\n",
       "      <th>MaritalStatus</th>\n",
       "      <th>...</th>\n",
       "      <th>PoliceReportFiled</th>\n",
       "      <th>WitnessPresent</th>\n",
       "      <th>AgentType</th>\n",
       "      <th>NumberOfSuppliments</th>\n",
       "      <th>AddressChange_Claim</th>\n",
       "      <th>NumberOfCars</th>\n",
       "      <th>Year</th>\n",
       "      <th>BasePolicy</th>\n",
       "      <th>ClaimSize</th>\n",
       "      <th>Claim_Amount_Percent</th>\n",
       "    </tr>\n",
       "  </thead>\n",
       "  <tbody>\n",
       "    <tr>\n",
       "      <th>7</th>\n",
       "      <td>Mar</td>\n",
       "      <td>5</td>\n",
       "      <td>Monday</td>\n",
       "      <td>Honda</td>\n",
       "      <td>Urban</td>\n",
       "      <td>Monday</td>\n",
       "      <td>Mar</td>\n",
       "      <td>5</td>\n",
       "      <td>Male</td>\n",
       "      <td>Married</td>\n",
       "      <td>...</td>\n",
       "      <td>No</td>\n",
       "      <td>No</td>\n",
       "      <td>External</td>\n",
       "      <td>none</td>\n",
       "      <td>no change</td>\n",
       "      <td>1 vehicle</td>\n",
       "      <td>1994</td>\n",
       "      <td>Liability</td>\n",
       "      <td>103420.785275</td>\n",
       "      <td>356.623397</td>\n",
       "    </tr>\n",
       "    <tr>\n",
       "      <th>18</th>\n",
       "      <td>Mar</td>\n",
       "      <td>3</td>\n",
       "      <td>Thursday</td>\n",
       "      <td>Honda</td>\n",
       "      <td>Urban</td>\n",
       "      <td>Thursday</td>\n",
       "      <td>Jun</td>\n",
       "      <td>4</td>\n",
       "      <td>Male</td>\n",
       "      <td>Married</td>\n",
       "      <td>...</td>\n",
       "      <td>No</td>\n",
       "      <td>No</td>\n",
       "      <td>External</td>\n",
       "      <td>more than 5</td>\n",
       "      <td>no change</td>\n",
       "      <td>1 vehicle</td>\n",
       "      <td>1994</td>\n",
       "      <td>Collision</td>\n",
       "      <td>84964.753582</td>\n",
       "      <td>217.858343</td>\n",
       "    </tr>\n",
       "    <tr>\n",
       "      <th>21</th>\n",
       "      <td>Mar</td>\n",
       "      <td>2</td>\n",
       "      <td>Friday</td>\n",
       "      <td>Dodge</td>\n",
       "      <td>Urban</td>\n",
       "      <td>Saturday</td>\n",
       "      <td>Mar</td>\n",
       "      <td>2</td>\n",
       "      <td>Male</td>\n",
       "      <td>Married</td>\n",
       "      <td>...</td>\n",
       "      <td>No</td>\n",
       "      <td>No</td>\n",
       "      <td>Internal</td>\n",
       "      <td>none</td>\n",
       "      <td>no change</td>\n",
       "      <td>1 vehicle</td>\n",
       "      <td>1994</td>\n",
       "      <td>Collision</td>\n",
       "      <td>54233.789823</td>\n",
       "      <td>139.061000</td>\n",
       "    </tr>\n",
       "    <tr>\n",
       "      <th>35</th>\n",
       "      <td>May</td>\n",
       "      <td>4</td>\n",
       "      <td>Friday</td>\n",
       "      <td>Pontiac</td>\n",
       "      <td>Urban</td>\n",
       "      <td>Friday</td>\n",
       "      <td>May</td>\n",
       "      <td>4</td>\n",
       "      <td>Male</td>\n",
       "      <td>Married</td>\n",
       "      <td>...</td>\n",
       "      <td>No</td>\n",
       "      <td>No</td>\n",
       "      <td>External</td>\n",
       "      <td>none</td>\n",
       "      <td>no change</td>\n",
       "      <td>1 vehicle</td>\n",
       "      <td>1994</td>\n",
       "      <td>Liability</td>\n",
       "      <td>52494.337422</td>\n",
       "      <td>134.600865</td>\n",
       "    </tr>\n",
       "    <tr>\n",
       "      <th>38</th>\n",
       "      <td>Jun</td>\n",
       "      <td>4</td>\n",
       "      <td>Tuesday</td>\n",
       "      <td>Pontiac</td>\n",
       "      <td>Urban</td>\n",
       "      <td>Tuesday</td>\n",
       "      <td>Jun</td>\n",
       "      <td>4</td>\n",
       "      <td>Male</td>\n",
       "      <td>Single</td>\n",
       "      <td>...</td>\n",
       "      <td>No</td>\n",
       "      <td>No</td>\n",
       "      <td>External</td>\n",
       "      <td>1 to 2</td>\n",
       "      <td>no change</td>\n",
       "      <td>1 vehicle</td>\n",
       "      <td>1994</td>\n",
       "      <td>Collision</td>\n",
       "      <td>58488.924392</td>\n",
       "      <td>149.971601</td>\n",
       "    </tr>\n",
       "  </tbody>\n",
       "</table>\n",
       "<p>5 rows × 35 columns</p>\n",
       "</div>"
      ],
      "text/plain": [
       "   Month  WeekOfMonth DayOfWeek     Make AccidentArea DayOfWeekClaimed  \\\n",
       "7    Mar            5    Monday    Honda        Urban           Monday   \n",
       "18   Mar            3  Thursday    Honda        Urban         Thursday   \n",
       "21   Mar            2    Friday    Dodge        Urban         Saturday   \n",
       "35   May            4    Friday  Pontiac        Urban           Friday   \n",
       "38   Jun            4   Tuesday  Pontiac        Urban          Tuesday   \n",
       "\n",
       "   MonthClaimed  WeekOfMonthClaimed   Sex MaritalStatus  ...  \\\n",
       "7           Mar                   5  Male       Married  ...   \n",
       "18          Jun                   4  Male       Married  ...   \n",
       "21          Mar                   2  Male       Married  ...   \n",
       "35          May                   4  Male       Married  ...   \n",
       "38          Jun                   4  Male        Single  ...   \n",
       "\n",
       "    PoliceReportFiled WitnessPresent AgentType NumberOfSuppliments  \\\n",
       "7                  No             No  External                none   \n",
       "18                 No             No  External         more than 5   \n",
       "21                 No             No  Internal                none   \n",
       "35                 No             No  External                none   \n",
       "38                 No             No  External              1 to 2   \n",
       "\n",
       "   AddressChange_Claim  NumberOfCars  Year  BasePolicy      ClaimSize  \\\n",
       "7            no change     1 vehicle  1994   Liability  103420.785275   \n",
       "18           no change     1 vehicle  1994   Collision   84964.753582   \n",
       "21           no change     1 vehicle  1994   Collision   54233.789823   \n",
       "35           no change     1 vehicle  1994   Liability   52494.337422   \n",
       "38           no change     1 vehicle  1994   Collision   58488.924392   \n",
       "\n",
       "    Claim_Amount_Percent  \n",
       "7             356.623397  \n",
       "18            217.858343  \n",
       "21            139.061000  \n",
       "35            134.600865  \n",
       "38            149.971601  \n",
       "\n",
       "[5 rows x 35 columns]"
      ]
     },
     "execution_count": 24,
     "metadata": {},
     "output_type": "execute_result"
    }
   ],
   "source": [
    "claim_amount_100.head()"
   ]
  },
  {
   "cell_type": "code",
   "execution_count": 26,
   "id": "4b70526c",
   "metadata": {},
   "outputs": [
    {
     "data": {
      "text/plain": [
       "30000 to 39000    57\n",
       "20000 to 29000     9\n",
       "40000 to 59000     5\n",
       "Name: VehiclePrice, dtype: int64"
      ]
     },
     "execution_count": 26,
     "metadata": {},
     "output_type": "execute_result"
    }
   ],
   "source": [
    "claim_amount_100[claim_amount_100['FraudFound_P']==1]['VehiclePrice'].value_counts()"
   ]
  },
  {
   "cell_type": "code",
   "execution_count": 25,
   "id": "33258e9c",
   "metadata": {},
   "outputs": [
    {
     "data": {
      "image/png": "[encoded data removed]",
      "text/plain": [
       "<Figure size 720x432 with 1 Axes>"
      ]
     },
     "metadata": {
      "needs_background": "light"
     },
     "output_type": "display_data"
    }
   ],
   "source": [
    "claim_amount_100_vehicle = claim_amount_100[claim_amount_100['VehiclePrice']!='more than 69000']\n",
    "fraud_claim = claim_amount_100_vehicle[claim_amount_100_vehicle['FraudFound_P']==1]\n",
    "\n",
    "plt.subplots(figsize=(10, 6))\n",
    "\n",
    "sns.countplot(x='VehiclePrice',\n",
    "              data=fraud_claim,\n",
    "              palette='RdYlGn',\n",
    "              order=fraud_claim['VehiclePrice'].value_counts().index)\n",
    "\n",
    "plt.xticks(rotation=90)\n",
    "\n",
    "plt.ylabel('Number of Fraud')\n",
    "plt.xlabel('Vehicle Price ')\n",
    "plt.title('Vehicle Price vs Number of Fraud Done (Claim Percent>100%)')\n",
    "\n",
    "plt.show()"
   ]
  },
  {
   "cell_type": "markdown",
   "id": "90029508",
   "metadata": {},
   "source": [
    "# Vehicle having price between 30000 to 39000 and their claim percent is greater than 100% has greater chance of doing fraud"
   ]
  },
  {
   "cell_type": "code",
   "execution_count": 27,
   "id": "3422617e",
   "metadata": {},
   "outputs": [
    {
     "data": {
      "text/plain": [
       "31 to 35    4199\n",
       "36 to 40    3008\n",
       "41 to 50    2122\n",
       "51 to 65    1070\n",
       "26 to 30     445\n",
       "over 65      388\n",
       "16 to 17     247\n",
       "21 to 25      73\n",
       "18 to 20      13\n",
       "Name: AgeOfPolicyHolder, dtype: int64"
      ]
     },
     "execution_count": 27,
     "metadata": {},
     "output_type": "execute_result"
    }
   ],
   "source": [
    "customers['AgeOfPolicyHolder'].value_counts()"
   ]
  },
  {
   "cell_type": "code",
   "execution_count": 28,
   "id": "b4c18f9e",
   "metadata": {},
   "outputs": [
    {
     "data": {
      "image/png": "[encoded data removed]",
      "text/plain": [
       "<Figure size 720x432 with 1 Axes>"
      ]
     },
     "metadata": {
      "needs_background": "light"
     },
     "output_type": "display_data"
    }
   ],
   "source": [
    "single = customers[customers['MaritalStatus']=='Single']\n",
    "single = single[single['AgeOfPolicyHolder']=='31 to 35']\n",
    "fraud = single[single['FraudFound_P']==1]\n",
    "\n",
    "plt.subplots(figsize=(10, 6))\n",
    "\n",
    "sns.countplot(x='AgeOfVehicle',\n",
    "              data=fraud,\n",
    "              palette='RdYlGn',\n",
    "              order=fraud['AgeOfVehicle'].value_counts().index)\n",
    "\n",
    "plt.xticks(rotation=90)\n",
    "\n",
    "plt.ylabel('Number of Fraud')\n",
    "plt.xlabel('Age of Vehicle')\n",
    "plt.title('Age of Vehicle - (Single) vs Number of Fraud Done')\n",
    "\n",
    "plt.show()"
   ]
  },
  {
   "cell_type": "code",
   "execution_count": 29,
   "id": "4bc6cc25",
   "metadata": {},
   "outputs": [
    {
     "data": {
      "image/png": "[encoded data removed]",
      "text/plain": [
       "<Figure size 720x432 with 1 Axes>"
      ]
     },
     "metadata": {
      "needs_background": "light"
     },
     "output_type": "display_data"
    }
   ],
   "source": [
    "single = customers[customers['MaritalStatus']=='Single']\n",
    "single = single[single['AgeOfPolicyHolder']=='31 to 35']\n",
    "fraud = single[single['FraudFound_P']==1]\n",
    "\n",
    "plt.subplots(figsize=(10, 6))\n",
    "\n",
    "sns.countplot(x='AgeOfVehicle',\n",
    "              data=single,\n",
    "              palette='RdYlGn',\n",
    "              order=single['AgeOfVehicle'].value_counts().index)\n",
    "\n",
    "plt.xticks(rotation=90)\n",
    "\n",
    "plt.ylabel('Number of Claim')\n",
    "plt.xlabel('Age of Vehicle')\n",
    "plt.title('Age of Vehicle - (Single) vs Number of Claim Done')\n",
    "\n",
    "plt.show()"
   ]
  },
  {
   "cell_type": "code",
   "execution_count": 30,
   "id": "974bbb36",
   "metadata": {},
   "outputs": [
    {
     "data": {
      "image/png": "[encoded data removed]",
      "text/plain": [
       "<Figure size 720x432 with 1 Axes>"
      ]
     },
     "metadata": {
      "needs_background": "light"
     },
     "output_type": "display_data"
    }
   ],
   "source": [
    "plt.subplots(figsize=(10, 6))\n",
    "\n",
    "sns.countplot(x='AgeOfVehicle',\n",
    "              data=customers,\n",
    "              palette='RdYlGn',\n",
    "              order=customers['AgeOfVehicle'].value_counts().index)\n",
    "\n",
    "plt.xticks(rotation=90)\n",
    "\n",
    "plt.ylabel('Number of Claim')\n",
    "plt.xlabel('Age of Vehicle')\n",
    "plt.title('Age of Vehicle  vs Number of Claim Done')\n",
    "\n",
    "plt.show()"
   ]
  },
  {
   "cell_type": "code",
   "execution_count": 32,
   "id": "8a186347",
   "metadata": {},
   "outputs": [
    {
     "data": {
      "image/png": "[encoded data removed]",
      "text/plain": [
       "<Figure size 720x432 with 1 Axes>"
      ]
     },
     "metadata": {
      "needs_background": "light"
     },
     "output_type": "display_data"
    }
   ],
   "source": [
    "plt.subplots(figsize=(10, 6))\n",
    "\n",
    "sns.countplot(x='AgeOfVehicle',\n",
    "              data=customers[customers['FraudFound_P']==1],\n",
    "              palette='RdYlGn',\n",
    "              order=customers['AgeOfVehicle'].value_counts().index)\n",
    "\n",
    "plt.xticks(rotation=90)\n",
    "\n",
    "plt.ylabel('Number of Claim')\n",
    "plt.xlabel('Age of Vehicle')\n",
    "plt.title('Age of Vehicle  vs Number of Claim Done and found Fraud')\n",
    "\n",
    "plt.show()"
   ]
  },
  {
   "cell_type": "code",
   "execution_count": null,
   "id": "995d82d4",
   "metadata": {},
   "outputs": [],
   "source": [
    "customers['AgeOfVehicle'].value_counts()"
   ]
  },
  {
   "cell_type": "code",
   "execution_count": null,
   "id": "7d1972e9",
   "metadata": {},
   "outputs": [],
   "source": [
    "customers[customers['FraudFound_P']==1]['AgeOfVehicle'].value_counts() "
   ]
  },
  {
   "cell_type": "code",
   "execution_count": null,
   "id": "b0304e22",
   "metadata": {},
   "outputs": [],
   "source": [
    "daydict = {\n",
    "       1 : 'Monday',\n",
    "       2 : 'Tuesday',\n",
    "       3 : 'Wednesday',\n",
    "       4 : 'Thursday',\n",
    "       5 : 'Friday',\n",
    "       6 : 'Saturday',\n",
    "       7 : 'Sunday'\n",
    "}"
   ]
  },
  {
   "cell_type": "code",
   "execution_count": null,
   "id": "87bfad50",
   "metadata": {},
   "outputs": [],
   "source": [
    "def parse_date(year, month_name, week_month, day):\n",
    "    month = month_name\n",
    "    first_date = datetime(year, month, 1)\n",
    "    first_day = first_date.isoweekday()\n",
    "    first_week_number = first_date.isocalendar()[1]\n",
    "    if (first_week_number==52):\n",
    "        first_week_number = 1\n",
    "    week_number = first_week_number + week_month - 1\n",
    "    string_date = str(year) + '-' + str(week_number) + '-' + daydict.get(day)\n",
    "    date = datetime.strptime(string_date, '%Y-%U-%A')\n",
    "    return date"
   ]
  },
  {
   "cell_type": "code",
   "execution_count": null,
   "id": "31447086",
   "metadata": {},
   "outputs": [],
   "source": [
    "def convert_month(month):\n",
    "    \n",
    "    if month=='Jan':\n",
    "        return 1\n",
    "    elif month=='Feb':\n",
    "        return 2\n",
    "    elif month=='Mar':\n",
    "        return 3\n",
    "    elif month=='Apr':\n",
    "        return 4\n",
    "    elif month=='May':\n",
    "        return 5\n",
    "    elif month=='Jun':\n",
    "        return 6\n",
    "    elif month=='Jul':\n",
    "        return 7\n",
    "    elif month=='Aug':\n",
    "        return 8\n",
    "    elif month=='Sep':\n",
    "        return 9\n",
    "    elif month=='Oct':\n",
    "        return 10\n",
    "    elif month=='Nov':\n",
    "        return 11\n",
    "    elif month=='Dec':\n",
    "        return 12\n",
    "    \n",
    "customers['Month'] = customers['Month'].apply(convert_month)\n",
    "customers['MonthClaimed'] = customers['MonthClaimed'].apply(convert_month)  "
   ]
  },
  {
   "cell_type": "code",
   "execution_count": null,
   "id": "e1ca27cb",
   "metadata": {},
   "outputs": [],
   "source": [
    "def convert_day(day):\n",
    "    \n",
    "    if day=='Monday':\n",
    "        return 1\n",
    "    elif day=='Tuesday':\n",
    "        return 2\n",
    "    elif day=='Wednesday':\n",
    "        return 3\n",
    "    elif day=='Thursday':\n",
    "        return 4\n",
    "    elif day=='Friday':\n",
    "        return 5\n",
    "    elif day=='Saturday':\n",
    "        return 6\n",
    "    elif day=='Sunday':\n",
    "        return 7\n",
    "\n",
    "customers['DayOfWeek'] = customers['DayOfWeek'].apply(convert_day)\n",
    "customers['DayOfWeekClaimed'] = customers['DayOfWeekClaimed'].apply(convert_day)   "
   ]
  },
  {
   "cell_type": "code",
   "execution_count": null,
   "id": "1b8dc0ff",
   "metadata": {},
   "outputs": [],
   "source": [
    "customers['Month'].value_counts()"
   ]
  },
  {
   "cell_type": "code",
   "execution_count": null,
   "id": "94df55f8",
   "metadata": {},
   "outputs": [],
   "source": [
    "customers[customers['DayOfWeekClaimed'].isna()]"
   ]
  },
  {
   "cell_type": "code",
   "execution_count": null,
   "id": "f6322f8b",
   "metadata": {},
   "outputs": [],
   "source": [
    "customers['DayOfWeekClaimed'].fillna(1, inplace=True)"
   ]
  },
  {
   "cell_type": "code",
   "execution_count": null,
   "id": "2793fb2e",
   "metadata": {},
   "outputs": [],
   "source": [
    "customers.isna().sum()"
   ]
  },
  {
   "cell_type": "code",
   "execution_count": null,
   "id": "074319d9",
   "metadata": {},
   "outputs": [],
   "source": [
    "customers['MonthClaimed'].fillna(7, inplace=True)"
   ]
  },
  {
   "cell_type": "code",
   "execution_count": null,
   "id": "8eae917e",
   "metadata": {},
   "outputs": [],
   "source": [
    "from datetime import datetime, timedelta\n",
    "gap = []\n",
    "accident_dates = []\n",
    "claim_dates = []\n",
    "\n",
    "for index, row in customers.iterrows():\n",
    "    accident_year = row['Year']\n",
    "    claim_year = accident_year if (row['Month'] <= int(row['MonthClaimed'])) else accident_year + 1\n",
    "    #if (row['Month'] <= int(row['MonthClaimed'])):\n",
    "    #   claim_year = accident_year\n",
    "    #else:\n",
    "    #    claim_year = accident_year + 1\n",
    "    accident_date = parse_date(accident_year, row['Month'], row['WeekOfMonth'], row['DayOfWeek'])\n",
    "    claim_date = parse_date(claim_year, int(row['MonthClaimed']), row['WeekOfMonthClaimed'], row['DayOfWeekClaimed'])\n",
    "    accident_dates.append(accident_date)\n",
    "    claim_dates.append(claim_date)\n",
    "    gap.append(abs((claim_date - accident_date).days))"
   ]
  },
  {
   "cell_type": "code",
   "execution_count": null,
   "id": "c51e7a6a",
   "metadata": {},
   "outputs": [],
   "source": [
    "customers['Claim_Gap']=gap"
   ]
  },
  {
   "cell_type": "code",
   "execution_count": null,
   "id": "3de067e6",
   "metadata": {},
   "outputs": [],
   "source": [
    "customers[customers['WitnessPresent']=='Yes'].shape"
   ]
  },
  {
   "cell_type": "code",
   "execution_count": null,
   "id": "e97541fc",
   "metadata": {},
   "outputs": [],
   "source": [
    "claim_gap_30 = customers[customers['Claim_Gap']>10]\n",
    "print(claim_gap_30.shape)\n",
    "print(claim_gap_30[claim_gap_30['FraudFound_P']==1].shape)"
   ]
  },
  {
   "cell_type": "code",
   "execution_count": null,
   "id": "e0b9c95e",
   "metadata": {},
   "outputs": [],
   "source": [
    "customers.head()"
   ]
  },
  {
   "cell_type": "code",
   "execution_count": null,
   "id": "d52f9d6f",
   "metadata": {},
   "outputs": [],
   "source": [
    "customers['AddressChange_Claim'].value_counts()"
   ]
  },
  {
   "cell_type": "code",
   "execution_count": null,
   "id": "f787bd0f",
   "metadata": {},
   "outputs": [],
   "source": [
    "customers[customers['FraudFound_P']==1]['AddressChange_Claim'].value_counts()"
   ]
  },
  {
   "cell_type": "code",
   "execution_count": null,
   "id": "7463541d",
   "metadata": {},
   "outputs": [],
   "source": [
    "customers['NumberOfSuppliments'].value_counts()"
   ]
  },
  {
   "cell_type": "code",
   "execution_count": null,
   "id": "69de859f",
   "metadata": {},
   "outputs": [],
   "source": [
    "customers[customers['FraudFound_P']==1]['NumberOfSuppliments'].value_counts()"
   ]
  },
  {
   "cell_type": "code",
   "execution_count": null,
   "id": "13acf167",
   "metadata": {},
   "outputs": [],
   "source": [
    "customers['AgentType'].value_counts()"
   ]
  },
  {
   "cell_type": "code",
   "execution_count": null,
   "id": "b553bac4",
   "metadata": {},
   "outputs": [],
   "source": [
    "customers[customers['FraudFound_P']==1]['AgentType'].value_counts()"
   ]
  },
  {
   "cell_type": "code",
   "execution_count": null,
   "id": "627b5d55",
   "metadata": {},
   "outputs": [],
   "source": [
    "customers['PoliceReportFiled'].value_counts()"
   ]
  },
  {
   "cell_type": "code",
   "execution_count": null,
   "id": "02d1e527",
   "metadata": {},
   "outputs": [],
   "source": [
    "customers['WitnessPresent'].value_counts()"
   ]
  },
  {
   "cell_type": "code",
   "execution_count": null,
   "id": "5aff1c83",
   "metadata": {},
   "outputs": [],
   "source": [
    "customers[(customers['WitnessPresent']=='Yes') & (customers['PoliceReportFiled']=='Yes')]['FraudFound_P']"
   ]
  },
  {
   "cell_type": "code",
   "execution_count": null,
   "id": "6aaa6c67",
   "metadata": {},
   "outputs": [],
   "source": [
    "customers[customers['FraudFound_P']==1]['PoliceReportFiled'].value_counts()"
   ]
  },
  {
   "cell_type": "code",
   "execution_count": null,
   "id": "24c62e54",
   "metadata": {},
   "outputs": [],
   "source": [
    "customers[customers['FraudFound_P']==1]['WitnessPresent'].value_counts()"
   ]
  }
 ],
 "metadata": {
  "kernelspec": {
   "display_name": "Python 3",
   "language": "python",
   "name": "python3"
  },
  "language_info": {
   "codemirror_mode": {
    "name": "ipython",
    "version": 3
   },
   "file_extension": ".py",
   "mimetype": "text/x-python",
   "name": "python",
   "nbconvert_exporter": "python",
   "pygments_lexer": "ipython3",
   "version": "3.8.8"
  }
 },
 "nbformat": 4,
 "nbformat_minor": 5
}
