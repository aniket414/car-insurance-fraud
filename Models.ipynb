{
 "cells": [
  {
   "cell_type": "code",
   "execution_count": 1,
   "id": "69262cf8-d076-4ac8-9c55-a465fbbdd8f4",
   "metadata": {},
   "outputs": [],
   "source": [
    "%load_ext autoreload\n",
    "%autoreload 2\n",
    "%matplotlib inline"
   ]
  },
  {
   "cell_type": "code",
   "execution_count": 3,
   "id": "10b90140-8320-4762-8fa2-8a18de8cc784",
   "metadata": {},
   "outputs": [],
   "source": [
    "from fastai.imports import *\n",
    "from fastai.structured import *"
   ]
  },
  {
   "cell_type": "code",
   "execution_count": 4,
   "id": "974841f0-832d-400b-bfe2-5e083d6701a2",
   "metadata": {},
   "outputs": [],
   "source": [
    "from sklearn.ensemble import RandomForestClassifier, IsolationForest\n",
    "from sklearn.model_selection import train_test_split\n",
    "from sklearn.metrics import confusion_matrix, f1_score, classification_report"
   ]
  },
  {
   "cell_type": "code",
   "execution_count": 5,
   "id": "0c89fa2b-be83-4377-8aef-b3a1bbed734d",
   "metadata": {},
   "outputs": [],
   "source": [
    "customers = pd.read_excel('Dataset/Dataset.xlsx',\n",
    "                          sheet_name=0,\n",
    "                          header=0,\n",
    "                          index_col=False,\n",
    "                          keep_default_na=True)"
   ]
  },
  {
   "cell_type": "code",
   "execution_count": 6,
   "id": "860e491e-f385-44ee-a4a5-cbea098f1762",
   "metadata": {},
   "outputs": [],
   "source": [
    "df_raw = customers.copy()"
   ]
  },
  {
   "cell_type": "code",
   "execution_count": 7,
   "id": "4a04427d-51ec-4744-a4b2-13f8c4f41cf4",
   "metadata": {},
   "outputs": [],
   "source": [
    "df_test = pd.read_csv('Dataset/TestData.csv')"
   ]
  },
  {
   "cell_type": "code",
   "execution_count": 8,
   "id": "52c55e66-2adb-4d2c-840b-0ee01ce83195",
   "metadata": {},
   "outputs": [],
   "source": [
    "df_test.drop('FraudFound_P', inplace=True, axis=1)"
   ]
  },
  {
   "cell_type": "code",
   "execution_count": 9,
   "id": "3f70e53f-6bdf-4e3e-bfd8-be818ba7fc58",
   "metadata": {},
   "outputs": [],
   "source": [
    "def plot_2d_space(X, y, label='Classes'):   \n",
    "    colors = ['#1F77B4', '#FF7F0E']\n",
    "    markers = ['o', 's']\n",
    "    X=X.values\n",
    "    for l, c, m in zip(np.unique(y), colors, markers):\n",
    "        plt.scatter(\n",
    "            X[y==l, 0],\n",
    "            X[y==l, 1],\n",
    "            c=c,\n",
    "            label=l,\n",
    "            marker=m)\n",
    "        \n",
    "    plt.title(label)\n",
    "    plt.legend(loc='upper right')\n",
    "    plt.show()"
   ]
  },
  {
   "cell_type": "code",
   "execution_count": 10,
   "id": "0276f665-1a49-4ac4-9058-275b58804bba",
   "metadata": {},
   "outputs": [],
   "source": [
    "def display_all(df):\n",
    "    with pd.option_context(\"display.max_rows\", 1000): \n",
    "        with pd.option_context(\"display.max_columns\", 50): \n",
    "            display(df)"
   ]
  },
  {
   "cell_type": "code",
   "execution_count": 12,
   "id": "95dea2b9-a370-427d-8727-5e4228bea75f",
   "metadata": {},
   "outputs": [
    {
     "data": {
      "text/html": [
       "<div>\n",
       "<style scoped>\n",
       "    .dataframe tbody tr th:only-of-type {\n",
       "        vertical-align: middle;\n",
       "    }\n",
       "\n",
       "    .dataframe tbody tr th {\n",
       "        vertical-align: top;\n",
       "    }\n",
       "\n",
       "    .dataframe thead th {\n",
       "        text-align: right;\n",
       "    }\n",
       "</style>\n",
       "<table border=\"1\" class=\"dataframe\">\n",
       "  <thead>\n",
       "    <tr style=\"text-align: right;\">\n",
       "      <th></th>\n",
       "      <th>Month</th>\n",
       "      <th>WeekOfMonth</th>\n",
       "      <th>DayOfWeek</th>\n",
       "      <th>Make</th>\n",
       "      <th>AccidentArea</th>\n",
       "      <th>DayOfWeekClaimed</th>\n",
       "      <th>MonthClaimed</th>\n",
       "      <th>WeekOfMonthClaimed</th>\n",
       "      <th>Sex</th>\n",
       "      <th>MaritalStatus</th>\n",
       "      <th>Age</th>\n",
       "      <th>Fault</th>\n",
       "      <th>PolicyType</th>\n",
       "      <th>VehicleCategory</th>\n",
       "      <th>VehiclePrice</th>\n",
       "      <th>FraudFound_P</th>\n",
       "      <th>PolicyNumber</th>\n",
       "      <th>RepNumber</th>\n",
       "      <th>Deductible</th>\n",
       "      <th>DriverRating</th>\n",
       "      <th>Days_Policy_Accident</th>\n",
       "      <th>Days_Policy_Claim</th>\n",
       "      <th>PastNumberOfClaims</th>\n",
       "      <th>AgeOfVehicle</th>\n",
       "      <th>AgeOfPolicyHolder</th>\n",
       "      <th>PoliceReportFiled</th>\n",
       "      <th>WitnessPresent</th>\n",
       "      <th>AgentType</th>\n",
       "      <th>NumberOfSuppliments</th>\n",
       "      <th>AddressChange_Claim</th>\n",
       "      <th>NumberOfCars</th>\n",
       "      <th>Year</th>\n",
       "      <th>BasePolicy</th>\n",
       "      <th>ClaimSize</th>\n",
       "    </tr>\n",
       "  </thead>\n",
       "  <tbody>\n",
       "    <tr>\n",
       "      <th>0</th>\n",
       "      <td>Dec</td>\n",
       "      <td>5</td>\n",
       "      <td>Wednesday</td>\n",
       "      <td>Honda</td>\n",
       "      <td>Urban</td>\n",
       "      <td>Tuesday</td>\n",
       "      <td>Jan</td>\n",
       "      <td>1</td>\n",
       "      <td>Female</td>\n",
       "      <td>Single</td>\n",
       "      <td>21.0</td>\n",
       "      <td>Policy Holder</td>\n",
       "      <td>Sport - Liability</td>\n",
       "      <td>Sport</td>\n",
       "      <td>more than 69000</td>\n",
       "      <td>0</td>\n",
       "      <td>1</td>\n",
       "      <td>12</td>\n",
       "      <td>300</td>\n",
       "      <td>1.0</td>\n",
       "      <td>more than 30</td>\n",
       "      <td>more than 30</td>\n",
       "      <td>none</td>\n",
       "      <td>3 years</td>\n",
       "      <td>26 to 30</td>\n",
       "      <td>No</td>\n",
       "      <td>No</td>\n",
       "      <td>External</td>\n",
       "      <td>none</td>\n",
       "      <td>1 year</td>\n",
       "      <td>3 to 4</td>\n",
       "      <td>1994</td>\n",
       "      <td>Liability</td>\n",
       "      <td>55526.069421</td>\n",
       "    </tr>\n",
       "    <tr>\n",
       "      <th>1</th>\n",
       "      <td>Jan</td>\n",
       "      <td>3</td>\n",
       "      <td>Wednesday</td>\n",
       "      <td>Honda</td>\n",
       "      <td>Urban</td>\n",
       "      <td>Monday</td>\n",
       "      <td>Jan</td>\n",
       "      <td>4</td>\n",
       "      <td>Male</td>\n",
       "      <td>Single</td>\n",
       "      <td>34.0</td>\n",
       "      <td>Policy Holder</td>\n",
       "      <td>Sport - Collision</td>\n",
       "      <td>Sport</td>\n",
       "      <td>more than 69000</td>\n",
       "      <td>0</td>\n",
       "      <td>2</td>\n",
       "      <td>15</td>\n",
       "      <td>400</td>\n",
       "      <td>4.0</td>\n",
       "      <td>more than 30</td>\n",
       "      <td>more than 30</td>\n",
       "      <td>none</td>\n",
       "      <td>6 years</td>\n",
       "      <td>31 to 35</td>\n",
       "      <td>Yes</td>\n",
       "      <td>No</td>\n",
       "      <td>External</td>\n",
       "      <td>none</td>\n",
       "      <td>no change</td>\n",
       "      <td>1 vehicle</td>\n",
       "      <td>1994</td>\n",
       "      <td>Collision</td>\n",
       "      <td>59294.455571</td>\n",
       "    </tr>\n",
       "    <tr>\n",
       "      <th>2</th>\n",
       "      <td>Oct</td>\n",
       "      <td>5</td>\n",
       "      <td>Friday</td>\n",
       "      <td>Honda</td>\n",
       "      <td>Urban</td>\n",
       "      <td>Thursday</td>\n",
       "      <td>Nov</td>\n",
       "      <td>2</td>\n",
       "      <td>Male</td>\n",
       "      <td>Married</td>\n",
       "      <td>47.0</td>\n",
       "      <td>Policy Holder</td>\n",
       "      <td>Sport - Collision</td>\n",
       "      <td>Sport</td>\n",
       "      <td>more than 69000</td>\n",
       "      <td>0</td>\n",
       "      <td>3</td>\n",
       "      <td>7</td>\n",
       "      <td>400</td>\n",
       "      <td>3.0</td>\n",
       "      <td>more than 30</td>\n",
       "      <td>more than 30</td>\n",
       "      <td>1</td>\n",
       "      <td>7 years</td>\n",
       "      <td>41 to 50</td>\n",
       "      <td>No</td>\n",
       "      <td>No</td>\n",
       "      <td>External</td>\n",
       "      <td>none</td>\n",
       "      <td>no change</td>\n",
       "      <td>1 vehicle</td>\n",
       "      <td>1994</td>\n",
       "      <td>Collision</td>\n",
       "      <td>71756.941320</td>\n",
       "    </tr>\n",
       "    <tr>\n",
       "      <th>3</th>\n",
       "      <td>Jun</td>\n",
       "      <td>2</td>\n",
       "      <td>Saturday</td>\n",
       "      <td>Toyota</td>\n",
       "      <td>Rural</td>\n",
       "      <td>Friday</td>\n",
       "      <td>Jul</td>\n",
       "      <td>1</td>\n",
       "      <td>Male</td>\n",
       "      <td>Married</td>\n",
       "      <td>65.0</td>\n",
       "      <td>Third Party</td>\n",
       "      <td>Sedan - Liability</td>\n",
       "      <td>Sport</td>\n",
       "      <td>20000 to 29000</td>\n",
       "      <td>0</td>\n",
       "      <td>4</td>\n",
       "      <td>4</td>\n",
       "      <td>400</td>\n",
       "      <td>2.0</td>\n",
       "      <td>more than 30</td>\n",
       "      <td>more than 30</td>\n",
       "      <td>1</td>\n",
       "      <td>more than 7</td>\n",
       "      <td>51 to 65</td>\n",
       "      <td>Yes</td>\n",
       "      <td>No</td>\n",
       "      <td>External</td>\n",
       "      <td>more than 5</td>\n",
       "      <td>no change</td>\n",
       "      <td>1 vehicle</td>\n",
       "      <td>1994</td>\n",
       "      <td>Liability</td>\n",
       "      <td>7584.153493</td>\n",
       "    </tr>\n",
       "    <tr>\n",
       "      <th>4</th>\n",
       "      <td>Feb</td>\n",
       "      <td>1</td>\n",
       "      <td>Saturday</td>\n",
       "      <td>Honda</td>\n",
       "      <td>Urban</td>\n",
       "      <td>Monday</td>\n",
       "      <td>Feb</td>\n",
       "      <td>3</td>\n",
       "      <td>Male</td>\n",
       "      <td>Married</td>\n",
       "      <td>36.0</td>\n",
       "      <td>Third Party</td>\n",
       "      <td>Sport - Collision</td>\n",
       "      <td>Sport</td>\n",
       "      <td>more than 69000</td>\n",
       "      <td>0</td>\n",
       "      <td>7</td>\n",
       "      <td>14</td>\n",
       "      <td>400</td>\n",
       "      <td>1.0</td>\n",
       "      <td>more than 30</td>\n",
       "      <td>more than 30</td>\n",
       "      <td>1</td>\n",
       "      <td>7 years</td>\n",
       "      <td>36 to 40</td>\n",
       "      <td>No</td>\n",
       "      <td>No</td>\n",
       "      <td>External</td>\n",
       "      <td>1 to 2</td>\n",
       "      <td>no change</td>\n",
       "      <td>1 vehicle</td>\n",
       "      <td>1994</td>\n",
       "      <td>Collision</td>\n",
       "      <td>98545.374339</td>\n",
       "    </tr>\n",
       "  </tbody>\n",
       "</table>\n",
       "</div>"
      ],
      "text/plain": [
       "  Month  WeekOfMonth  DayOfWeek    Make AccidentArea DayOfWeekClaimed  \\\n",
       "0   Dec            5  Wednesday   Honda        Urban          Tuesday   \n",
       "1   Jan            3  Wednesday   Honda        Urban           Monday   \n",
       "2   Oct            5     Friday   Honda        Urban         Thursday   \n",
       "3   Jun            2   Saturday  Toyota        Rural           Friday   \n",
       "4   Feb            1   Saturday   Honda        Urban           Monday   \n",
       "\n",
       "  MonthClaimed  WeekOfMonthClaimed     Sex MaritalStatus   Age          Fault  \\\n",
       "0          Jan                   1  Female        Single  21.0  Policy Holder   \n",
       "1          Jan                   4    Male        Single  34.0  Policy Holder   \n",
       "2          Nov                   2    Male       Married  47.0  Policy Holder   \n",
       "3          Jul                   1    Male       Married  65.0    Third Party   \n",
       "4          Feb                   3    Male       Married  36.0    Third Party   \n",
       "\n",
       "          PolicyType VehicleCategory     VehiclePrice  FraudFound_P  \\\n",
       "0  Sport - Liability           Sport  more than 69000             0   \n",
       "1  Sport - Collision           Sport  more than 69000             0   \n",
       "2  Sport - Collision           Sport  more than 69000             0   \n",
       "3  Sedan - Liability           Sport   20000 to 29000             0   \n",
       "4  Sport - Collision           Sport  more than 69000             0   \n",
       "\n",
       "   PolicyNumber  RepNumber  Deductible  DriverRating Days_Policy_Accident  \\\n",
       "0             1         12         300           1.0         more than 30   \n",
       "1             2         15         400           4.0         more than 30   \n",
       "2             3          7         400           3.0         more than 30   \n",
       "3             4          4         400           2.0         more than 30   \n",
       "4             7         14         400           1.0         more than 30   \n",
       "\n",
       "  Days_Policy_Claim PastNumberOfClaims AgeOfVehicle AgeOfPolicyHolder  \\\n",
       "0      more than 30               none      3 years          26 to 30   \n",
       "1      more than 30               none      6 years          31 to 35   \n",
       "2      more than 30                  1      7 years          41 to 50   \n",
       "3      more than 30                  1  more than 7          51 to 65   \n",
       "4      more than 30                  1      7 years          36 to 40   \n",
       "\n",
       "  PoliceReportFiled WitnessPresent AgentType NumberOfSuppliments  \\\n",
       "0                No             No  External                none   \n",
       "1               Yes             No  External                none   \n",
       "2                No             No  External                none   \n",
       "3               Yes             No  External         more than 5   \n",
       "4                No             No  External              1 to 2   \n",
       "\n",
       "  AddressChange_Claim NumberOfCars  Year BasePolicy     ClaimSize  \n",
       "0              1 year       3 to 4  1994  Liability  55526.069421  \n",
       "1           no change    1 vehicle  1994  Collision  59294.455571  \n",
       "2           no change    1 vehicle  1994  Collision  71756.941320  \n",
       "3           no change    1 vehicle  1994  Liability   7584.153493  \n",
       "4           no change    1 vehicle  1994  Collision  98545.374339  "
      ]
     },
     "metadata": {},
     "output_type": "display_data"
    }
   ],
   "source": [
    "display_all(customers.head())"
   ]
  },
  {
   "cell_type": "code",
   "execution_count": 13,
   "id": "4476a95c-6c57-42ff-8869-af624447184f",
   "metadata": {},
   "outputs": [],
   "source": [
    "train_cats(df_raw)"
   ]
  },
  {
   "cell_type": "code",
   "execution_count": 14,
   "id": "49eb5217-8506-4aad-b7df-3f43cab8c95d",
   "metadata": {},
   "outputs": [],
   "source": [
    "df_raw.Month.cat.set_categories(['Jan', 'Feb', 'Mar', 'Apr', 'May', 'Jun', 'Jul', 'Aug', 'Sep', 'Oct', 'Nov', 'Dec'],\n",
    "                                ordered=True,\n",
    "                                inplace=True)"
   ]
  },
  {
   "cell_type": "code",
   "execution_count": 15,
   "id": "9cb9025c-6ea1-48d9-805e-71805cd6b288",
   "metadata": {},
   "outputs": [],
   "source": [
    "df_raw.DayOfWeek.cat.set_categories(['Monday', 'Tuesday','Wednesday', 'Thursday', 'Friday', 'Saturday', 'Sunday'],\n",
    "                                    ordered=True,\n",
    "                                    inplace=True)"
   ]
  },
  {
   "cell_type": "code",
   "execution_count": 16,
   "id": "fdcf3929-fdd1-42de-b7fa-7c6891c7db14",
   "metadata": {},
   "outputs": [],
   "source": [
    "df_raw.DayOfWeekClaimed.cat.set_categories(['Monday', 'Tuesday','Wednesday', 'Thursday', 'Friday', 'Saturday', 'Sunday'],\n",
    "                                           ordered=True,\n",
    "                                           inplace=True)"
   ]
  },
  {
   "cell_type": "code",
   "execution_count": 17,
   "id": "e4d5f3a4-3b85-45d0-b8b7-b423b71e1add",
   "metadata": {},
   "outputs": [],
   "source": [
    "df_raw.MonthClaimed.cat.set_categories(['Jan', 'Feb', 'Mar', 'Apr', 'May', 'Jun', 'Jul', 'Aug', 'Sep', 'Oct', 'Nov', 'Dec'],\n",
    "                                       ordered=True,\n",
    "                                       inplace=True)"
   ]
  },
  {
   "cell_type": "code",
   "execution_count": 18,
   "id": "5f87a4db-e55b-4b09-92e5-ceb4b4401ecb",
   "metadata": {},
   "outputs": [],
   "source": [
    "apply_cats(df=df_test, trn=df_raw)"
   ]
  },
  {
   "cell_type": "code",
   "execution_count": 19,
   "id": "749c0ef8-2fb4-4798-8cb6-eca7da3aefe3",
   "metadata": {},
   "outputs": [],
   "source": [
    "df, y, nas = proc_df(df_raw, 'FraudFound_P')\n",
    "X_test, _, nas = proc_df(df_test, na_dict=nas)\n",
    "df, y, nas = proc_df(df_raw, 'FraudFound_P', na_dict=nas)"
   ]
  },
  {
   "cell_type": "code",
   "execution_count": 20,
   "id": "87aa8b1b-cf84-4bc4-868b-d643f9bc95d7",
   "metadata": {},
   "outputs": [
    {
     "data": {
      "text/html": [
       "<div>\n",
       "<style scoped>\n",
       "    .dataframe tbody tr th:only-of-type {\n",
       "        vertical-align: middle;\n",
       "    }\n",
       "\n",
       "    .dataframe tbody tr th {\n",
       "        vertical-align: top;\n",
       "    }\n",
       "\n",
       "    .dataframe thead th {\n",
       "        text-align: right;\n",
       "    }\n",
       "</style>\n",
       "<table border=\"1\" class=\"dataframe\">\n",
       "  <thead>\n",
       "    <tr style=\"text-align: right;\">\n",
       "      <th></th>\n",
       "      <th>Month</th>\n",
       "      <th>WeekOfMonth</th>\n",
       "      <th>DayOfWeek</th>\n",
       "      <th>Make</th>\n",
       "      <th>AccidentArea</th>\n",
       "      <th>DayOfWeekClaimed</th>\n",
       "      <th>MonthClaimed</th>\n",
       "      <th>WeekOfMonthClaimed</th>\n",
       "      <th>Sex</th>\n",
       "      <th>MaritalStatus</th>\n",
       "      <th>Age</th>\n",
       "      <th>Fault</th>\n",
       "      <th>PolicyType</th>\n",
       "      <th>VehicleCategory</th>\n",
       "      <th>VehiclePrice</th>\n",
       "      <th>PolicyNumber</th>\n",
       "      <th>RepNumber</th>\n",
       "      <th>Deductible</th>\n",
       "      <th>DriverRating</th>\n",
       "      <th>Days_Policy_Accident</th>\n",
       "      <th>Days_Policy_Claim</th>\n",
       "      <th>PastNumberOfClaims</th>\n",
       "      <th>AgeOfVehicle</th>\n",
       "      <th>AgeOfPolicyHolder</th>\n",
       "      <th>PoliceReportFiled</th>\n",
       "      <th>WitnessPresent</th>\n",
       "      <th>AgentType</th>\n",
       "      <th>NumberOfSuppliments</th>\n",
       "      <th>AddressChange_Claim</th>\n",
       "      <th>NumberOfCars</th>\n",
       "      <th>Year</th>\n",
       "      <th>BasePolicy</th>\n",
       "      <th>ClaimSize</th>\n",
       "      <th>Age_na</th>\n",
       "      <th>DriverRating_na</th>\n",
       "    </tr>\n",
       "  </thead>\n",
       "  <tbody>\n",
       "    <tr>\n",
       "      <th>0</th>\n",
       "      <td>12</td>\n",
       "      <td>5</td>\n",
       "      <td>3</td>\n",
       "      <td>7</td>\n",
       "      <td>2</td>\n",
       "      <td>2</td>\n",
       "      <td>1</td>\n",
       "      <td>1</td>\n",
       "      <td>1</td>\n",
       "      <td>3</td>\n",
       "      <td>21.0</td>\n",
       "      <td>1</td>\n",
       "      <td>6</td>\n",
       "      <td>2</td>\n",
       "      <td>6</td>\n",
       "      <td>1</td>\n",
       "      <td>12</td>\n",
       "      <td>300</td>\n",
       "      <td>1.0</td>\n",
       "      <td>4</td>\n",
       "      <td>3</td>\n",
       "      <td>4</td>\n",
       "      <td>2</td>\n",
       "      <td>4</td>\n",
       "      <td>1</td>\n",
       "      <td>1</td>\n",
       "      <td>1</td>\n",
       "      <td>4</td>\n",
       "      <td>1</td>\n",
       "      <td>3</td>\n",
       "      <td>1994</td>\n",
       "      <td>3</td>\n",
       "      <td>55526.069421</td>\n",
       "      <td>False</td>\n",
       "      <td>False</td>\n",
       "    </tr>\n",
       "    <tr>\n",
       "      <th>1</th>\n",
       "      <td>1</td>\n",
       "      <td>3</td>\n",
       "      <td>3</td>\n",
       "      <td>7</td>\n",
       "      <td>2</td>\n",
       "      <td>1</td>\n",
       "      <td>1</td>\n",
       "      <td>4</td>\n",
       "      <td>2</td>\n",
       "      <td>3</td>\n",
       "      <td>34.0</td>\n",
       "      <td>1</td>\n",
       "      <td>5</td>\n",
       "      <td>2</td>\n",
       "      <td>6</td>\n",
       "      <td>2</td>\n",
       "      <td>15</td>\n",
       "      <td>400</td>\n",
       "      <td>4.0</td>\n",
       "      <td>4</td>\n",
       "      <td>3</td>\n",
       "      <td>4</td>\n",
       "      <td>5</td>\n",
       "      <td>5</td>\n",
       "      <td>2</td>\n",
       "      <td>1</td>\n",
       "      <td>1</td>\n",
       "      <td>4</td>\n",
       "      <td>4</td>\n",
       "      <td>1</td>\n",
       "      <td>1994</td>\n",
       "      <td>2</td>\n",
       "      <td>59294.455571</td>\n",
       "      <td>False</td>\n",
       "      <td>False</td>\n",
       "    </tr>\n",
       "    <tr>\n",
       "      <th>2</th>\n",
       "      <td>10</td>\n",
       "      <td>5</td>\n",
       "      <td>5</td>\n",
       "      <td>7</td>\n",
       "      <td>2</td>\n",
       "      <td>4</td>\n",
       "      <td>11</td>\n",
       "      <td>2</td>\n",
       "      <td>2</td>\n",
       "      <td>2</td>\n",
       "      <td>47.0</td>\n",
       "      <td>1</td>\n",
       "      <td>5</td>\n",
       "      <td>2</td>\n",
       "      <td>6</td>\n",
       "      <td>3</td>\n",
       "      <td>7</td>\n",
       "      <td>400</td>\n",
       "      <td>3.0</td>\n",
       "      <td>4</td>\n",
       "      <td>3</td>\n",
       "      <td>1</td>\n",
       "      <td>6</td>\n",
       "      <td>7</td>\n",
       "      <td>1</td>\n",
       "      <td>1</td>\n",
       "      <td>1</td>\n",
       "      <td>4</td>\n",
       "      <td>4</td>\n",
       "      <td>1</td>\n",
       "      <td>1994</td>\n",
       "      <td>2</td>\n",
       "      <td>71756.941320</td>\n",
       "      <td>False</td>\n",
       "      <td>False</td>\n",
       "    </tr>\n",
       "    <tr>\n",
       "      <th>3</th>\n",
       "      <td>6</td>\n",
       "      <td>2</td>\n",
       "      <td>6</td>\n",
       "      <td>18</td>\n",
       "      <td>1</td>\n",
       "      <td>5</td>\n",
       "      <td>7</td>\n",
       "      <td>1</td>\n",
       "      <td>2</td>\n",
       "      <td>2</td>\n",
       "      <td>65.0</td>\n",
       "      <td>2</td>\n",
       "      <td>3</td>\n",
       "      <td>2</td>\n",
       "      <td>1</td>\n",
       "      <td>4</td>\n",
       "      <td>4</td>\n",
       "      <td>400</td>\n",
       "      <td>2.0</td>\n",
       "      <td>4</td>\n",
       "      <td>3</td>\n",
       "      <td>1</td>\n",
       "      <td>7</td>\n",
       "      <td>8</td>\n",
       "      <td>2</td>\n",
       "      <td>1</td>\n",
       "      <td>1</td>\n",
       "      <td>3</td>\n",
       "      <td>4</td>\n",
       "      <td>1</td>\n",
       "      <td>1994</td>\n",
       "      <td>3</td>\n",
       "      <td>7584.153493</td>\n",
       "      <td>False</td>\n",
       "      <td>False</td>\n",
       "    </tr>\n",
       "    <tr>\n",
       "      <th>4</th>\n",
       "      <td>2</td>\n",
       "      <td>1</td>\n",
       "      <td>6</td>\n",
       "      <td>7</td>\n",
       "      <td>2</td>\n",
       "      <td>1</td>\n",
       "      <td>2</td>\n",
       "      <td>3</td>\n",
       "      <td>2</td>\n",
       "      <td>2</td>\n",
       "      <td>36.0</td>\n",
       "      <td>2</td>\n",
       "      <td>5</td>\n",
       "      <td>2</td>\n",
       "      <td>6</td>\n",
       "      <td>7</td>\n",
       "      <td>14</td>\n",
       "      <td>400</td>\n",
       "      <td>1.0</td>\n",
       "      <td>4</td>\n",
       "      <td>3</td>\n",
       "      <td>1</td>\n",
       "      <td>6</td>\n",
       "      <td>6</td>\n",
       "      <td>1</td>\n",
       "      <td>1</td>\n",
       "      <td>1</td>\n",
       "      <td>1</td>\n",
       "      <td>4</td>\n",
       "      <td>1</td>\n",
       "      <td>1994</td>\n",
       "      <td>2</td>\n",
       "      <td>98545.374339</td>\n",
       "      <td>False</td>\n",
       "      <td>False</td>\n",
       "    </tr>\n",
       "  </tbody>\n",
       "</table>\n",
       "</div>"
      ],
      "text/plain": [
       "   Month  WeekOfMonth  DayOfWeek  Make  AccidentArea  DayOfWeekClaimed  \\\n",
       "0     12            5          3     7             2                 2   \n",
       "1      1            3          3     7             2                 1   \n",
       "2     10            5          5     7             2                 4   \n",
       "3      6            2          6    18             1                 5   \n",
       "4      2            1          6     7             2                 1   \n",
       "\n",
       "   MonthClaimed  WeekOfMonthClaimed  Sex  MaritalStatus   Age  Fault  \\\n",
       "0             1                   1    1              3  21.0      1   \n",
       "1             1                   4    2              3  34.0      1   \n",
       "2            11                   2    2              2  47.0      1   \n",
       "3             7                   1    2              2  65.0      2   \n",
       "4             2                   3    2              2  36.0      2   \n",
       "\n",
       "   PolicyType  VehicleCategory  VehiclePrice  PolicyNumber  RepNumber  \\\n",
       "0           6                2             6             1         12   \n",
       "1           5                2             6             2         15   \n",
       "2           5                2             6             3          7   \n",
       "3           3                2             1             4          4   \n",
       "4           5                2             6             7         14   \n",
       "\n",
       "   Deductible  DriverRating  Days_Policy_Accident  Days_Policy_Claim  \\\n",
       "0         300           1.0                     4                  3   \n",
       "1         400           4.0                     4                  3   \n",
       "2         400           3.0                     4                  3   \n",
       "3         400           2.0                     4                  3   \n",
       "4         400           1.0                     4                  3   \n",
       "\n",
       "   PastNumberOfClaims  AgeOfVehicle  AgeOfPolicyHolder  PoliceReportFiled  \\\n",
       "0                   4             2                  4                  1   \n",
       "1                   4             5                  5                  2   \n",
       "2                   1             6                  7                  1   \n",
       "3                   1             7                  8                  2   \n",
       "4                   1             6                  6                  1   \n",
       "\n",
       "   WitnessPresent  AgentType  NumberOfSuppliments  AddressChange_Claim  \\\n",
       "0               1          1                    4                    1   \n",
       "1               1          1                    4                    4   \n",
       "2               1          1                    4                    4   \n",
       "3               1          1                    3                    4   \n",
       "4               1          1                    1                    4   \n",
       "\n",
       "   NumberOfCars  Year  BasePolicy     ClaimSize  Age_na  DriverRating_na  \n",
       "0             3  1994           3  55526.069421   False            False  \n",
       "1             1  1994           2  59294.455571   False            False  \n",
       "2             1  1994           2  71756.941320   False            False  \n",
       "3             1  1994           3   7584.153493   False            False  \n",
       "4             1  1994           2  98545.374339   False            False  "
      ]
     },
     "metadata": {},
     "output_type": "display_data"
    }
   ],
   "source": [
    "display_all(df.head())"
   ]
  },
  {
   "cell_type": "code",
   "execution_count": 21,
   "id": "c4ad21ec-23ea-475d-be8b-dde413c19ddc",
   "metadata": {},
   "outputs": [],
   "source": [
    "def error(x, y):\n",
    "    print(confusion_matrix(x, y))\n",
    "    print(f1_score(x, y))\n",
    "    print(classification_report(x, y))\n",
    "    \n",
    "def print_score(m):\n",
    "    result = [error(m.predict(X_train), y_train),\n",
    "              error(m.predict(X_valid), y_valid),\n",
    "              m.score(X_train, y_train),\n",
    "              m.score(X_valid, y_valid)]\n",
    "    if hasattr(m, 'oob_score_'): result.append(m.oob_score_)"
   ]
  },
  {
   "cell_type": "code",
   "execution_count": 87,
   "id": "2adc5495-9705-4c99-98fa-900bf818fddd",
   "metadata": {},
   "outputs": [],
   "source": [
    "X_train, X_valid, y_train, y_valid = train_test_split(df, y, random_state=0, test_size=0.15)"
   ]
  },
  {
   "cell_type": "code",
   "execution_count": 24,
   "id": "0ded3b07-c13c-4725-ab23-b0ba8eeeb6f5",
   "metadata": {},
   "outputs": [
    {
     "data": {
      "text/plain": [
       "((9830, 35), (1735, 35))"
      ]
     },
     "execution_count": 24,
     "metadata": {},
     "output_type": "execute_result"
    }
   ],
   "source": [
    "X_train.shape, X_valid.shape"
   ]
  },
  {
   "cell_type": "code",
   "execution_count": 25,
   "id": "55193ef0-39a1-4fb3-8e5a-06a9587aaafd",
   "metadata": {},
   "outputs": [
    {
     "name": "stdout",
     "output_type": "stream",
     "text": [
      "[[9215  120]\n",
      " [  24  471]]\n",
      "0.8674033149171271\n",
      "              precision    recall  f1-score   support\n",
      "\n",
      "           0       1.00      0.99      0.99      9335\n",
      "           1       0.80      0.95      0.87       495\n",
      "\n",
      "    accuracy                           0.99      9830\n",
      "   macro avg       0.90      0.97      0.93      9830\n",
      "weighted avg       0.99      0.99      0.99      9830\n",
      "\n",
      "[[1599   74]\n",
      " [  42   20]]\n",
      "0.2564102564102564\n",
      "              precision    recall  f1-score   support\n",
      "\n",
      "           0       0.97      0.96      0.96      1673\n",
      "           1       0.21      0.32      0.26        62\n",
      "\n",
      "    accuracy                           0.93      1735\n",
      "   macro avg       0.59      0.64      0.61      1735\n",
      "weighted avg       0.95      0.93      0.94      1735\n",
      "\n"
     ]
    }
   ],
   "source": [
    "m = RandomForestClassifier(n_estimators=3, n_jobs=-1, max_features=0.5)\n",
    "\n",
    "m.fit(X_train, y_train)\n",
    "\n",
    "print_score(m)"
   ]
  },
  {
   "cell_type": "code",
   "execution_count": 26,
   "id": "cb49d0af-f84c-4f33-bbdf-e515e4ea7eb6",
   "metadata": {},
   "outputs": [
    {
     "data": {
      "text/html": [
       "<div>\n",
       "<style scoped>\n",
       "    .dataframe tbody tr th:only-of-type {\n",
       "        vertical-align: middle;\n",
       "    }\n",
       "\n",
       "    .dataframe tbody tr th {\n",
       "        vertical-align: top;\n",
       "    }\n",
       "\n",
       "    .dataframe thead th {\n",
       "        text-align: right;\n",
       "    }\n",
       "</style>\n",
       "<table border=\"1\" class=\"dataframe\">\n",
       "  <thead>\n",
       "    <tr style=\"text-align: right;\">\n",
       "      <th></th>\n",
       "      <th>cols</th>\n",
       "      <th>imp</th>\n",
       "    </tr>\n",
       "  </thead>\n",
       "  <tbody>\n",
       "    <tr>\n",
       "      <th>15</th>\n",
       "      <td>PolicyNumber</td>\n",
       "      <td>0.135051</td>\n",
       "    </tr>\n",
       "    <tr>\n",
       "      <th>32</th>\n",
       "      <td>ClaimSize</td>\n",
       "      <td>0.093159</td>\n",
       "    </tr>\n",
       "    <tr>\n",
       "      <th>10</th>\n",
       "      <td>Age</td>\n",
       "      <td>0.080743</td>\n",
       "    </tr>\n",
       "    <tr>\n",
       "      <th>0</th>\n",
       "      <td>Month</td>\n",
       "      <td>0.056027</td>\n",
       "    </tr>\n",
       "    <tr>\n",
       "      <th>6</th>\n",
       "      <td>MonthClaimed</td>\n",
       "      <td>0.055724</td>\n",
       "    </tr>\n",
       "    <tr>\n",
       "      <th>16</th>\n",
       "      <td>RepNumber</td>\n",
       "      <td>0.055416</td>\n",
       "    </tr>\n",
       "    <tr>\n",
       "      <th>1</th>\n",
       "      <td>WeekOfMonth</td>\n",
       "      <td>0.042617</td>\n",
       "    </tr>\n",
       "    <tr>\n",
       "      <th>31</th>\n",
       "      <td>BasePolicy</td>\n",
       "      <td>0.040348</td>\n",
       "    </tr>\n",
       "    <tr>\n",
       "      <th>5</th>\n",
       "      <td>DayOfWeekClaimed</td>\n",
       "      <td>0.039187</td>\n",
       "    </tr>\n",
       "    <tr>\n",
       "      <th>3</th>\n",
       "      <td>Make</td>\n",
       "      <td>0.038213</td>\n",
       "    </tr>\n",
       "  </tbody>\n",
       "</table>\n",
       "</div>"
      ],
      "text/plain": [
       "                cols       imp\n",
       "15      PolicyNumber  0.135051\n",
       "32         ClaimSize  0.093159\n",
       "10               Age  0.080743\n",
       "0              Month  0.056027\n",
       "6       MonthClaimed  0.055724\n",
       "16         RepNumber  0.055416\n",
       "1        WeekOfMonth  0.042617\n",
       "31        BasePolicy  0.040348\n",
       "5   DayOfWeekClaimed  0.039187\n",
       "3               Make  0.038213"
      ]
     },
     "execution_count": 26,
     "metadata": {},
     "output_type": "execute_result"
    }
   ],
   "source": [
    "fi = rf_feat_importance(m, df); fi[:10]"
   ]
  },
  {
   "cell_type": "code",
   "execution_count": 27,
   "id": "59d3a280-ed09-4c10-a589-9486002947b8",
   "metadata": {},
   "outputs": [
    {
     "data": {
      "image/png": "[encoded data removed]",
      "text/plain": [
       "<Figure size 864x504 with 1 Axes>"
      ]
     },
     "metadata": {
      "needs_background": "light"
     },
     "output_type": "display_data"
    }
   ],
   "source": [
    "def plot_fi(fi): \n",
    "    return fi.plot('cols', 'imp', 'barh', figsize=(12,7), legend=False)\n",
    "\n",
    "plot_fi(fi[:30]);"
   ]
  },
  {
   "cell_type": "code",
   "execution_count": 28,
   "id": "bca8c5fb-f451-48a9-a0cf-d67365778b9b",
   "metadata": {},
   "outputs": [
    {
     "name": "stdout",
     "output_type": "stream",
     "text": [
      "[[9204  117]\n",
      " [  35  474]]\n",
      "0.8618181818181817\n",
      "              precision    recall  f1-score   support\n",
      "\n",
      "           0       1.00      0.99      0.99      9321\n",
      "           1       0.80      0.93      0.86       509\n",
      "\n",
      "    accuracy                           0.98      9830\n",
      "   macro avg       0.90      0.96      0.93      9830\n",
      "weighted avg       0.99      0.98      0.99      9830\n",
      "\n",
      "[[1579   82]\n",
      " [  62   12]]\n",
      "0.14285714285714288\n",
      "              precision    recall  f1-score   support\n",
      "\n",
      "           0       0.96      0.95      0.96      1661\n",
      "           1       0.13      0.16      0.14        74\n",
      "\n",
      "    accuracy                           0.92      1735\n",
      "   macro avg       0.54      0.56      0.55      1735\n",
      "weighted avg       0.93      0.92      0.92      1735\n",
      "\n",
      "[None, None, 0.9845371312309258, 0.9170028818443804]\n"
     ]
    }
   ],
   "source": [
    "m = RandomForestClassifier(n_estimators=3, n_jobs=-1, max_features=0.5)\n",
    "\n",
    "m.fit(X_train.drop('PolicyNumber', axis=1), y_train)\n",
    "\n",
    "result = [error(m.predict(X_train.drop('PolicyNumber', axis=1)), y_train),\n",
    "          error(m.predict(X_valid.drop('PolicyNumber', axis=1)), y_valid),\n",
    "          m.score(X_train.drop('PolicyNumber', axis=1), y_train),\n",
    "          m.score(X_valid.drop('PolicyNumber', axis=1), y_valid)]\n",
    "\n",
    "print(result)"
   ]
  },
  {
   "cell_type": "code",
   "execution_count": 29,
   "id": "74b2e26f-e01c-49c0-8b1f-179eee250157",
   "metadata": {},
   "outputs": [
    {
     "data": {
      "image/png": "[encoded data removed]",
      "text/plain": [
       "<Figure size 864x504 with 1 Axes>"
      ]
     },
     "metadata": {
      "needs_background": "light"
     },
     "output_type": "display_data"
    }
   ],
   "source": [
    "fi = rf_feat_importance(m, df.drop('PolicyNumber', axis=1))\n",
    "plot_fi(fi[:30]);"
   ]
  },
  {
   "cell_type": "code",
   "execution_count": 30,
   "id": "2e9b509c-675e-45b4-9f0a-ab05424a3a46",
   "metadata": {},
   "outputs": [
    {
     "data": {
      "text/plain": [
       "RandomForestClassifier(max_depth=3, n_estimators=1, n_jobs=-1)"
      ]
     },
     "execution_count": 30,
     "metadata": {},
     "output_type": "execute_result"
    }
   ],
   "source": [
    "m = RandomForestClassifier(n_estimators=1, n_jobs=-1, max_depth=3)\n",
    "\n",
    "m.fit(X_train, y_train)"
   ]
  },
  {
   "cell_type": "code",
   "execution_count": 31,
   "id": "bdb181c8-a28d-4e8c-b7d6-1f099fc541fc",
   "metadata": {},
   "outputs": [
    {
     "data": {
      "image/svg+xml": [
       "<?xml version=\"1.0\" encoding=\"UTF-8\" standalone=\"no\"?>\n",
       "<!DOCTYPE svg PUBLIC \"-//W3C//DTD SVG 1.1//EN\"\n",
       " \"http://www.w3.org/Graphics/SVG/1.1/DTD/svg11.dtd\">\n",
       "<!-- Generated by graphviz version 2.40.1 (20161225.0304)\n",
       " -->\n",
       "<!-- Title: Tree Pages: 1 -->\n",
       "<svg width=\"720pt\" height=\"434pt\"\n",
       " viewBox=\"0.00 0.00 720.00 434.49\" xmlns=\"http://www.w3.org/2000/svg\" xmlns:xlink=\"http://www.w3.org/1999/xlink\">\n",
       "<g id=\"graph0\" class=\"graph\" transform=\"scale(.7787 .7787) rotate(0) translate(4 554)\">\n",
       "<title>Tree</title>\n",
       "<polygon fill=\"#ffffff\" stroke=\"transparent\" points=\"-4,4 -4,-554 920.6667,-554 920.6667,4 -4,4\"/>\n",
       "<!-- 0 -->\n",
       "<g id=\"node1\" class=\"node\">\n",
       "<title>0</title>\n",
       "<polygon fill=\"#e78945\" stroke=\"#000000\" points=\"170.6667,-336.5 26.6667,-336.5 26.6667,-268.5 170.6667,-268.5 170.6667,-336.5\"/>\n",
       "<text text-anchor=\"start\" x=\"34.6667\" y=\"-321.3\" font-family=\"Times,serif\" font-size=\"14.00\" fill=\"#000000\">VehicleCategory ≤ 1.5</text>\n",
       "<text text-anchor=\"start\" x=\"64.1667\" y=\"-306.3\" font-family=\"Times,serif\" font-size=\"14.00\" fill=\"#000000\">gini = 0.109</text>\n",
       "<text text-anchor=\"start\" x=\"54.1667\" y=\"-291.3\" font-family=\"Times,serif\" font-size=\"14.00\" fill=\"#000000\">samples = 6156</text>\n",
       "<text text-anchor=\"start\" x=\"43.1667\" y=\"-276.3\" font-family=\"Times,serif\" font-size=\"14.00\" fill=\"#000000\">value = [9262, 568]</text>\n",
       "</g>\n",
       "<!-- 1 -->\n",
       "<g id=\"node2\" class=\"node\">\n",
       "<title>1</title>\n",
       "<polygon fill=\"#e78b49\" stroke=\"#000000\" points=\"398.1667,-372.5 271.1667,-372.5 271.1667,-304.5 398.1667,-304.5 398.1667,-372.5\"/>\n",
       "<text text-anchor=\"start\" x=\"294.1667\" y=\"-357.3\" font-family=\"Times,serif\" font-size=\"14.00\" fill=\"#000000\">Year ≤ 1995.5</text>\n",
       "<text text-anchor=\"start\" x=\"300.1667\" y=\"-342.3\" font-family=\"Times,serif\" font-size=\"14.00\" fill=\"#000000\">gini = 0.141</text>\n",
       "<text text-anchor=\"start\" x=\"290.1667\" y=\"-327.3\" font-family=\"Times,serif\" font-size=\"14.00\" fill=\"#000000\">samples = 3886</text>\n",
       "<text text-anchor=\"start\" x=\"279.1667\" y=\"-312.3\" font-family=\"Times,serif\" font-size=\"14.00\" fill=\"#000000\">value = [5756, 474]</text>\n",
       "</g>\n",
       "<!-- 0&#45;&gt;1 -->\n",
       "<g id=\"edge1\" class=\"edge\">\n",
       "<title>0&#45;&gt;1</title>\n",
       "<path fill=\"none\" stroke=\"#000000\" d=\"M170.7568,-313.4968C199.3734,-317.862 232.2578,-322.8783 261.0254,-327.2666\"/>\n",
       "<polygon fill=\"#000000\" stroke=\"#000000\" points=\"260.602,-330.7424 271.0154,-328.7905 261.6576,-323.8225 260.602,-330.7424\"/>\n",
       "<text text-anchor=\"middle\" x=\"250.8742\" y=\"-339.9003\" font-family=\"Times,serif\" font-size=\"14.00\" fill=\"#000000\">True</text>\n",
       "</g>\n",
       "<!-- 8 -->\n",
       "<g id=\"node9\" class=\"node\">\n",
       "<title>8</title>\n",
       "<polygon fill=\"#e6843e\" stroke=\"#000000\" points=\"394.6667,-245.5 274.6667,-245.5 274.6667,-177.5 394.6667,-177.5 394.6667,-245.5\"/>\n",
       "<text text-anchor=\"start\" x=\"286.1667\" y=\"-230.3\" font-family=\"Times,serif\" font-size=\"14.00\" fill=\"#000000\">PolicyType ≤ 4.5</text>\n",
       "<text text-anchor=\"start\" x=\"300.1667\" y=\"-215.3\" font-family=\"Times,serif\" font-size=\"14.00\" fill=\"#000000\">gini = 0.051</text>\n",
       "<text text-anchor=\"start\" x=\"290.1667\" y=\"-200.3\" font-family=\"Times,serif\" font-size=\"14.00\" fill=\"#000000\">samples = 2270</text>\n",
       "<text text-anchor=\"start\" x=\"282.6667\" y=\"-185.3\" font-family=\"Times,serif\" font-size=\"14.00\" fill=\"#000000\">value = [3506, 94]</text>\n",
       "</g>\n",
       "<!-- 0&#45;&gt;8 -->\n",
       "<g id=\"edge8\" class=\"edge\">\n",
       "<title>0&#45;&gt;8</title>\n",
       "<path fill=\"none\" stroke=\"#000000\" d=\"M170.7568,-274.7025C200.7241,-263.1473 235.3717,-249.7875 265.0707,-238.3357\"/>\n",
       "<polygon fill=\"#000000\" stroke=\"#000000\" points=\"266.456,-241.5528 274.5272,-234.6894 263.9375,-235.0215 266.456,-241.5528\"/>\n",
       "<text text-anchor=\"middle\" x=\"251.6732\" y=\"-220.8554\" font-family=\"Times,serif\" font-size=\"14.00\" fill=\"#000000\">False</text>\n",
       "</g>\n",
       "<!-- 2 -->\n",
       "<g id=\"node3\" class=\"node\">\n",
       "<title>2</title>\n",
       "<polygon fill=\"#e78d4b\" stroke=\"#000000\" points=\"645.1667,-486.5 518.1667,-486.5 518.1667,-418.5 645.1667,-418.5 645.1667,-486.5\"/>\n",
       "<text text-anchor=\"start\" x=\"529.1667\" y=\"-471.3\" font-family=\"Times,serif\" font-size=\"14.00\" fill=\"#000000\">VehiclePrice ≤ 5.5</text>\n",
       "<text text-anchor=\"start\" x=\"547.1667\" y=\"-456.3\" font-family=\"Times,serif\" font-size=\"14.00\" fill=\"#000000\">gini = 0.155</text>\n",
       "<text text-anchor=\"start\" x=\"537.1667\" y=\"-441.3\" font-family=\"Times,serif\" font-size=\"14.00\" fill=\"#000000\">samples = 2838</text>\n",
       "<text text-anchor=\"start\" x=\"526.1667\" y=\"-426.3\" font-family=\"Times,serif\" font-size=\"14.00\" fill=\"#000000\">value = [4173, 386]</text>\n",
       "</g>\n",
       "<!-- 1&#45;&gt;2 -->\n",
       "<g id=\"edge2\" class=\"edge\">\n",
       "<title>1&#45;&gt;2</title>\n",
       "<path fill=\"none\" stroke=\"#000000\" d=\"M398.2753,-367.8578C431.997,-383.4217 473.5792,-402.6135 508.6183,-418.7854\"/>\n",
       "<polygon fill=\"#000000\" stroke=\"#000000\" points=\"507.2984,-422.031 517.8448,-423.0437 510.2319,-415.6752 507.2984,-422.031\"/>\n",
       "</g>\n",
       "<!-- 5 -->\n",
       "<g id=\"node6\" class=\"node\">\n",
       "<title>5</title>\n",
       "<polygon fill=\"#e68844\" stroke=\"#000000\" points=\"662.1667,-372.5 501.1667,-372.5 501.1667,-304.5 662.1667,-304.5 662.1667,-372.5\"/>\n",
       "<text text-anchor=\"start\" x=\"509.1667\" y=\"-357.3\" font-family=\"Times,serif\" font-size=\"14.00\" fill=\"#000000\">Days_Policy_Claim ≤ 2.5</text>\n",
       "<text text-anchor=\"start\" x=\"554.1667\" y=\"-342.3\" font-family=\"Times,serif\" font-size=\"14.00\" fill=\"#000000\">gini = 0.1</text>\n",
       "<text text-anchor=\"start\" x=\"537.1667\" y=\"-327.3\" font-family=\"Times,serif\" font-size=\"14.00\" fill=\"#000000\">samples = 1048</text>\n",
       "<text text-anchor=\"start\" x=\"529.6667\" y=\"-312.3\" font-family=\"Times,serif\" font-size=\"14.00\" fill=\"#000000\">value = [1583, 88]</text>\n",
       "</g>\n",
       "<!-- 1&#45;&gt;5 -->\n",
       "<g id=\"edge5\" class=\"edge\">\n",
       "<title>1&#45;&gt;5</title>\n",
       "<path fill=\"none\" stroke=\"#000000\" d=\"M398.2753,-338.5C426.3995,-338.5 459.9912,-338.5 490.6949,-338.5\"/>\n",
       "<polygon fill=\"#000000\" stroke=\"#000000\" points=\"490.9846,-342.0001 500.9846,-338.5 490.9846,-335.0001 490.9846,-342.0001\"/>\n",
       "</g>\n",
       "<!-- 3 -->\n",
       "<g id=\"node4\" class=\"node\">\n",
       "<title>3</title>\n",
       "<polygon fill=\"#e78c4a\" stroke=\"#000000\" points=\"893.1667,-550 766.1667,-550 766.1667,-497 893.1667,-497 893.1667,-550\"/>\n",
       "<text text-anchor=\"start\" x=\"795.1667\" y=\"-534.8\" font-family=\"Times,serif\" font-size=\"14.00\" fill=\"#000000\">gini = 0.146</text>\n",
       "<text text-anchor=\"start\" x=\"785.1667\" y=\"-519.8\" font-family=\"Times,serif\" font-size=\"14.00\" fill=\"#000000\">samples = 2567</text>\n",
       "<text text-anchor=\"start\" x=\"774.1667\" y=\"-504.8\" font-family=\"Times,serif\" font-size=\"14.00\" fill=\"#000000\">value = [3795, 326]</text>\n",
       "</g>\n",
       "<!-- 2&#45;&gt;3 -->\n",
       "<g id=\"edge3\" class=\"edge\">\n",
       "<title>2&#45;&gt;3</title>\n",
       "<path fill=\"none\" stroke=\"#000000\" d=\"M645.2108,-470.6921C679.0553,-480.3814 720.8552,-492.3483 756.1017,-502.4391\"/>\n",
       "<polygon fill=\"#000000\" stroke=\"#000000\" points=\"755.28,-505.8444 765.8571,-505.232 757.2067,-499.1147 755.28,-505.8444\"/>\n",
       "</g>\n",
       "<!-- 4 -->\n",
       "<g id=\"node5\" class=\"node\">\n",
       "<title>4</title>\n",
       "<polygon fill=\"#e99558\" stroke=\"#000000\" points=\"886.1667,-479 773.1667,-479 773.1667,-426 886.1667,-426 886.1667,-479\"/>\n",
       "<text text-anchor=\"start\" x=\"795.1667\" y=\"-463.8\" font-family=\"Times,serif\" font-size=\"14.00\" fill=\"#000000\">gini = 0.236</text>\n",
       "<text text-anchor=\"start\" x=\"788.6667\" y=\"-448.8\" font-family=\"Times,serif\" font-size=\"14.00\" fill=\"#000000\">samples = 271</text>\n",
       "<text text-anchor=\"start\" x=\"781.1667\" y=\"-433.8\" font-family=\"Times,serif\" font-size=\"14.00\" fill=\"#000000\">value = [378, 60]</text>\n",
       "</g>\n",
       "<!-- 2&#45;&gt;4 -->\n",
       "<g id=\"edge4\" class=\"edge\">\n",
       "<title>2&#45;&gt;4</title>\n",
       "<path fill=\"none\" stroke=\"#000000\" d=\"M645.2108,-452.5C681.2854,-452.5 726.3982,-452.5 762.9795,-452.5\"/>\n",
       "<polygon fill=\"#000000\" stroke=\"#000000\" points=\"763.0565,-456.0001 773.0564,-452.5 763.0564,-449.0001 763.0565,-456.0001\"/>\n",
       "</g>\n",
       "<!-- 6 -->\n",
       "<g id=\"node7\" class=\"node\">\n",
       "<title>6</title>\n",
       "<polygon fill=\"#e58139\" stroke=\"#000000\" points=\"879.1667,-408 780.1667,-408 780.1667,-355 879.1667,-355 879.1667,-408\"/>\n",
       "<text text-anchor=\"start\" x=\"802.1667\" y=\"-392.8\" font-family=\"Times,serif\" font-size=\"14.00\" fill=\"#000000\">gini = 0.0</text>\n",
       "<text text-anchor=\"start\" x=\"795.6667\" y=\"-377.8\" font-family=\"Times,serif\" font-size=\"14.00\" fill=\"#000000\">samples = 9</text>\n",
       "<text text-anchor=\"start\" x=\"788.1667\" y=\"-362.8\" font-family=\"Times,serif\" font-size=\"14.00\" fill=\"#000000\">value = [11, 0]</text>\n",
       "</g>\n",
       "<!-- 5&#45;&gt;6 -->\n",
       "<g id=\"edge6\" class=\"edge\">\n",
       "<title>5&#45;&gt;6</title>\n",
       "<path fill=\"none\" stroke=\"#000000\" d=\"M662.1852,-352.4609C697.1537,-358.524 737.4046,-365.5029 769.6819,-371.0994\"/>\n",
       "<polygon fill=\"#000000\" stroke=\"#000000\" points=\"769.4137,-374.6051 779.8646,-372.865 770.6096,-367.708 769.4137,-374.6051\"/>\n",
       "</g>\n",
       "<!-- 7 -->\n",
       "<g id=\"node8\" class=\"node\">\n",
       "<title>7</title>\n",
       "<polygon fill=\"#e68844\" stroke=\"#000000\" points=\"889.6667,-337 769.6667,-337 769.6667,-284 889.6667,-284 889.6667,-337\"/>\n",
       "<text text-anchor=\"start\" x=\"802.1667\" y=\"-321.8\" font-family=\"Times,serif\" font-size=\"14.00\" fill=\"#000000\">gini = 0.1</text>\n",
       "<text text-anchor=\"start\" x=\"785.1667\" y=\"-306.8\" font-family=\"Times,serif\" font-size=\"14.00\" fill=\"#000000\">samples = 1039</text>\n",
       "<text text-anchor=\"start\" x=\"777.6667\" y=\"-291.8\" font-family=\"Times,serif\" font-size=\"14.00\" fill=\"#000000\">value = [1572, 88]</text>\n",
       "</g>\n",
       "<!-- 5&#45;&gt;7 -->\n",
       "<g id=\"edge7\" class=\"edge\">\n",
       "<title>5&#45;&gt;7</title>\n",
       "<path fill=\"none\" stroke=\"#000000\" d=\"M662.1852,-329.4092C693.5714,-325.8656 729.2132,-321.8415 759.5254,-318.4192\"/>\n",
       "<polygon fill=\"#000000\" stroke=\"#000000\" points=\"760.0429,-321.8831 769.5871,-317.2832 759.2575,-314.9273 760.0429,-321.8831\"/>\n",
       "</g>\n",
       "<!-- 9 -->\n",
       "<g id=\"node10\" class=\"node\">\n",
       "<title>9</title>\n",
       "<polygon fill=\"#e5823b\" stroke=\"#000000\" points=\"656.1667,-245.5 507.1667,-245.5 507.1667,-177.5 656.1667,-177.5 656.1667,-245.5\"/>\n",
       "<text text-anchor=\"start\" x=\"515.1667\" y=\"-230.3\" font-family=\"Times,serif\" font-size=\"14.00\" fill=\"#000000\">ClaimSize ≤ 53600.982</text>\n",
       "<text text-anchor=\"start\" x=\"547.1667\" y=\"-215.3\" font-family=\"Times,serif\" font-size=\"14.00\" fill=\"#000000\">gini = 0.017</text>\n",
       "<text text-anchor=\"start\" x=\"537.1667\" y=\"-200.3\" font-family=\"Times,serif\" font-size=\"14.00\" fill=\"#000000\">samples = 1970</text>\n",
       "<text text-anchor=\"start\" x=\"529.6667\" y=\"-185.3\" font-family=\"Times,serif\" font-size=\"14.00\" fill=\"#000000\">value = [3086, 27]</text>\n",
       "</g>\n",
       "<!-- 8&#45;&gt;9 -->\n",
       "<g id=\"edge9\" class=\"edge\">\n",
       "<title>8&#45;&gt;9</title>\n",
       "<path fill=\"none\" stroke=\"#000000\" d=\"M394.7738,-211.5C425.4442,-211.5 463.2711,-211.5 496.853,-211.5\"/>\n",
       "<polygon fill=\"#000000\" stroke=\"#000000\" points=\"497.126,-215.0001 507.126,-211.5 497.126,-208.0001 497.126,-215.0001\"/>\n",
       "</g>\n",
       "<!-- 12 -->\n",
       "<g id=\"node13\" class=\"node\">\n",
       "<title>12</title>\n",
       "<polygon fill=\"#e99559\" stroke=\"#000000\" points=\"638.1667,-131.5 525.1667,-131.5 525.1667,-63.5 638.1667,-63.5 638.1667,-131.5\"/>\n",
       "<text text-anchor=\"start\" x=\"551.1667\" y=\"-116.3\" font-family=\"Times,serif\" font-size=\"14.00\" fill=\"#000000\">Fault ≤ 1.5</text>\n",
       "<text text-anchor=\"start\" x=\"547.1667\" y=\"-101.3\" font-family=\"Times,serif\" font-size=\"14.00\" fill=\"#000000\">gini = 0.237</text>\n",
       "<text text-anchor=\"start\" x=\"540.6667\" y=\"-86.3\" font-family=\"Times,serif\" font-size=\"14.00\" fill=\"#000000\">samples = 300</text>\n",
       "<text text-anchor=\"start\" x=\"533.1667\" y=\"-71.3\" font-family=\"Times,serif\" font-size=\"14.00\" fill=\"#000000\">value = [420, 67]</text>\n",
       "</g>\n",
       "<!-- 8&#45;&gt;12 -->\n",
       "<g id=\"edge12\" class=\"edge\">\n",
       "<title>8&#45;&gt;12</title>\n",
       "<path fill=\"none\" stroke=\"#000000\" d=\"M394.7738,-183.7582C431.3703,-166.8675 478.156,-145.2741 515.7613,-127.9178\"/>\n",
       "<polygon fill=\"#000000\" stroke=\"#000000\" points=\"517.4995,-130.9705 525.1124,-123.602 514.5661,-124.6147 517.4995,-130.9705\"/>\n",
       "</g>\n",
       "<!-- 10 -->\n",
       "<g id=\"node11\" class=\"node\">\n",
       "<title>10</title>\n",
       "<polygon fill=\"#e5823a\" stroke=\"#000000\" points=\"889.6667,-266 769.6667,-266 769.6667,-213 889.6667,-213 889.6667,-266\"/>\n",
       "<text text-anchor=\"start\" x=\"798.6667\" y=\"-250.8\" font-family=\"Times,serif\" font-size=\"14.00\" fill=\"#000000\">gini = 0.01</text>\n",
       "<text text-anchor=\"start\" x=\"785.1667\" y=\"-235.8\" font-family=\"Times,serif\" font-size=\"14.00\" fill=\"#000000\">samples = 1508</text>\n",
       "<text text-anchor=\"start\" x=\"777.6667\" y=\"-220.8\" font-family=\"Times,serif\" font-size=\"14.00\" fill=\"#000000\">value = [2381, 12]</text>\n",
       "</g>\n",
       "<!-- 9&#45;&gt;10 -->\n",
       "<g id=\"edge10\" class=\"edge\">\n",
       "<title>9&#45;&gt;10</title>\n",
       "<path fill=\"none\" stroke=\"#000000\" d=\"M656.4112,-219.9389C689.0992,-223.6295 727.2401,-227.9357 759.4017,-231.5669\"/>\n",
       "<polygon fill=\"#000000\" stroke=\"#000000\" points=\"759.2896,-235.0764 769.6192,-232.7204 760.075,-228.1206 759.2896,-235.0764\"/>\n",
       "</g>\n",
       "<!-- 11 -->\n",
       "<g id=\"node12\" class=\"node\">\n",
       "<title>11</title>\n",
       "<polygon fill=\"#e6843d\" stroke=\"#000000\" points=\"886.1667,-195 773.1667,-195 773.1667,-142 886.1667,-142 886.1667,-195\"/>\n",
       "<text text-anchor=\"start\" x=\"795.1667\" y=\"-179.8\" font-family=\"Times,serif\" font-size=\"14.00\" fill=\"#000000\">gini = 0.041</text>\n",
       "<text text-anchor=\"start\" x=\"788.6667\" y=\"-164.8\" font-family=\"Times,serif\" font-size=\"14.00\" fill=\"#000000\">samples = 462</text>\n",
       "<text text-anchor=\"start\" x=\"781.1667\" y=\"-149.8\" font-family=\"Times,serif\" font-size=\"14.00\" fill=\"#000000\">value = [705, 15]</text>\n",
       "</g>\n",
       "<!-- 9&#45;&gt;11 -->\n",
       "<g id=\"edge11\" class=\"edge\">\n",
       "<title>9&#45;&gt;11</title>\n",
       "<path fill=\"none\" stroke=\"#000000\" d=\"M656.4112,-198.5403C690.2747,-192.6688 729.9904,-185.7826 762.8477,-180.0855\"/>\n",
       "<polygon fill=\"#000000\" stroke=\"#000000\" points=\"763.5555,-183.5151 772.8106,-178.3581 762.3596,-176.618 763.5555,-183.5151\"/>\n",
       "</g>\n",
       "<!-- 13 -->\n",
       "<g id=\"node14\" class=\"node\">\n",
       "<title>13</title>\n",
       "<polygon fill=\"#eb9d65\" stroke=\"#000000\" points=\"886.1667,-124 773.1667,-124 773.1667,-71 886.1667,-71 886.1667,-124\"/>\n",
       "<text text-anchor=\"start\" x=\"795.1667\" y=\"-108.8\" font-family=\"Times,serif\" font-size=\"14.00\" fill=\"#000000\">gini = 0.297</text>\n",
       "<text text-anchor=\"start\" x=\"788.6667\" y=\"-93.8\" font-family=\"Times,serif\" font-size=\"14.00\" fill=\"#000000\">samples = 213</text>\n",
       "<text text-anchor=\"start\" x=\"781.1667\" y=\"-78.8\" font-family=\"Times,serif\" font-size=\"14.00\" fill=\"#000000\">value = [285, 63]</text>\n",
       "</g>\n",
       "<!-- 12&#45;&gt;13 -->\n",
       "<g id=\"edge13\" class=\"edge\">\n",
       "<title>12&#45;&gt;13</title>\n",
       "<path fill=\"none\" stroke=\"#000000\" d=\"M638.252,-97.5C675.2593,-97.5 723.7764,-97.5 762.7044,-97.5\"/>\n",
       "<polygon fill=\"#000000\" stroke=\"#000000\" points=\"762.8956,-101.0001 772.8956,-97.5 762.8956,-94.0001 762.8956,-101.0001\"/>\n",
       "</g>\n",
       "<!-- 14 -->\n",
       "<g id=\"node15\" class=\"node\">\n",
       "<title>14</title>\n",
       "<polygon fill=\"#e6853f\" stroke=\"#000000\" points=\"882.6667,-53 776.6667,-53 776.6667,0 882.6667,0 882.6667,-53\"/>\n",
       "<text text-anchor=\"start\" x=\"795.1667\" y=\"-37.8\" font-family=\"Times,serif\" font-size=\"14.00\" fill=\"#000000\">gini = 0.056</text>\n",
       "<text text-anchor=\"start\" x=\"792.1667\" y=\"-22.8\" font-family=\"Times,serif\" font-size=\"14.00\" fill=\"#000000\">samples = 87</text>\n",
       "<text text-anchor=\"start\" x=\"784.6667\" y=\"-7.8\" font-family=\"Times,serif\" font-size=\"14.00\" fill=\"#000000\">value = [135, 4]</text>\n",
       "</g>\n",
       "<!-- 12&#45;&gt;14 -->\n",
       "<g id=\"edge14\" class=\"edge\">\n",
       "<title>12&#45;&gt;14</title>\n",
       "<path fill=\"none\" stroke=\"#000000\" d=\"M638.252,-81.3002C676.4711,-70.3584 726.9661,-55.9022 766.4968,-44.5849\"/>\n",
       "<polygon fill=\"#000000\" stroke=\"#000000\" points=\"767.6462,-47.8965 776.2967,-41.7793 765.7195,-41.1669 767.6462,-47.8965\"/>\n",
       "</g>\n",
       "</g>\n",
       "</svg>\n"
      ],
      "text/plain": [
       "<graphviz.files.Source at 0x7f7be84ba1c0>"
      ]
     },
     "metadata": {},
     "output_type": "display_data"
    }
   ],
   "source": [
    "draw_tree(m.estimators_[0], X_valid, precision=3)"
   ]
  },
  {
   "cell_type": "code",
   "execution_count": 32,
   "id": "c31a651f-be4d-484d-9390-be8b50c3849e",
   "metadata": {},
   "outputs": [
    {
     "name": "stdout",
     "output_type": "stream",
     "text": [
      "Collecting package metadata (current_repodata.json): done\n",
      "Solving environment: done\n",
      "\n",
      "# All requested packages already installed.\n",
      "\n",
      "LightGBM Version: 3.2.1\n"
     ]
    }
   ],
   "source": [
    "import sys\n",
    "!conda install --yes --prefix {sys.prefix} -c conda-forge lightgbm\n",
    "import lightgbm as lgb\n",
    "\n",
    "print(\"LightGBM Version: {}\".format(lgb.__version__))"
   ]
  },
  {
   "cell_type": "code",
   "execution_count": 33,
   "id": "d65406ff-226f-44ba-bcb9-e6d9be5127c9",
   "metadata": {},
   "outputs": [
    {
     "name": "stderr",
     "output_type": "stream",
     "text": [
      "/Users/aniket/opt/anaconda3/lib/python3.8/site-packages/imblearn/under_sampling/_prototype_generation/_cluster_centroids.py:120: FutureWarning: 'n_jobs' was deprecated in 0.7 and will be removed in 0.9\n",
      "  warnings.warn(\n"
     ]
    },
    {
     "data": {
      "image/png": "[encoded data removed]",
      "text/plain": [
       "<Figure size 432x288 with 1 Axes>"
      ]
     },
     "metadata": {
      "needs_background": "light"
     },
     "output_type": "display_data"
    }
   ],
   "source": [
    "from imblearn.under_sampling import ClusterCentroids\n",
    "\n",
    "cc = ClusterCentroids(sampling_strategy={0: 6650}, n_jobs=-1)\n",
    "\n",
    "X_cc_full, y_cc_full = cc.fit_resample(df, y)\n",
    "\n",
    "plot_2d_space(X_cc_full, y_cc_full, 'Cluster Centroids Under-Sampling')"
   ]
  },
  {
   "cell_type": "code",
   "execution_count": 34,
   "id": "5e897944-c128-4025-a1e8-ac52ba711f60",
   "metadata": {},
   "outputs": [],
   "source": [
    "lgb_train = lgb.Dataset(X_cc_full, y_cc_full, free_raw_data=False)"
   ]
  },
  {
   "cell_type": "code",
   "execution_count": 35,
   "id": "a42e341c-73b1-4ece-978a-b63a8f8c626f",
   "metadata": {},
   "outputs": [],
   "source": [
    "parameters = {'num_leaves': 2**5,\n",
    "              'learning_rate': 0.05,\n",
    "              'is_unbalance': True,\n",
    "              'min_split_gain': 0.03,\n",
    "              'min_child_weight': 1,\n",
    "              'reg_lambda': 1,\n",
    "              'subsample': 1,\n",
    "              'objective':'binary',\n",
    "              #'device': 'gpu', #Comment this line if you are not using GPU\n",
    "              'task': 'train'}\n",
    "\n",
    "num_rounds = 500"
   ]
  },
  {
   "cell_type": "code",
   "execution_count": 36,
   "id": "0ef5cd69-1bb3-4afa-aa84-75f7199c6e14",
   "metadata": {},
   "outputs": [
    {
     "name": "stdout",
     "output_type": "stream",
     "text": [
      "[LightGBM] [Info] Number of positive: 685, number of negative: 6650\n",
      "[LightGBM] [Warning] Auto-choosing row-wise multi-threading, the overhead of testing was 0.001475 seconds.\n",
      "You can set `force_row_wise=true` to remove the overhead.\n",
      "And if memory is not enough, you can set `force_col_wise=true`.\n",
      "[LightGBM] [Info] Total Bins 936\n",
      "[LightGBM] [Info] Number of data points in the train set: 7335, number of used features: 35\n",
      "[LightGBM] [Info] [binary:BoostFromScore]: pavg=0.093388 -> initscore=-2.272953\n",
      "[LightGBM] [Info] Start training from score -2.272953\n",
      "CPU times: user 6.36 s, sys: 1.38 s, total: 7.75 s\n",
      "Wall time: 1.32 s\n"
     ]
    }
   ],
   "source": [
    "%%time\n",
    "clf = lgb.train(parameters, lgb_train, num_boost_round=num_rounds)"
   ]
  },
  {
   "cell_type": "code",
   "execution_count": 37,
   "id": "5ff5e67f-7cf5-4ee4-8cfa-4ad31dfe267b",
   "metadata": {},
   "outputs": [
    {
     "name": "stdout",
     "output_type": "stream",
     "text": [
      "[[1501    0]\n",
      " [ 140   94]]\n",
      "0.5731707317073171\n",
      "              precision    recall  f1-score   support\n",
      "\n",
      "           0       0.91      1.00      0.96      1501\n",
      "           1       1.00      0.40      0.57       234\n",
      "\n",
      "    accuracy                           0.92      1735\n",
      "   macro avg       0.96      0.70      0.76      1735\n",
      "weighted avg       0.93      0.92      0.90      1735\n",
      "\n"
     ]
    }
   ],
   "source": [
    "#With Policy Number\n",
    "y_prob = clf.predict(X_valid)\n",
    "\n",
    "y_pred = np.array([0 if i<0.45 else 1 for i in y_prob])\n",
    "\n",
    "error(y_pred, y_valid)"
   ]
  },
  {
   "cell_type": "code",
   "execution_count": 38,
   "id": "0bf2538e-f53d-4ab5-9497-39bfad8d9fd9",
   "metadata": {},
   "outputs": [],
   "source": [
    "y_prob = clf.predict(X_test)\n",
    "\n",
    "y_pred_test = np.array([0 if i<0.45 else 1 for i in y_prob])"
   ]
  },
  {
   "cell_type": "code",
   "execution_count": 39,
   "id": "44c35ab2-8422-4e2e-a9e0-edaa2e7bb185",
   "metadata": {},
   "outputs": [],
   "source": [
    "y_pred_df = pd.DataFrame(y_pred_test.reshape(-1, 1))"
   ]
  },
  {
   "cell_type": "code",
   "execution_count": 40,
   "id": "17184eed-7b48-49c5-966a-862be4bb961a",
   "metadata": {},
   "outputs": [],
   "source": [
    "y_pred_df.columns = ['FraudFound_P']"
   ]
  },
  {
   "cell_type": "code",
   "execution_count": 41,
   "id": "367d3cb6-291a-4eb2-8438-51e3b7a9b34d",
   "metadata": {},
   "outputs": [],
   "source": [
    "y_pred_df.to_csv('test_results.csv', index=False)"
   ]
  },
  {
   "cell_type": "code",
   "execution_count": 42,
   "id": "91a261b6-9028-46f1-8a2b-8a154521e9f9",
   "metadata": {},
   "outputs": [],
   "source": [
    "lgb_train = lgb.Dataset(X_cc_full.drop('PolicyNumber', axis=1), y_cc_full, free_raw_data=False)"
   ]
  },
  {
   "cell_type": "code",
   "execution_count": 43,
   "id": "9eb6be29-2616-42f0-a4d9-450f9b73a44e",
   "metadata": {},
   "outputs": [
    {
     "name": "stdout",
     "output_type": "stream",
     "text": [
      "[LightGBM] [Info] Number of positive: 685, number of negative: 6650\n",
      "[LightGBM] [Warning] Auto-choosing row-wise multi-threading, the overhead of testing was 0.001264 seconds.\n",
      "You can set `force_row_wise=true` to remove the overhead.\n",
      "And if memory is not enough, you can set `force_col_wise=true`.\n",
      "[LightGBM] [Info] Total Bins 681\n",
      "[LightGBM] [Info] Number of data points in the train set: 7335, number of used features: 34\n",
      "[LightGBM] [Info] [binary:BoostFromScore]: pavg=0.093388 -> initscore=-2.272953\n",
      "[LightGBM] [Info] Start training from score -2.272953\n",
      "CPU times: user 5.97 s, sys: 1.37 s, total: 7.34 s\n",
      "Wall time: 1.27 s\n"
     ]
    }
   ],
   "source": [
    "%%time\n",
    "clf = lgb.train(parameters, lgb_train, num_boost_round=num_rounds)"
   ]
  },
  {
   "cell_type": "code",
   "execution_count": 44,
   "id": "0005da5d-4d7d-40d6-908e-e01bff3147c7",
   "metadata": {},
   "outputs": [
    {
     "name": "stdout",
     "output_type": "stream",
     "text": [
      "(1735, 35)\n",
      "[[1367    0]\n",
      " [ 274   94]]\n",
      "0.4069264069264069\n",
      "              precision    recall  f1-score   support\n",
      "\n",
      "           0       0.83      1.00      0.91      1367\n",
      "           1       1.00      0.26      0.41       368\n",
      "\n",
      "    accuracy                           0.84      1735\n",
      "   macro avg       0.92      0.63      0.66      1735\n",
      "weighted avg       0.87      0.84      0.80      1735\n",
      "\n"
     ]
    }
   ],
   "source": [
    "#No Policy Number\n",
    "print(X_valid.shape)\n",
    "y_prob = clf.predict(X_valid.drop('PolicyNumber', axis=1))\n",
    "\n",
    "y_pred = np.array([0 if i<0.5 else 1 for i in y_prob])\n",
    "\n",
    "error(y_pred, y_valid)"
   ]
  },
  {
   "cell_type": "code",
   "execution_count": 45,
   "id": "32fbffc6-c730-43a7-8cff-a7d5d824ada0",
   "metadata": {},
   "outputs": [],
   "source": [
    "def gbm_feat_importance(m, df):\n",
    "    return pd.DataFrame({'cols': df.columns, 'imp': m.feature_importance()}).sort_values('imp', ascending=False)"
   ]
  },
  {
   "cell_type": "code",
   "execution_count": 46,
   "id": "1fb69044-7c60-4eaa-9fe9-7899a9f13f7a",
   "metadata": {},
   "outputs": [
    {
     "data": {
      "image/png": "[encoded data removed]",
      "text/plain": [
       "<Figure size 864x504 with 1 Axes>"
      ]
     },
     "metadata": {
      "needs_background": "light"
     },
     "output_type": "display_data"
    }
   ],
   "source": [
    "#Without using Policy Number\n",
    "fi = gbm_feat_importance(clf, df.drop('PolicyNumber', axis=1))\n",
    "plot_fi(fi[:30]);"
   ]
  },
  {
   "cell_type": "code",
   "execution_count": 48,
   "id": "60a992a7-ccb3-4b55-8133-61d82dd8084f",
   "metadata": {},
   "outputs": [
    {
     "data": {
      "text/plain": [
       "(925, 34)"
      ]
     },
     "execution_count": 48,
     "metadata": {},
     "output_type": "execute_result"
    }
   ],
   "source": [
    "(df_raw[(df_raw['FraudFound_P'] == 1) & (df_raw['Month'] == 'Dec')] ).shape\n",
    "(df_raw[(df_raw['FraudFound_P'] == 0) & (df_raw['Month'] == 'Dec')] ).shape"
   ]
  },
  {
   "cell_type": "code",
   "execution_count": 49,
   "id": "c33173e5-292c-4c4b-a4da-b93e8ae34294",
   "metadata": {},
   "outputs": [
    {
     "data": {
      "text/plain": [
       "<AxesSubplot:>"
      ]
     },
     "execution_count": 49,
     "metadata": {},
     "output_type": "execute_result"
    },
    {
     "data": {
      "image/png": "[encoded data removed]",
      "text/plain": [
       "<Figure size 432x288 with 1 Axes>"
      ]
     },
     "metadata": {
      "needs_background": "light"
     },
     "output_type": "display_data"
    }
   ],
   "source": [
    "df_raw['Month'][df_raw['FraudFound_P'] == 1].value_counts().plot(kind='barh')"
   ]
  },
  {
   "cell_type": "code",
   "execution_count": 50,
   "id": "143ce970-f320-41cc-a3ac-4ec34912d987",
   "metadata": {},
   "outputs": [
    {
     "data": {
      "text/plain": [
       "7     800\n",
       "9     760\n",
       "1     754\n",
       "16    739\n",
       "3     733\n",
       "5     729\n",
       "15    729\n",
       "10    728\n",
       "2     714\n",
       "14    713\n",
       "12    708\n",
       "6     703\n",
       "11    697\n",
       "4     696\n",
       "8     681\n",
       "13    681\n",
       "Name: RepNumber, dtype: int64"
      ]
     },
     "execution_count": 50,
     "metadata": {},
     "output_type": "execute_result"
    }
   ],
   "source": [
    "df_raw['RepNumber'].value_counts()"
   ]
  },
  {
   "cell_type": "code",
   "execution_count": 51,
   "id": "dbd05e04-75d5-4ab0-99bd-2677ab159a81",
   "metadata": {},
   "outputs": [
    {
     "data": {
      "text/plain": [
       "98545.374339    20\n",
       "69101.981954    19\n",
       "77167.223246    18\n",
       "58488.924392    18\n",
       "85555.916236    18\n",
       "                ..\n",
       "14887.379776     1\n",
       "19388.480868     1\n",
       "20994.079097     1\n",
       "18225.561061     1\n",
       "3127.750681      1\n",
       "Name: ClaimSize, Length: 3294, dtype: int64"
      ]
     },
     "execution_count": 51,
     "metadata": {},
     "output_type": "execute_result"
    }
   ],
   "source": [
    "(df_raw['ClaimSize'][df_raw['FraudFound_P'] == 0]).value_counts()"
   ]
  },
  {
   "cell_type": "code",
   "execution_count": 52,
   "id": "40a41e62-7d8c-475a-bf7d-688d0542838c",
   "metadata": {},
   "outputs": [],
   "source": [
    "import seaborn as sns"
   ]
  },
  {
   "cell_type": "code",
   "execution_count": 53,
   "id": "703b5c71-48f5-4ef1-8b5d-cfafc0fddf50",
   "metadata": {},
   "outputs": [
    {
     "name": "stderr",
     "output_type": "stream",
     "text": [
      "/Users/aniket/opt/anaconda3/lib/python3.8/site-packages/seaborn/distributions.py:2557: FutureWarning: `distplot` is a deprecated function and will be removed in a future version. Please adapt your code to use either `displot` (a figure-level function with similar flexibility) or `histplot` (an axes-level function for histograms).\n",
      "  warnings.warn(msg, FutureWarning)\n"
     ]
    },
    {
     "data": {
      "image/png": "[encoded data removed]",
      "text/plain": [
       "<Figure size 432x288 with 1 Axes>"
      ]
     },
     "metadata": {
      "needs_background": "light"
     },
     "output_type": "display_data"
    }
   ],
   "source": [
    "fraud = customers.loc[customers[\"FraudFound_P\"]==1]\n",
    "normal = customers.loc[customers[\"FraudFound_P\"]==0]\n",
    "sns.distplot(fraud.PolicyNumber)\n",
    "plt.show()"
   ]
  },
  {
   "cell_type": "code",
   "execution_count": 54,
   "id": "a35240e8-066f-4a53-adb0-fd4162dc292b",
   "metadata": {},
   "outputs": [
    {
     "data": {
      "image/png": "[encoded data removed]",
      "text/plain": [
       "<Figure size 1152x720 with 1 Axes>"
      ]
     },
     "metadata": {
      "needs_background": "light"
     },
     "output_type": "display_data"
    }
   ],
   "source": [
    "from scipy.cluster import hierarchy as hc\n",
    "\n",
    "correlation = np.round(scipy.stats.spearmanr(df).correlation, 4)\n",
    "correlation_condensed = hc.distance.squareform(1-correlation)\n",
    "z = hc.linkage(correlation_condensed, method='average')\n",
    "fig = plt.figure(figsize=(16, 10))\n",
    "\n",
    "dendrogram = hc.dendrogram(z, labels=df.columns,\n",
    "                           orientation='left',\n",
    "                           leaf_font_size=16)\n",
    "\n",
    "plt.show() "
   ]
  },
  {
   "cell_type": "code",
   "execution_count": 55,
   "id": "7408fffe-ba69-4bf5-aca4-97b77d2fd045",
   "metadata": {},
   "outputs": [
    {
     "name": "stdout",
     "output_type": "stream",
     "text": [
      "[[808  55]\n",
      " [833  39]]\n",
      "0.08074534161490685\n",
      "              precision    recall  f1-score   support\n",
      "\n",
      "           0       0.49      0.94      0.65       863\n",
      "           1       0.41      0.04      0.08       872\n",
      "\n",
      "    accuracy                           0.49      1735\n",
      "   macro avg       0.45      0.49      0.36      1735\n",
      "weighted avg       0.45      0.49      0.36      1735\n",
      "\n"
     ]
    }
   ],
   "source": [
    "from sklearn.svm import OneClassSVM\n",
    "\n",
    "m = OneClassSVM(gamma='scale', degree=3, kernel='rbf')\n",
    "\n",
    "m.fit(X_train)\n",
    "\n",
    "y_prob = m.predict(X_valid)\n",
    "\n",
    "y_prob[y_prob==-1].sum()\n",
    "\n",
    "y_pred = np.array([0 if i==-1 else 1 for i in y_prob])\n",
    "\n",
    "error(y_pred, y_valid)"
   ]
  },
  {
   "cell_type": "code",
   "execution_count": 56,
   "id": "d49f49a5-12fa-49b9-be49-e7190018cf7d",
   "metadata": {},
   "outputs": [
    {
     "name": "stdout",
     "output_type": "stream",
     "text": [
      "[[1258   70]\n",
      " [ 383   24]]\n",
      "0.09580838323353294\n",
      "              precision    recall  f1-score   support\n",
      "\n",
      "           0       0.77      0.95      0.85      1328\n",
      "           1       0.26      0.06      0.10       407\n",
      "\n",
      "    accuracy                           0.74      1735\n",
      "   macro avg       0.51      0.50      0.47      1735\n",
      "weighted avg       0.65      0.74      0.67      1735\n",
      "\n"
     ]
    }
   ],
   "source": [
    "m = IsolationForest(n_jobs=-1, n_estimators=100, max_features=0.5, bootstrap=True)\n",
    "\n",
    "m.fit(X_train)\n",
    "\n",
    "y_prob = m.predict(X_valid)\n",
    "\n",
    "y_prob[y_prob==1].sum()\n",
    "\n",
    "y_pred = np.array([1 if i==-1 else 0 for i in y_prob])\n",
    "\n",
    "error(y_pred, y_valid)"
   ]
  },
  {
   "cell_type": "code",
   "execution_count": 57,
   "id": "b1fb28b7-2f67-4f08-adf6-8f6c5e077357",
   "metadata": {},
   "outputs": [
    {
     "name": "stdout",
     "output_type": "stream",
     "text": [
      "[[1632   93]\n",
      " [   9    1]]\n",
      "0.01923076923076923\n",
      "              precision    recall  f1-score   support\n",
      "\n",
      "           0       0.99      0.95      0.97      1725\n",
      "           1       0.01      0.10      0.02        10\n",
      "\n",
      "    accuracy                           0.94      1735\n",
      "   macro avg       0.50      0.52      0.49      1735\n",
      "weighted avg       0.99      0.94      0.96      1735\n",
      "\n"
     ]
    }
   ],
   "source": [
    "from sklearn.neighbors import LocalOutlierFactor\n",
    "\n",
    "m = LocalOutlierFactor(novelty=True, n_neighbors=30, algorithm='ball_tree', leaf_size=40, p=5)\n",
    "\n",
    "m.fit(X_train)\n",
    "\n",
    "y_prob = m.predict(X_valid)\n",
    "\n",
    "y_pred = np.array([1 if i==-1 else 0 for i in y_prob])\n",
    "\n",
    "error(y_pred, y_valid)"
   ]
  },
  {
   "cell_type": "code",
   "execution_count": 58,
   "id": "c0f4937e-5757-496d-a858-000ef3390f33",
   "metadata": {},
   "outputs": [],
   "source": [
    "from imblearn.under_sampling import RandomUnderSampler, TomekLinks, ClusterCentroids\n",
    "from imblearn.over_sampling import RandomOverSampler, SMOTE\n",
    "from imblearn.combine import SMOTETomek"
   ]
  },
  {
   "cell_type": "code",
   "execution_count": 59,
   "id": "84e9d3cf-e691-4156-80fb-b60ef123ffad",
   "metadata": {},
   "outputs": [
    {
     "data": {
      "text/plain": [
       "9239"
      ]
     },
     "execution_count": 59,
     "metadata": {},
     "output_type": "execute_result"
    }
   ],
   "source": [
    "rus = RandomOverSampler(random_state=42)\n",
    "\n",
    "X_res, y_res = rus.fit_resample(X_train, y_train)\n",
    "\n",
    "y_res[y_res == 1].sum()"
   ]
  },
  {
   "cell_type": "code",
   "execution_count": 60,
   "id": "b98b4488-9087-468c-bd50-7ebd477200ce",
   "metadata": {},
   "outputs": [
    {
     "name": "stdout",
     "output_type": "stream",
     "text": [
      "[[9188    0]\n",
      " [  51  591]]\n",
      "0.9586374695863746\n",
      "              precision    recall  f1-score   support\n",
      "\n",
      "           0       0.99      1.00      1.00      9188\n",
      "           1       1.00      0.92      0.96       642\n",
      "\n",
      "    accuracy                           0.99      9830\n",
      "   macro avg       1.00      0.96      0.98      9830\n",
      "weighted avg       0.99      0.99      0.99      9830\n",
      "\n",
      "[[1597   73]\n",
      " [  44   21]]\n",
      "0.2641509433962264\n",
      "              precision    recall  f1-score   support\n",
      "\n",
      "           0       0.97      0.96      0.96      1670\n",
      "           1       0.22      0.32      0.26        65\n",
      "\n",
      "    accuracy                           0.93      1735\n",
      "   macro avg       0.60      0.64      0.61      1735\n",
      "weighted avg       0.95      0.93      0.94      1735\n",
      "\n"
     ]
    }
   ],
   "source": [
    "m = RandomForestClassifier(n_estimators=3, n_jobs=-1, max_features=0.5)\n",
    "\n",
    "m.fit(X_res, y_res)\n",
    "\n",
    "print_score(m)"
   ]
  },
  {
   "cell_type": "code",
   "execution_count": 63,
   "id": "d8d98b2d-abb9-4a2e-85d1-ed99719ba464",
   "metadata": {},
   "outputs": [
    {
     "data": {
      "image/png": "[encoded data removed]",
      "text/plain": [
       "<Figure size 432x288 with 1 Axes>"
      ]
     },
     "metadata": {
      "needs_background": "light"
     },
     "output_type": "display_data"
    }
   ],
   "source": [
    "tl = TomekLinks(sampling_strategy='not majority')\n",
    "\n",
    "X_tl, y_tl = tl.fit_resample(X_train, y_train)\n",
    "\n",
    "plot_2d_space(X_tl, y_tl, 'Tomek Links Under-Sampling')"
   ]
  },
  {
   "cell_type": "code",
   "execution_count": 64,
   "id": "d96f3ba0-1da3-4811-8d77-5b3feb979787",
   "metadata": {},
   "outputs": [
    {
     "name": "stdout",
     "output_type": "stream",
     "text": [
      "[[9224  381]\n",
      " [  15  210]]\n",
      "0.5147058823529412\n",
      "              precision    recall  f1-score   support\n",
      "\n",
      "           0       1.00      0.96      0.98      9605\n",
      "           1       0.36      0.93      0.51       225\n",
      "\n",
      "    accuracy                           0.96      9830\n",
      "   macro avg       0.68      0.95      0.75      9830\n",
      "weighted avg       0.98      0.96      0.97      9830\n",
      "\n",
      "[[1630   89]\n",
      " [  11    5]]\n",
      "0.0909090909090909\n",
      "              precision    recall  f1-score   support\n",
      "\n",
      "           0       0.99      0.95      0.97      1719\n",
      "           1       0.05      0.31      0.09        16\n",
      "\n",
      "    accuracy                           0.94      1735\n",
      "   macro avg       0.52      0.63      0.53      1735\n",
      "weighted avg       0.98      0.94      0.96      1735\n",
      "\n"
     ]
    }
   ],
   "source": [
    "m = RandomForestClassifier(n_estimators=3, n_jobs=-1, max_features=0.5)\n",
    "\n",
    "m.fit(X_tl, y_tl)\n",
    "\n",
    "print_score(m)"
   ]
  },
  {
   "cell_type": "code",
   "execution_count": 65,
   "id": "52d3058e-a065-4f2d-ad22-2b12071feec5",
   "metadata": {},
   "outputs": [
    {
     "name": "stderr",
     "output_type": "stream",
     "text": [
      "/Users/aniket/opt/anaconda3/lib/python3.8/site-packages/imblearn/under_sampling/_prototype_generation/_cluster_centroids.py:120: FutureWarning: 'n_jobs' was deprecated in 0.7 and will be removed in 0.9\n",
      "  warnings.warn(\n"
     ]
    },
    {
     "data": {
      "image/png": "[encoded data removed]",
      "text/plain": [
       "<Figure size 432x288 with 1 Axes>"
      ]
     },
     "metadata": {
      "needs_background": "light"
     },
     "output_type": "display_data"
    }
   ],
   "source": [
    "cc = ClusterCentroids(sampling_strategy={0: 6000}, n_jobs=-1)\n",
    "\n",
    "X_cc, y_cc = cc.fit_resample(X_train, y_train)\n",
    "\n",
    "plot_2d_space(X_cc, y_cc, 'Cluster Centroids under-sampling')"
   ]
  },
  {
   "cell_type": "code",
   "execution_count": 66,
   "id": "63b3a8e9-d0d0-4181-826d-ab8f5898b88a",
   "metadata": {},
   "outputs": [
    {
     "name": "stdout",
     "output_type": "stream",
     "text": [
      "[[8674  110]\n",
      " [ 565  481]]\n",
      "0.5876603543066586\n",
      "              precision    recall  f1-score   support\n",
      "\n",
      "           0       0.94      0.99      0.96      8784\n",
      "           1       0.81      0.46      0.59      1046\n",
      "\n",
      "    accuracy                           0.93      9830\n",
      "   macro avg       0.88      0.72      0.78      9830\n",
      "weighted avg       0.93      0.93      0.92      9830\n",
      "\n",
      "[[1515   69]\n",
      " [ 126   25]]\n",
      "0.20408163265306123\n",
      "              precision    recall  f1-score   support\n",
      "\n",
      "           0       0.92      0.96      0.94      1584\n",
      "           1       0.27      0.17      0.20       151\n",
      "\n",
      "    accuracy                           0.89      1735\n",
      "   macro avg       0.59      0.56      0.57      1735\n",
      "weighted avg       0.87      0.89      0.88      1735\n",
      "\n"
     ]
    }
   ],
   "source": [
    "m = RandomForestClassifier(n_estimators=3, n_jobs=-1, max_features=0.5)\n",
    "\n",
    "m.fit(X_cc, y_cc)\n",
    "\n",
    "print_score(m)"
   ]
  },
  {
   "cell_type": "code",
   "execution_count": 88,
   "id": "fc58f5d3-a31b-42e0-9ecf-4d32b844b2c7",
   "metadata": {},
   "outputs": [
    {
     "name": "stderr",
     "output_type": "stream",
     "text": [
      "/Users/aniket/opt/anaconda3/lib/python3.8/site-packages/imblearn/under_sampling/_prototype_generation/_cluster_centroids.py:120: FutureWarning: 'n_jobs' was deprecated in 0.7 and will be removed in 0.9\n",
      "  warnings.warn(\n"
     ]
    },
    {
     "data": {
      "image/png": "[encoded data removed]",
      "text/plain": [
       "<Figure size 432x288 with 1 Axes>"
      ]
     },
     "metadata": {
      "needs_background": "light"
     },
     "output_type": "display_data"
    }
   ],
   "source": [
    "cc = ClusterCentroids(sampling_strategy={0:6000}, n_jobs=4)\n",
    "\n",
    "X_cc, y_cc = cc.fit_resample(X_train.drop('PolicyNumber', axis=1), y_train)\n",
    "\n",
    "plot_2d_space(X_cc, y_cc, 'Cluster Centroids Under-Sampling')"
   ]
  },
  {
   "cell_type": "code",
   "execution_count": 69,
   "id": "92f7d905-9843-4844-b635-f18277e5d358",
   "metadata": {},
   "outputs": [
    {
     "name": "stdout",
     "output_type": "stream",
     "text": [
      "[[8510   94]\n",
      " [ 729  497]]\n",
      "0.5470555861309851\n",
      "              precision    recall  f1-score   support\n",
      "\n",
      "           0       0.92      0.99      0.95      8604\n",
      "           1       0.84      0.41      0.55      1226\n",
      "\n",
      "    accuracy                           0.92      9830\n",
      "   macro avg       0.88      0.70      0.75      9830\n",
      "weighted avg       0.91      0.92      0.90      9830\n",
      "\n",
      "[[1495   20]\n",
      " [ 146   74]]\n",
      "0.47133757961783446\n",
      "              precision    recall  f1-score   support\n",
      "\n",
      "           0       0.91      0.99      0.95      1515\n",
      "           1       0.79      0.34      0.47       220\n",
      "\n",
      "    accuracy                           0.90      1735\n",
      "   macro avg       0.85      0.66      0.71      1735\n",
      "weighted avg       0.90      0.90      0.89      1735\n",
      "\n"
     ]
    }
   ],
   "source": [
    "m = RandomForestClassifier(n_estimators=3, n_jobs=-1, max_features=0.5)\n",
    "\n",
    "m.fit(X_cc_full, y_cc_full)\n",
    "\n",
    "print_score(m)"
   ]
  },
  {
   "cell_type": "code",
   "execution_count": 79,
   "id": "a508f4c6-b009-4c81-b775-ecd253abb6d5",
   "metadata": {},
   "outputs": [
    {
     "data": {
      "image/png": "[encoded data removed]",
      "text/plain": [
       "<Figure size 432x288 with 1 Axes>"
      ]
     },
     "metadata": {
      "needs_background": "light"
     },
     "output_type": "display_data"
    }
   ],
   "source": [
    "smote = SMOTE(sampling_strategy='not majority')\n",
    "\n",
    "X_sm, y_sm = smote.fit_resample(X_train, y_train)\n",
    "\n",
    "plot_2d_space(X_sm, y_sm, 'SMOTE Over-Sampling')"
   ]
  },
  {
   "cell_type": "code",
   "execution_count": 71,
   "id": "4c15ad89-6dbc-4272-9c10-1f8a0eae2b3b",
   "metadata": {},
   "outputs": [
    {
     "name": "stdout",
     "output_type": "stream",
     "text": [
      "[[9120   60]\n",
      " [ 119  531]]\n",
      "0.8557614826752619\n",
      "              precision    recall  f1-score   support\n",
      "\n",
      "           0       0.99      0.99      0.99      9180\n",
      "           1       0.90      0.82      0.86       650\n",
      "\n",
      "    accuracy                           0.98      9830\n",
      "   macro avg       0.94      0.91      0.92      9830\n",
      "weighted avg       0.98      0.98      0.98      9830\n",
      "\n",
      "[[1508   70]\n",
      " [ 133   24]]\n",
      "0.19123505976095617\n",
      "              precision    recall  f1-score   support\n",
      "\n",
      "           0       0.92      0.96      0.94      1578\n",
      "           1       0.26      0.15      0.19       157\n",
      "\n",
      "    accuracy                           0.88      1735\n",
      "   macro avg       0.59      0.55      0.56      1735\n",
      "weighted avg       0.86      0.88      0.87      1735\n",
      "\n"
     ]
    }
   ],
   "source": [
    "m = RandomForestClassifier(n_estimators=3, n_jobs=-1, max_features=0.5)\n",
    "\n",
    "m.fit(X_sm, y_sm)\n",
    "\n",
    "print_score(m)"
   ]
  },
  {
   "cell_type": "code",
   "execution_count": 72,
   "id": "3213306c-6f86-4d73-8097-cbb3d27e1837",
   "metadata": {},
   "outputs": [
    {
     "data": {
      "image/png": "[encoded data removed]",
      "text/plain": [
       "<Figure size 432x288 with 1 Axes>"
      ]
     },
     "metadata": {
      "needs_background": "light"
     },
     "output_type": "display_data"
    }
   ],
   "source": [
    "smt = SMOTETomek(sampling_strategy='auto')\n",
    "\n",
    "X_smt, y_smt = smt.fit_resample(X_train, y_train)\n",
    "\n",
    "plot_2d_space(X_smt, y_smt, 'SMOTE + Tomek Links')"
   ]
  },
  {
   "cell_type": "code",
   "execution_count": 73,
   "id": "2817b32a-4566-4119-8321-5082ebcd089f",
   "metadata": {},
   "outputs": [
    {
     "data": {
      "text/plain": [
       "(8298,)"
      ]
     },
     "execution_count": 73,
     "metadata": {},
     "output_type": "execute_result"
    }
   ],
   "source": [
    "(y_smt[y_smt == 1]).shape"
   ]
  },
  {
   "cell_type": "code",
   "execution_count": 74,
   "id": "28e5088a-053c-4137-872d-f56ace03177c",
   "metadata": {},
   "outputs": [
    {
     "name": "stdout",
     "output_type": "stream",
     "text": [
      "[[9071   78]\n",
      " [ 168  513]]\n",
      "0.8066037735849056\n",
      "              precision    recall  f1-score   support\n",
      "\n",
      "           0       0.98      0.99      0.99      9149\n",
      "           1       0.87      0.75      0.81       681\n",
      "\n",
      "    accuracy                           0.97      9830\n",
      "   macro avg       0.92      0.87      0.90      9830\n",
      "weighted avg       0.97      0.97      0.97      9830\n",
      "\n",
      "[[1526   69]\n",
      " [ 115   25]]\n",
      "0.21367521367521367\n",
      "              precision    recall  f1-score   support\n",
      "\n",
      "           0       0.93      0.96      0.94      1595\n",
      "           1       0.27      0.18      0.21       140\n",
      "\n",
      "    accuracy                           0.89      1735\n",
      "   macro avg       0.60      0.57      0.58      1735\n",
      "weighted avg       0.88      0.89      0.88      1735\n",
      "\n"
     ]
    }
   ],
   "source": [
    "m = RandomForestClassifier(n_estimators=3, n_jobs=-1, max_features=0.5)\n",
    "\n",
    "m.fit(X_smt, y_smt)\n",
    "\n",
    "print_score(m)"
   ]
  }
 ],
 "metadata": {
  "kernelspec": {
   "display_name": "Python 3",
   "language": "python",
   "name": "python3"
  },
  "language_info": {
   "codemirror_mode": {
    "name": "ipython",
    "version": 3
   },
   "file_extension": ".py",
   "mimetype": "text/x-python",
   "name": "python",
   "nbconvert_exporter": "python",
   "pygments_lexer": "ipython3",
   "version": "3.8.8"
  }
 },
 "nbformat": 4,
 "nbformat_minor": 5
}
